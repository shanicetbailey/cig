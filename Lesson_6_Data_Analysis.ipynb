{
  "nbformat": 4,
  "nbformat_minor": 0,
  "metadata": {
    "colab": {
      "name": "Lesson_6_Data_Analysis.ipynb",
      "provenance": [],
      "authorship_tag": "ABX9TyOB+acGQdyAj+tWyXaAY7hr",
      "include_colab_link": true
    },
    "kernelspec": {
      "name": "python3",
      "display_name": "Python 3"
    },
    "language_info": {
      "name": "python"
    }
  },
  "cells": [
    {
      "cell_type": "markdown",
      "metadata": {
        "id": "view-in-github",
        "colab_type": "text"
      },
      "source": [
        "<a href=\"https://colab.research.google.com/github/stb2145/cig/blob/master/Lesson_6_Data_Analysis.ipynb\" target=\"_parent\"><img src=\"https://colab.research.google.com/assets/colab-badge.svg\" alt=\"Open In Colab\"/></a>"
      ]
    },
    {
      "cell_type": "markdown",
      "metadata": {
        "id": "t8ZjlhQpL5i5"
      },
      "source": [
        "# **Week 6: Data Analysis**\n",
        "\n",
        "**Learning Goals**\n",
        "- Have some fun exploring some small datasets! (30 min)"
      ]
    },
    {
      "cell_type": "markdown",
      "metadata": {
        "id": "aoFlrHIeYpid"
      },
      "source": [
        "## Stock Market Data\n",
        "Read in some stock market data from Google finance"
      ]
    },
    {
      "cell_type": "code",
      "metadata": {
        "colab": {
          "base_uri": "https://localhost:8080/"
        },
        "id": "m47BlZ1JYo3i",
        "outputId": "e759d92e-f9f2-47d9-ddb6-438d74f9b0cb"
      },
      "source": [
        "!curl -L -o goog.csv http://tinyurl.com/rces-goog\n",
        "!curl -L -o aapl.csv http://tinyurl.com/rces-aapl-csv"
      ],
      "execution_count": null,
      "outputs": [
        {
          "output_type": "stream",
          "text": [
            "  % Total    % Received % Xferd  Average Speed   Time    Time     Time  Current\n",
            "                                 Dload  Upload   Total   Spent    Left  Speed\n",
            "100   950    0   950    0     0   4112      0 --:--:-- --:--:-- --:--:--  4130\n",
            "100  1628    0  1628    0     0   6052      0 --:--:-- --:--:-- --:--:--  6052\n",
            "  % Total    % Received % Xferd  Average Speed   Time    Time     Time  Current\n",
            "                                 Dload  Upload   Total   Spent    Left  Speed\n",
            "100   902    0   902    0     0   5337      0 --:--:-- --:--:-- --:--:--  5337\n",
            "100  1628    0  1628    0     0   8099      0 --:--:-- --:--:-- --:--:--  8099\n"
          ],
          "name": "stdout"
        }
      ]
    },
    {
      "cell_type": "code",
      "metadata": {
        "colab": {
          "base_uri": "https://localhost:8080/"
        },
        "id": "IcnLHUxQYiXy",
        "outputId": "8d51a379-c799-4969-9bf6-75fd3d7086ac"
      },
      "source": [
        "! head goog.csv"
      ],
      "execution_count": null,
      "outputs": [
        {
          "output_type": "stream",
          "text": [
            "<html lang=en><meta charset=utf-8><meta name=viewport content=\"initial-scale=1, minimum-scale=1, width=device-width\"><title>Error 404 (Not Found)!!1</title><style nonce=\"smJITwjtGQgwSfJPzDFp1w\">*{margin:0;padding:0}html,code{font:15px/22px arial,sans-serif}html{background:#fff;color:#222;padding:15px}body{color:#222;text-align:unset;margin:7% auto 0;max-width:390px;min-height:180px;padding:30px 0 15px;}* > body{background:url(//www.google.com/images/errors/robot.png) 100% 5px no-repeat;padding-right:205px}p{margin:11px 0 22px;overflow:hidden}pre{white-space:pre-wrap;}ins{color:#777;text-decoration:none}a img{border:0}@media screen and (max-width:772px){body{background:none;margin-top:0;max-width:none;padding-right:0}}#logo{background:url(//www.google.com/images/branding/googlelogo/1x/googlelogo_color_150x54dp.png) no-repeat;margin-left:-5px}@media only screen and (min-resolution:192dpi){#logo{background:url(//www.google.com/images/branding/googlelogo/2x/googlelogo_color_150x54dp.png) no-repeat 0% 0%/100% 100%;-moz-border-image:url(//www.google.com/images/branding/googlelogo/2x/googlelogo_color_150x54dp.png) 0}}@media only screen and (-webkit-min-device-pixel-ratio:2){#logo{background:url(//www.google.com/images/branding/googlelogo/2x/googlelogo_color_150x54dp.png) no-repeat;-webkit-background-size:100% 100%}}#logo{display:inline-block;height:54px;width:150px}</style><div id=\"af-error-container\"><a href=//www.google.com><span id=logo aria-label=Google role=img></span></a><p><b>404.</b> <ins>That’s an error.</ins><p>The requested URL was not found on this server. <ins>That’s all we know.</ins></div>"
          ],
          "name": "stdout"
        }
      ]
    },
    {
      "cell_type": "code",
      "metadata": {
        "id": "dAGl4hsnZAev"
      },
      "source": [
        "import pandas as pd \n",
        "import numpy as np\n",
        "from matplotlib import pyplot as plt"
      ],
      "execution_count": null,
      "outputs": []
    },
    {
      "cell_type": "code",
      "metadata": {
        "colab": {
          "base_uri": "https://localhost:8080/",
          "height": 335
        },
        "id": "in5G7d6YY4gt",
        "outputId": "8480325b-ba3a-4da7-af56-b9423666bac0"
      },
      "source": [
        "goog = pd.read_csv('goog.csv')\n",
        "goog.head()"
      ],
      "execution_count": null,
      "outputs": [
        {
          "output_type": "execute_result",
          "data": {
            "text/html": [
              "<div>\n",
              "<style scoped>\n",
              "    .dataframe tbody tr th:only-of-type {\n",
              "        vertical-align: middle;\n",
              "    }\n",
              "\n",
              "    .dataframe tbody tr th {\n",
              "        vertical-align: top;\n",
              "    }\n",
              "\n",
              "    .dataframe thead th {\n",
              "        text-align: right;\n",
              "    }\n",
              "</style>\n",
              "<table border=\"1\" class=\"dataframe\">\n",
              "  <thead>\n",
              "    <tr style=\"text-align: right;\">\n",
              "      <th></th>\n",
              "      <th>&lt;html lang=en&gt;&lt;meta charset=utf-8&gt;&lt;meta name=viewport content=\"initial-scale=1</th>\n",
              "      <th>minimum-scale=1</th>\n",
              "      <th>width=device-width\"&gt;&lt;title&gt;Error 404 (Not Found)!!1&lt;/title&gt;&lt;style nonce=\"smJITwjtGQgwSfJPzDFp1w\"&gt;*{margin:0;padding:0}html</th>\n",
              "      <th>code{font:15px/22px arial</th>\n",
              "      <th>sans-serif}html{background:#fff;color:#222;padding:15px}body{color:#222;text-align:unset;margin:7% auto 0;max-width:390px;min-height:180px;padding:30px 0 15px;}* &gt; body{background:url(//www.google.com/images/errors/robot.png) 100% 5px no-repeat;padding-right:205px}p{margin:11px 0 22px;overflow:hidden}pre{white-space:pre-wrap;}ins{color:#777;text-decoration:none}a img{border:0}@media screen and (max-width:772px){body{background:none;margin-top:0;max-width:none;padding-right:0}}#logo{background:url(//www.google.com/images/branding/googlelogo/1x/googlelogo_color_150x54dp.png) no-repeat;margin-left:-5px}@media only screen and (min-resolution:192dpi){#logo{background:url(//www.google.com/images/branding/googlelogo/2x/googlelogo_color_150x54dp.png) no-repeat 0% 0%/100% 100%;-moz-border-image:url(//www.google.com/images/branding/googlelogo/2x/googlelogo_color_150x54dp.png) 0}}@media only screen and (-webkit-min-device-pixel-ratio:2){#logo{background:url(//www.google.com/images/branding/googlelogo/2x/googlelogo_color_150x54dp.png) no-repeat;-webkit-background-size:100% 100%}}#logo{display:inline-block;height:54px;width:150px}&lt;/style&gt;&lt;div id=\"af-error-container\"&gt;&lt;a href=//www.google.com&gt;&lt;span id=logo aria-label=Google role=img&gt;&lt;/span&gt;&lt;/a&gt;&lt;p&gt;&lt;b&gt;404.&lt;/b&gt; &lt;ins&gt;That’s an error.&lt;/ins&gt;&lt;p&gt;The requested URL was not found on this server. &lt;ins&gt;That’s all we know.&lt;/ins&gt;&lt;/div&gt;</th>\n",
              "    </tr>\n",
              "  </thead>\n",
              "  <tbody>\n",
              "  </tbody>\n",
              "</table>\n",
              "</div>"
            ],
            "text/plain": [
              "Empty DataFrame\n",
              "Columns: [<html lang=en><meta charset=utf-8><meta name=viewport content=\"initial-scale=1,  minimum-scale=1,  width=device-width\"><title>Error 404 (Not Found)!!1</title><style nonce=\"smJITwjtGQgwSfJPzDFp1w\">*{margin:0;padding:0}html, code{font:15px/22px arial, sans-serif}html{background:#fff;color:#222;padding:15px}body{color:#222;text-align:unset;margin:7% auto 0;max-width:390px;min-height:180px;padding:30px 0 15px;}* > body{background:url(//www.google.com/images/errors/robot.png) 100% 5px no-repeat;padding-right:205px}p{margin:11px 0 22px;overflow:hidden}pre{white-space:pre-wrap;}ins{color:#777;text-decoration:none}a img{border:0}@media screen and (max-width:772px){body{background:none;margin-top:0;max-width:none;padding-right:0}}#logo{background:url(//www.google.com/images/branding/googlelogo/1x/googlelogo_color_150x54dp.png) no-repeat;margin-left:-5px}@media only screen and (min-resolution:192dpi){#logo{background:url(//www.google.com/images/branding/googlelogo/2x/googlelogo_color_150x54dp.png) no-repeat 0% 0%/100% 100%;-moz-border-image:url(//www.google.com/images/branding/googlelogo/2x/googlelogo_color_150x54dp.png) 0}}@media only screen and (-webkit-min-device-pixel-ratio:2){#logo{background:url(//www.google.com/images/branding/googlelogo/2x/googlelogo_color_150x54dp.png) no-repeat;-webkit-background-size:100% 100%}}#logo{display:inline-block;height:54px;width:150px}</style><div id=\"af-error-container\"><a href=//www.google.com><span id=logo aria-label=Google role=img></span></a><p><b>404.</b> <ins>That’s an error.</ins><p>The requested URL was not found on this server. <ins>That’s all we know.</ins></div>]\n",
              "Index: []"
            ]
          },
          "metadata": {
            "tags": []
          },
          "execution_count": 6
        }
      ]
    },
    {
      "cell_type": "markdown",
      "metadata": {
        "id": "rHe7bdkPaKET"
      },
      "source": [
        "## Temperature Data\n",
        "\n",
        "We download some timeseries data from the [Berkeley Earth(http://berkeleyearth.org/) surface temperature dataset. This is timeseries data from various locations around earth. Let's get our local temperatures.\n",
        "\n"
      ]
    },
    {
      "cell_type": "code",
      "metadata": {
        "colab": {
          "base_uri": "https://localhost:8080/"
        },
        "id": "wqy0tt9zY-OQ",
        "outputId": "2e6a9973-5ba7-4188-a28d-8da8110b2132"
      },
      "source": [
        "! curl -o nyc_temp.txt http://berkeleyearth.lbl.gov/auto/Local/TAVG/Text/40.99N-74.56W-TAVG-Trend.txt\n"
      ],
      "execution_count": null,
      "outputs": [
        {
          "output_type": "stream",
          "text": [
            "  % Total    % Received % Xferd  Average Speed   Time    Time     Time  Current\n",
            "                                 Dload  Upload   Total   Spent    Left  Speed\n",
            "100  322k  100  322k    0     0   449k      0 --:--:-- --:--:-- --:--:--  449k\n"
          ],
          "name": "stdout"
        }
      ]
    },
    {
      "cell_type": "markdown",
      "metadata": {
        "id": "y3ge1kpadSig"
      },
      "source": [
        "> If we examine this data, we see it is NOT a well formated CSV file. Loading it will be a bit painful, but Pandas makes the job retatively easy."
      ]
    },
    {
      "cell_type": "code",
      "metadata": {
        "colab": {
          "base_uri": "https://localhost:8080/"
        },
        "id": "6_3ipHNaaMXT",
        "outputId": "f45ec001-d7a0-4763-c752-0b25498d4540"
      },
      "source": [
        "! head -72 nyc_temp.txt | tail -8"
      ],
      "execution_count": null,
      "outputs": [
        {
          "output_type": "stream",
          "text": [
            "% values are available.\n",
            "% \n",
            "%                  Monthly          Annual          Five-year        Ten-year        Twenty-year\n",
            "% Year, Month,  Anomaly, Unc.,   Anomaly, Unc.,   Anomaly, Unc.,   Anomaly, Unc.,   Anomaly, Unc.\n",
            " \n",
            "  1743     4    -2.959  1.881       NaN    NaN       NaN    NaN       NaN    NaN       NaN    NaN\n",
            "  1743     5    -0.467  1.278       NaN    NaN       NaN    NaN       NaN    NaN       NaN    NaN\n",
            "  1743     6       NaN    NaN       NaN    NaN       NaN    NaN       NaN    NaN       NaN    NaN\n"
          ],
          "name": "stdout"
        }
      ]
    },
    {
      "cell_type": "code",
      "metadata": {
        "colab": {
          "base_uri": "https://localhost:8080/"
        },
        "id": "a4NiK80Eaf_t",
        "outputId": "c291c1fc-f50b-45f0-c8db-1d6531c382d9"
      },
      "source": [
        "! head -30 nyc_temp.txt"
      ],
      "execution_count": null,
      "outputs": [
        {
          "output_type": "stream",
          "text": [
            "% This file contains an extracted local summary of land-surface \n",
            "% temperature results produced by the Berkeley Earth averaging \n",
            "% method for the location: \n",
            "% \n",
            "%    40.99 N, 74.56 W\n",
            "% \n",
            "% The Berkeley Earth method takes temperature observations from a large \n",
            "% collection of weather monitoring stations and produces an estimate of \n",
            "% the underlying global temperature field across all of the Earth's \n",
            "% land areas.  Once this temperature field has been generated, it is \n",
            "% possible to estimate the temperature evolution of individual locations \n",
            "% simply by sampling the field at the locaiton in question.  This \n",
            "% file contains such a local estimate.\n",
            "% \n",
            "% Temperatures are in Celsius and reported as anomalies relative to the \n",
            "% Jan 1951-Dec 1980 average.  Uncertainties represent the 95% confidence \n",
            "% interval for statistical noise and spatial undersampling effects.  Such \n",
            "% uncertainties are expected to account for the effects of random \n",
            "% noise as well as random biases affecting station trends and random \n",
            "% shifts in station baselines.  The analysis framework is expected to be \n",
            "% robust against most forms of bias; however, the impact of some forms of \n",
            "% possible systematic bias is still being studied.\n",
            "% \n",
            "% The current dataset presented here is described as: \n",
            "% \n",
            "%   Berkeley Earth analysis for mean temperature on complete dataset\n",
            "% \n",
            "% \n",
            "% This analysis was run on 06-Jan-2021 15:35:34\n",
            "% \n"
          ],
          "name": "stdout"
        }
      ]
    },
    {
      "cell_type": "code",
      "metadata": {
        "colab": {
          "base_uri": "https://localhost:8080/",
          "height": 202
        },
        "id": "5m7zm7_paROc",
        "outputId": "82be5186-ccd4-4771-86fe-2d85e122d8f1"
      },
      "source": [
        "##### http://berkeleyearth.lbl.gov/locations/40.99N-74.56W\n",
        "# http://berkeleyearth.lbl.gov/auto/Local/TAVG/Text/40.99N-74.56W-TAVG-Trend.txt\n",
        "\n",
        "\n",
        "#temp = pd.read_csv('nyc_temp.txt')\n",
        "\n",
        "col_names = ['year', 'month', 'monthly_anom'] #+ 10*[]\n",
        "temp = pd.read_csv('nyc_temp.txt',\n",
        "                   header=None, usecols=[0, 1, 2], names=col_names,\n",
        "                   delim_whitespace=True, comment='%')\n",
        "\n",
        "temp.head()"
      ],
      "execution_count": null,
      "outputs": [
        {
          "output_type": "execute_result",
          "data": {
            "text/html": [
              "<div>\n",
              "<style scoped>\n",
              "    .dataframe tbody tr th:only-of-type {\n",
              "        vertical-align: middle;\n",
              "    }\n",
              "\n",
              "    .dataframe tbody tr th {\n",
              "        vertical-align: top;\n",
              "    }\n",
              "\n",
              "    .dataframe thead th {\n",
              "        text-align: right;\n",
              "    }\n",
              "</style>\n",
              "<table border=\"1\" class=\"dataframe\">\n",
              "  <thead>\n",
              "    <tr style=\"text-align: right;\">\n",
              "      <th></th>\n",
              "      <th>year</th>\n",
              "      <th>month</th>\n",
              "      <th>monthly_anom</th>\n",
              "    </tr>\n",
              "  </thead>\n",
              "  <tbody>\n",
              "    <tr>\n",
              "      <th>0</th>\n",
              "      <td>1743</td>\n",
              "      <td>4</td>\n",
              "      <td>-2.959</td>\n",
              "    </tr>\n",
              "    <tr>\n",
              "      <th>1</th>\n",
              "      <td>1743</td>\n",
              "      <td>5</td>\n",
              "      <td>-0.467</td>\n",
              "    </tr>\n",
              "    <tr>\n",
              "      <th>2</th>\n",
              "      <td>1743</td>\n",
              "      <td>6</td>\n",
              "      <td>NaN</td>\n",
              "    </tr>\n",
              "    <tr>\n",
              "      <th>3</th>\n",
              "      <td>1743</td>\n",
              "      <td>7</td>\n",
              "      <td>0.084</td>\n",
              "    </tr>\n",
              "    <tr>\n",
              "      <th>4</th>\n",
              "      <td>1743</td>\n",
              "      <td>8</td>\n",
              "      <td>NaN</td>\n",
              "    </tr>\n",
              "  </tbody>\n",
              "</table>\n",
              "</div>"
            ],
            "text/plain": [
              "   year  month  monthly_anom\n",
              "0  1743      4        -2.959\n",
              "1  1743      5        -0.467\n",
              "2  1743      6           NaN\n",
              "3  1743      7         0.084\n",
              "4  1743      8           NaN"
            ]
          },
          "metadata": {
            "tags": []
          },
          "execution_count": 20
        }
      ]
    },
    {
      "cell_type": "code",
      "metadata": {
        "colab": {
          "base_uri": "https://localhost:8080/",
          "height": 414
        },
        "id": "CGQdne92bMpb",
        "outputId": "97ae524c-3ff4-4cd0-df11-ae3290423c4a"
      },
      "source": [
        "temp"
      ],
      "execution_count": null,
      "outputs": [
        {
          "output_type": "execute_result",
          "data": {
            "text/html": [
              "<div>\n",
              "<style scoped>\n",
              "    .dataframe tbody tr th:only-of-type {\n",
              "        vertical-align: middle;\n",
              "    }\n",
              "\n",
              "    .dataframe tbody tr th {\n",
              "        vertical-align: top;\n",
              "    }\n",
              "\n",
              "    .dataframe thead th {\n",
              "        text-align: right;\n",
              "    }\n",
              "</style>\n",
              "<table border=\"1\" class=\"dataframe\">\n",
              "  <thead>\n",
              "    <tr style=\"text-align: right;\">\n",
              "      <th></th>\n",
              "      <th>year</th>\n",
              "      <th>month</th>\n",
              "      <th>monthly_anom</th>\n",
              "    </tr>\n",
              "  </thead>\n",
              "  <tbody>\n",
              "    <tr>\n",
              "      <th>0</th>\n",
              "      <td>1743</td>\n",
              "      <td>4</td>\n",
              "      <td>-2.959</td>\n",
              "    </tr>\n",
              "    <tr>\n",
              "      <th>1</th>\n",
              "      <td>1743</td>\n",
              "      <td>5</td>\n",
              "      <td>-0.467</td>\n",
              "    </tr>\n",
              "    <tr>\n",
              "      <th>2</th>\n",
              "      <td>1743</td>\n",
              "      <td>6</td>\n",
              "      <td>NaN</td>\n",
              "    </tr>\n",
              "    <tr>\n",
              "      <th>3</th>\n",
              "      <td>1743</td>\n",
              "      <td>7</td>\n",
              "      <td>0.084</td>\n",
              "    </tr>\n",
              "    <tr>\n",
              "      <th>4</th>\n",
              "      <td>1743</td>\n",
              "      <td>8</td>\n",
              "      <td>NaN</td>\n",
              "    </tr>\n",
              "    <tr>\n",
              "      <th>...</th>\n",
              "      <td>...</td>\n",
              "      <td>...</td>\n",
              "      <td>...</td>\n",
              "    </tr>\n",
              "    <tr>\n",
              "      <th>3328</th>\n",
              "      <td>2020</td>\n",
              "      <td>8</td>\n",
              "      <td>1.656</td>\n",
              "    </tr>\n",
              "    <tr>\n",
              "      <th>3329</th>\n",
              "      <td>2020</td>\n",
              "      <td>9</td>\n",
              "      <td>0.580</td>\n",
              "    </tr>\n",
              "    <tr>\n",
              "      <th>3330</th>\n",
              "      <td>2020</td>\n",
              "      <td>10</td>\n",
              "      <td>1.033</td>\n",
              "    </tr>\n",
              "    <tr>\n",
              "      <th>3331</th>\n",
              "      <td>2020</td>\n",
              "      <td>11</td>\n",
              "      <td>2.503</td>\n",
              "    </tr>\n",
              "    <tr>\n",
              "      <th>3332</th>\n",
              "      <td>2020</td>\n",
              "      <td>12</td>\n",
              "      <td>1.939</td>\n",
              "    </tr>\n",
              "  </tbody>\n",
              "</table>\n",
              "<p>3333 rows × 3 columns</p>\n",
              "</div>"
            ],
            "text/plain": [
              "      year  month  monthly_anom\n",
              "0     1743      4        -2.959\n",
              "1     1743      5        -0.467\n",
              "2     1743      6           NaN\n",
              "3     1743      7         0.084\n",
              "4     1743      8           NaN\n",
              "...    ...    ...           ...\n",
              "3328  2020      8         1.656\n",
              "3329  2020      9         0.580\n",
              "3330  2020     10         1.033\n",
              "3331  2020     11         2.503\n",
              "3332  2020     12         1.939\n",
              "\n",
              "[3333 rows x 3 columns]"
            ]
          },
          "metadata": {
            "tags": []
          },
          "execution_count": 22
        }
      ]
    },
    {
      "cell_type": "markdown",
      "metadata": {
        "id": "2aPWKcmjcd95"
      },
      "source": [
        "> We have year and month, we need a day"
      ]
    },
    {
      "cell_type": "code",
      "metadata": {
        "id": "g2BRE4Jwbjl7"
      },
      "source": [
        "#first let's drop monthly_anom column\n",
        "date_df = temp.drop('monthly_anom', axis=1)\n",
        "date_df['day'] = 1"
      ],
      "execution_count": null,
      "outputs": []
    },
    {
      "cell_type": "code",
      "metadata": {
        "id": "xrk374iobvu6"
      },
      "source": [
        "#now create a datetime index to be our new index\n",
        "date_index = pd.DatetimeIndex(pd.to_datetime(date_df))"
      ],
      "execution_count": null,
      "outputs": []
    },
    {
      "cell_type": "code",
      "metadata": {
        "colab": {
          "base_uri": "https://localhost:8080/"
        },
        "id": "8L1jOpGAcA8M",
        "outputId": "a2091189-1b65-44b2-9748-b6a9f72e759b"
      },
      "source": [
        "date_index"
      ],
      "execution_count": null,
      "outputs": [
        {
          "output_type": "execute_result",
          "data": {
            "text/plain": [
              "DatetimeIndex(['1743-04-01', '1743-05-01', '1743-06-01', '1743-07-01',\n",
              "               '1743-08-01', '1743-09-01', '1743-10-01', '1743-11-01',\n",
              "               '1743-12-01', '1744-01-01',\n",
              "               ...\n",
              "               '2020-03-01', '2020-04-01', '2020-05-01', '2020-06-01',\n",
              "               '2020-07-01', '2020-08-01', '2020-09-01', '2020-10-01',\n",
              "               '2020-11-01', '2020-12-01'],\n",
              "              dtype='datetime64[ns]', length=3333, freq=None)"
            ]
          },
          "metadata": {
            "tags": []
          },
          "execution_count": 32
        }
      ]
    },
    {
      "cell_type": "code",
      "metadata": {
        "colab": {
          "base_uri": "https://localhost:8080/",
          "height": 202
        },
        "id": "IfD6IaVScKVl",
        "outputId": "ad25cb98-94e0-4a4c-88c6-9183e300f423"
      },
      "source": [
        "#now set the new index to be our date_index that we just created\n",
        "temp = temp.set_index(date_index).drop(['year', 'month'], axis=1)\n",
        "temp.head()"
      ],
      "execution_count": null,
      "outputs": [
        {
          "output_type": "execute_result",
          "data": {
            "text/html": [
              "<div>\n",
              "<style scoped>\n",
              "    .dataframe tbody tr th:only-of-type {\n",
              "        vertical-align: middle;\n",
              "    }\n",
              "\n",
              "    .dataframe tbody tr th {\n",
              "        vertical-align: top;\n",
              "    }\n",
              "\n",
              "    .dataframe thead th {\n",
              "        text-align: right;\n",
              "    }\n",
              "</style>\n",
              "<table border=\"1\" class=\"dataframe\">\n",
              "  <thead>\n",
              "    <tr style=\"text-align: right;\">\n",
              "      <th></th>\n",
              "      <th>monthly_anom</th>\n",
              "    </tr>\n",
              "  </thead>\n",
              "  <tbody>\n",
              "    <tr>\n",
              "      <th>1743-04-01</th>\n",
              "      <td>-2.959</td>\n",
              "    </tr>\n",
              "    <tr>\n",
              "      <th>1743-05-01</th>\n",
              "      <td>-0.467</td>\n",
              "    </tr>\n",
              "    <tr>\n",
              "      <th>1743-06-01</th>\n",
              "      <td>NaN</td>\n",
              "    </tr>\n",
              "    <tr>\n",
              "      <th>1743-07-01</th>\n",
              "      <td>0.084</td>\n",
              "    </tr>\n",
              "    <tr>\n",
              "      <th>1743-08-01</th>\n",
              "      <td>NaN</td>\n",
              "    </tr>\n",
              "  </tbody>\n",
              "</table>\n",
              "</div>"
            ],
            "text/plain": [
              "            monthly_anom\n",
              "1743-04-01        -2.959\n",
              "1743-05-01        -0.467\n",
              "1743-06-01           NaN\n",
              "1743-07-01         0.084\n",
              "1743-08-01           NaN"
            ]
          },
          "metadata": {
            "tags": []
          },
          "execution_count": 33
        }
      ]
    },
    {
      "cell_type": "code",
      "metadata": {
        "colab": {
          "base_uri": "https://localhost:8080/",
          "height": 264
        },
        "id": "5B5En4XbbU4b",
        "outputId": "40622aef-6e8e-4128-99bd-731a134617dd"
      },
      "source": [
        "temp.plot();"
      ],
      "execution_count": null,
      "outputs": [
        {
          "output_type": "display_data",
          "data": {
            "image/png": "[encoded data removed]",
            "text/plain": [
              "<Figure size 432x288 with 1 Axes>"
            ]
          },
          "metadata": {
            "tags": [],
            "needs_background": "light"
          }
        }
      ]
    },
    {
      "cell_type": "markdown",
      "metadata": {
        "id": "nATROpoydfix"
      },
      "source": [
        "> Pandas can do both time-based resampling and operation over fixed-length rolling windows. These are very similar but distinct; see discussion in [Pandas docs](https://pandas.pydata.org/pandas-docs/stable/user_guide/computation.html#windowing-functions)."
      ]
    },
    {
      "cell_type": "code",
      "metadata": {
        "colab": {
          "base_uri": "https://localhost:8080/",
          "height": 387
        },
        "id": "YJ8TscL7dY_t",
        "outputId": "d922c657-6747-4e84-a145-8b96a7e2bf42"
      },
      "source": [
        "fig, ax = plt.subplots(figsize=(12,6))\n",
        "temp.plot(ax=ax, color='purple')\n",
        "temp.resample('AS').mean().plot(ax=ax, color='orange')\n",
        "temp.resample('10AS').mean().plot(ax=ax, color='green')\n",
        "plt.xlabel('Time')\n",
        "plt.ylabel('Temperature [˚C]');"
      ],
      "execution_count": null,
      "outputs": [
        {
          "output_type": "display_data",
          "data": {
            "image/png": "[encoded data removed]",
            "text/plain": [
              "<Figure size 864x432 with 1 Axes>"
            ]
          },
          "metadata": {
            "tags": [],
            "needs_background": "light"
          }
        }
      ]
    },
    {
      "cell_type": "markdown",
      "metadata": {
        "id": "Fti5SE7feVTH"
      },
      "source": [
        "> `resampling` aliases [link here](https://pandas.pydata.org/pandas-docs/stable/user_guide/timeseries.html#offset-aliases).\n",
        "Resampling basically is like groupby where you group your items in a specified window size, then you tell python what operation you want done on your groups. Resampling does that for datetimeindex objects.\n",
        "\n",
        "> The concept of rolling window calculation is most primarily used in signal processing and time series data. In very simple words we take a window size of our choosing, say 5 days at a time and perform some desired mathematical operation on it."
      ]
    },
    {
      "cell_type": "code",
      "metadata": {
        "colab": {
          "base_uri": "https://localhost:8080/",
          "height": 268
        },
        "id": "0gROt2lFeAf-",
        "outputId": "1b36645f-f4b4-4784-fd98-8e3009097ca5"
      },
      "source": [
        "# more advanced operation on rolling windows\n",
        "def difference_max_min(data):\n",
        "    return data.max() - data.min()\n",
        "\n",
        "rw = temp.rolling('365D')\n",
        "rw.apply(difference_max_min).plot();"
      ],
      "execution_count": null,
      "outputs": [
        {
          "output_type": "display_data",
          "data": {
            "image/png": "[encoded data removed]",
            "text/plain": [
              "<Figure size 432x288 with 1 Axes>"
            ]
          },
          "metadata": {
            "tags": [],
            "needs_background": "light"
          }
        }
      ]
    },
    {
      "cell_type": "markdown",
      "metadata": {
        "id": "TvrXsAZ0i8WL"
      },
      "source": [
        "To create a \"climatology\" (i.e. the average of all same months), we can use Pandas' [`groupby`](https://pandas.pydata.org/pandas-docs/stable/user_guide/groupby.html) functionality."
      ]
    },
    {
      "cell_type": "code",
      "metadata": {
        "colab": {
          "base_uri": "https://localhost:8080/",
          "height": 265
        },
        "id": "Mxul3tdBhvn3",
        "outputId": "74dffd68-ce7e-46ab-f668-647a0c11d66a"
      },
      "source": [
        "# diurnal cycle has been removed!\n",
        "temp.groupby(temp.index.month).mean().plot();"
      ],
      "execution_count": null,
      "outputs": [
        {
          "output_type": "display_data",
          "data": {
            "image/png": "[encoded data removed]",
            "text/plain": [
              "<Figure size 432x288 with 1 Axes>"
            ]
          },
          "metadata": {
            "tags": [],
            "needs_background": "light"
          }
        }
      ]
    },
    {
      "cell_type": "markdown",
      "metadata": {
        "id": "qiygbF0pjvhb"
      },
      "source": [
        "> Let's find the hottest years\n"
      ]
    },
    {
      "cell_type": "code",
      "metadata": {
        "colab": {
          "base_uri": "https://localhost:8080/",
          "height": 355
        },
        "id": "51G-lLAHjQ4y",
        "outputId": "857d24e4-ec92-436b-d05a-8d17faf1c222"
      },
      "source": [
        "temp.groupby(temp.index.year).mean().sort_values('monthly_anom', ascending=False).head(10)"
      ],
      "execution_count": null,
      "outputs": [
        {
          "output_type": "execute_result",
          "data": {
            "text/html": [
              "<div>\n",
              "<style scoped>\n",
              "    .dataframe tbody tr th:only-of-type {\n",
              "        vertical-align: middle;\n",
              "    }\n",
              "\n",
              "    .dataframe tbody tr th {\n",
              "        vertical-align: top;\n",
              "    }\n",
              "\n",
              "    .dataframe thead th {\n",
              "        text-align: right;\n",
              "    }\n",
              "</style>\n",
              "<table border=\"1\" class=\"dataframe\">\n",
              "  <thead>\n",
              "    <tr style=\"text-align: right;\">\n",
              "      <th></th>\n",
              "      <th>monthly_anom</th>\n",
              "    </tr>\n",
              "  </thead>\n",
              "  <tbody>\n",
              "    <tr>\n",
              "      <th>2012</th>\n",
              "      <td>2.097833</td>\n",
              "    </tr>\n",
              "    <tr>\n",
              "      <th>1998</th>\n",
              "      <td>1.837333</td>\n",
              "    </tr>\n",
              "    <tr>\n",
              "      <th>2020</th>\n",
              "      <td>1.834583</td>\n",
              "    </tr>\n",
              "    <tr>\n",
              "      <th>2016</th>\n",
              "      <td>1.604500</td>\n",
              "    </tr>\n",
              "    <tr>\n",
              "      <th>2006</th>\n",
              "      <td>1.567250</td>\n",
              "    </tr>\n",
              "    <tr>\n",
              "      <th>1991</th>\n",
              "      <td>1.550417</td>\n",
              "    </tr>\n",
              "    <tr>\n",
              "      <th>1990</th>\n",
              "      <td>1.498417</td>\n",
              "    </tr>\n",
              "    <tr>\n",
              "      <th>2010</th>\n",
              "      <td>1.439250</td>\n",
              "    </tr>\n",
              "    <tr>\n",
              "      <th>2011</th>\n",
              "      <td>1.364917</td>\n",
              "    </tr>\n",
              "    <tr>\n",
              "      <th>1949</th>\n",
              "      <td>1.361750</td>\n",
              "    </tr>\n",
              "  </tbody>\n",
              "</table>\n",
              "</div>"
            ],
            "text/plain": [
              "      monthly_anom\n",
              "2012      2.097833\n",
              "1998      1.837333\n",
              "2020      1.834583\n",
              "2016      1.604500\n",
              "2006      1.567250\n",
              "1991      1.550417\n",
              "1990      1.498417\n",
              "2010      1.439250\n",
              "2011      1.364917\n",
              "1949      1.361750"
            ]
          },
          "metadata": {
            "tags": []
          },
          "execution_count": 52
        }
      ]
    },
    {
      "cell_type": "markdown",
      "metadata": {
        "id": "JW_v4k6PkD7U"
      },
      "source": [
        "## Groupby\n",
        "Now we will explore groupby's capabilities more in a public dataset from the City of New York: the [Rat Information Portal](https://data.cityofnewyork.us/Health/Rodent-Inspection/p937-wjvj)!"
      ]
    },
    {
      "cell_type": "code",
      "metadata": {
        "id": "cYxDfXVklJMm"
      },
      "source": [
        "rats = pd.read_csv('https://raw.githubusercontent.com/rahim-hashim/Intro-Python-Biology/main/Rodent_Inspection_cut.csv',\n",
        "                   parse_dates=['APPROVED_DATE', 'INSPECTION_DATE'])"
      ],
      "execution_count": 56,
      "outputs": []
    },
    {
      "cell_type": "code",
      "metadata": {
        "id": "p7oBnxwJlJ16",
        "colab": {
          "base_uri": "https://localhost:8080/",
          "height": 338
        },
        "outputId": "b0c30b54-2f05-4341-845f-785d1b872f4d"
      },
      "source": [
        "rats.head()"
      ],
      "execution_count": 58,
      "outputs": [
        {
          "output_type": "execute_result",
          "data": {
            "text/html": [
              "<div>\n",
              "<style scoped>\n",
              "    .dataframe tbody tr th:only-of-type {\n",
              "        vertical-align: middle;\n",
              "    }\n",
              "\n",
              "    .dataframe tbody tr th {\n",
              "        vertical-align: top;\n",
              "    }\n",
              "\n",
              "    .dataframe thead th {\n",
              "        text-align: right;\n",
              "    }\n",
              "</style>\n",
              "<table border=\"1\" class=\"dataframe\">\n",
              "  <thead>\n",
              "    <tr style=\"text-align: right;\">\n",
              "      <th></th>\n",
              "      <th>INSPECTION_TYPE</th>\n",
              "      <th>JOB_TICKET_OR_WORK_ORDER_ID</th>\n",
              "      <th>JOB_ID</th>\n",
              "      <th>JOB_PROGRESS</th>\n",
              "      <th>BBL</th>\n",
              "      <th>BORO_CODE</th>\n",
              "      <th>BLOCK</th>\n",
              "      <th>LOT</th>\n",
              "      <th>HOUSE_NUMBER</th>\n",
              "      <th>STREET_NAME</th>\n",
              "      <th>ZIP_CODE</th>\n",
              "      <th>X_COORD</th>\n",
              "      <th>Y_COORD</th>\n",
              "      <th>LATITUDE</th>\n",
              "      <th>LONGITUDE</th>\n",
              "      <th>BOROUGH</th>\n",
              "      <th>INSPECTION_DATE</th>\n",
              "      <th>RESULT</th>\n",
              "      <th>APPROVED_DATE</th>\n",
              "      <th>LOCATION</th>\n",
              "    </tr>\n",
              "  </thead>\n",
              "  <tbody>\n",
              "    <tr>\n",
              "      <th>0</th>\n",
              "      <td>Initial</td>\n",
              "      <td>11362943</td>\n",
              "      <td>PC7165804</td>\n",
              "      <td>1</td>\n",
              "      <td>3080220003</td>\n",
              "      <td>3</td>\n",
              "      <td>8022</td>\n",
              "      <td>3</td>\n",
              "      <td>0</td>\n",
              "      <td>Avenue J</td>\n",
              "      <td>NaN</td>\n",
              "      <td>1009897.0</td>\n",
              "      <td>171130.0</td>\n",
              "      <td>0.0</td>\n",
              "      <td>0.0</td>\n",
              "      <td>Brooklyn</td>\n",
              "      <td>2016-05-31 16:20:00</td>\n",
              "      <td>Failed for Other R</td>\n",
              "      <td>2016-06-08 11:04:00</td>\n",
              "      <td>(0.0, 0.0)</td>\n",
              "    </tr>\n",
              "    <tr>\n",
              "      <th>1</th>\n",
              "      <td>Initial</td>\n",
              "      <td>11510828</td>\n",
              "      <td>PC7493225</td>\n",
              "      <td>1</td>\n",
              "      <td>5031230130</td>\n",
              "      <td>5</td>\n",
              "      <td>3123</td>\n",
              "      <td>130</td>\n",
              "      <td>0</td>\n",
              "      <td>ALEX CIRCLE</td>\n",
              "      <td>NaN</td>\n",
              "      <td>NaN</td>\n",
              "      <td>NaN</td>\n",
              "      <td>0.0</td>\n",
              "      <td>0.0</td>\n",
              "      <td>Staten Island</td>\n",
              "      <td>2010-12-10 11:00:00</td>\n",
              "      <td>Rat Activity</td>\n",
              "      <td>2010-12-13 10:12:00</td>\n",
              "      <td>(0.0, 0.0)</td>\n",
              "    </tr>\n",
              "    <tr>\n",
              "      <th>2</th>\n",
              "      <td>Initial</td>\n",
              "      <td>12328443</td>\n",
              "      <td>PC6737067</td>\n",
              "      <td>1</td>\n",
              "      <td>2025390132</td>\n",
              "      <td>2</td>\n",
              "      <td>2539</td>\n",
              "      <td>132</td>\n",
              "      <td>10</td>\n",
              "      <td>MAJ WM DEEGAN BLVD</td>\n",
              "      <td>NaN</td>\n",
              "      <td>1003704.0</td>\n",
              "      <td>240136.0</td>\n",
              "      <td>0.0</td>\n",
              "      <td>0.0</td>\n",
              "      <td>Bronx</td>\n",
              "      <td>2017-09-12 14:45:00</td>\n",
              "      <td>Passed</td>\n",
              "      <td>2017-09-14 14:41:00</td>\n",
              "      <td>(0.0, 0.0)</td>\n",
              "    </tr>\n",
              "    <tr>\n",
              "      <th>3</th>\n",
              "      <td>Initial</td>\n",
              "      <td>11362643</td>\n",
              "      <td>PC7466087</td>\n",
              "      <td>1</td>\n",
              "      <td>5002210035</td>\n",
              "      <td>5</td>\n",
              "      <td>221</td>\n",
              "      <td>35</td>\n",
              "      <td>0</td>\n",
              "      <td>Roe Street</td>\n",
              "      <td>NaN</td>\n",
              "      <td>950510.0</td>\n",
              "      <td>169320.0</td>\n",
              "      <td>0.0</td>\n",
              "      <td>0.0</td>\n",
              "      <td>Staten Island</td>\n",
              "      <td>2016-06-02 15:08:00</td>\n",
              "      <td>Passed</td>\n",
              "      <td>2016-06-07 14:35:00</td>\n",
              "      <td>(0.0, 0.0)</td>\n",
              "    </tr>\n",
              "    <tr>\n",
              "      <th>4</th>\n",
              "      <td>Initial</td>\n",
              "      <td>13126767</td>\n",
              "      <td>PC7562340</td>\n",
              "      <td>1</td>\n",
              "      <td>1018790041</td>\n",
              "      <td>1</td>\n",
              "      <td>1879</td>\n",
              "      <td>41</td>\n",
              "      <td>NaN</td>\n",
              "      <td>NaN</td>\n",
              "      <td>10025.0</td>\n",
              "      <td>NaN</td>\n",
              "      <td>NaN</td>\n",
              "      <td>NaN</td>\n",
              "      <td>NaN</td>\n",
              "      <td>Manhattan</td>\n",
              "      <td>2020-01-27 12:50:00</td>\n",
              "      <td>Rat Activity</td>\n",
              "      <td>2020-01-28 10:52:00</td>\n",
              "      <td>NaN</td>\n",
              "    </tr>\n",
              "  </tbody>\n",
              "</table>\n",
              "</div>"
            ],
            "text/plain": [
              "  INSPECTION_TYPE  JOB_TICKET_OR_WORK_ORDER_ID  ...       APPROVED_DATE    LOCATION\n",
              "0         Initial                     11362943  ... 2016-06-08 11:04:00  (0.0, 0.0)\n",
              "1         Initial                     11510828  ... 2010-12-13 10:12:00  (0.0, 0.0)\n",
              "2         Initial                     12328443  ... 2017-09-14 14:41:00  (0.0, 0.0)\n",
              "3         Initial                     11362643  ... 2016-06-07 14:35:00  (0.0, 0.0)\n",
              "4         Initial                     13126767  ... 2020-01-28 10:52:00         NaN\n",
              "\n",
              "[5 rows x 20 columns]"
            ]
          },
          "metadata": {
            "tags": []
          },
          "execution_count": 58
        }
      ]
    },
    {
      "cell_type": "code",
      "metadata": {
        "id": "8UBpBjs_p6qW"
      },
      "source": [
        ""
      ],
      "execution_count": null,
      "outputs": []
    }
  ]
}