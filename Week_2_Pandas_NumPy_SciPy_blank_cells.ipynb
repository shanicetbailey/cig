{
  "nbformat": 4,
  "nbformat_minor": 0,
  "metadata": {
    "colab": {
      "name": "Week_5_Salinity_Pandas.ipynb",
      "provenance": [],
      "include_colab_link": true
    },
    "kernelspec": {
      "name": "python3",
      "display_name": "Python 3"
    }
  },
  "cells": [
    {
      "cell_type": "markdown",
      "metadata": {
        "id": "view-in-github",
        "colab_type": "text"
      },
      "source": [
        "<a href=\"https://colab.research.google.com/github/stb2145/cig/blob/master/Week_2_Pandas_NumPy_SciPy_blank_cells.ipynb\" target=\"_parent\"><img src=\"https://colab.research.google.com/assets/colab-badge.svg\" alt=\"Open In Colab\"/></a>"
      ]
    },
    {
      "cell_type": "markdown",
      "metadata": {
        "id": "t8ZjlhQpL5i5"
      },
      "source": [
        "# **Week 2: Pandas, NumPy, SciPy**\n",
        "\n",
        "**Learning Goals**\n",
        "- Learn about/ `import` [Python libraries](http://swcarpentry.github.io/python-novice-gapminder/06-libraries/index.html) (20 min)\n",
        "- Learn about [Pandas](http://swcarpentry.github.io/python-novice-gapminder/07-reading-tabular/index.html) (50 min)\n",
        "- Learn about SciPy (20 min)"
      ]
    },
    {
      "cell_type": "markdown",
      "metadata": {
        "id": "mtxipZTZFeZG"
      },
      "source": [
        "# **Solution to Week 1 exercises**\n",
        "\n",
        "## Breakout rooms!\n",
        "\n",
        "- Breakout rooms (5 min)\n",
        "\n",
        "- Share results (5 min)\n",
        "\n"
      ]
    },
    {
      "cell_type": "code",
      "metadata": {
        "id": "l5lHiBXwj0EU"
      },
      "source": [
        ""
      ],
      "execution_count": null,
      "outputs": []
    },
    {
      "cell_type": "markdown",
      "metadata": {
        "id": "UDeeHgvX4Ziq"
      },
      "source": [
        "# **Open files with `open()`**\n",
        "\n"
      ]
    },
    {
      "cell_type": "markdown",
      "metadata": {
        "id": "jCst986N4mOc"
      },
      "source": [
        "> A common way to work with files in Python is to create file handler with “open” statement and work with the file. After finishing the work with the file, we need to close the file handler with close statement. For example, if we want to read all lines of a file using Python , we use\n",
        "\n",
        "```\n",
        "fh = open(filename,'r')\n",
        "all_lines = fh.readlines()\n",
        "fh.close()\n",
        "```\n",
        "\n",
        "Example code taken from [this website](https://cmdlinetips.com/2016/01/opening-a-file-in-python-using-with-statement/)."
      ]
    },
    {
      "cell_type": "code",
      "metadata": {
        "id": "Nga07r1z6na4"
      },
      "source": [
        ""
      ],
      "execution_count": null,
      "outputs": []
    },
    {
      "cell_type": "code",
      "metadata": {
        "id": "chJjO1s06nSC"
      },
      "source": [
        ""
      ],
      "execution_count": null,
      "outputs": []
    },
    {
      "cell_type": "markdown",
      "metadata": {
        "id": "yPIyaunr41Rw"
      },
      "source": [
        "> Sometimes, you don't always remember to close the file once we are done with the file. We can use `with` statement in Python such that we don’t have to close the file handler. \n",
        "\n",
        "> The with statement creates a context manager and it will automatically close the file handler for you when you are done with it. Here is an example using with statement to read all lines of a file.\n",
        "\n",
        "```\n",
        "with open(filename,'r') as fh\n",
        "     all_lines = fh.readlines()\n",
        "```"
      ]
    },
    {
      "cell_type": "code",
      "metadata": {
        "id": "OY99IXs_6nJt"
      },
      "source": [
        ""
      ],
      "execution_count": null,
      "outputs": []
    },
    {
      "cell_type": "code",
      "metadata": {
        "id": "YQesWkrp6stX"
      },
      "source": [
        ""
      ],
      "execution_count": null,
      "outputs": []
    },
    {
      "cell_type": "markdown",
      "metadata": {
        "id": "cPmmek6-U7zi"
      },
      "source": [
        "# **What are Python Libraries?**\n",
        "##Most of the power of a programming language is in its libraries.\n",
        "\n",
        "> A Python package is a collection/directory of Python modules. In other words, it's a library of python files and in those files are scripts of code with specific functions.\n",
        "\n",
        "<img src='https://drive.google.com/uc?id=1C7Y1p1Nlj0QhLqEPUGMoU6FP1QWMqrFU' width=\"520\" height=\"300\" />\n",
        "\n",
        "- A library is a collection of files (called modules) that contains functions for use by other programs.\n",
        " - May also contain data values (e.g., numerical constants) and other things.\n",
        " - Library’s contents are supposed to be related, but there’s no way to enforce that.\n",
        "- The Python [standard library](https://docs.python.org/3/library/) is an extensive suite of modules that comes with Python itself.\n",
        "- Many additional libraries are available from [PyPI](https://pypi.org/) (the Python Package Index).\n",
        "- We will see later how to write new libraries.\n",
        "\n"
      ]
    },
    {
      "cell_type": "markdown",
      "metadata": {
        "id": "Tk35u6SFZlU7"
      },
      "source": [
        "> **Libraries and Modules**\n",
        ">\n",
        "> A library is a collection of modules, but the terms are often used interchangeably, especially since many libraries only consist of a single module, so don’t worry if you mix them."
      ]
    },
    {
      "cell_type": "markdown",
      "metadata": {
        "id": "Zd9iyrt1Z03P"
      },
      "source": [
        "## A program must import a library module before using it.\n",
        "\n",
        "- Use `import` to load a library module into a program’s memory.\n",
        "- Then refer to things from the module as `module_name.thing_name`.\n",
        " - Python uses `.` to mean “part of”.\n",
        "- Using `numpy`, one of the modules in the standard library:"
      ]
    },
    {
      "cell_type": "code",
      "metadata": {
        "id": "CSKBFzjMccG8"
      },
      "source": [
        ""
      ],
      "execution_count": null,
      "outputs": []
    },
    {
      "cell_type": "markdown",
      "metadata": {
        "id": "uQJnGttJcpm5"
      },
      "source": [
        "> Have to refer to each item with the module’s name.\n",
        ">> `numpy.cos(pi)` won’t work: the reference to `pi` doesn’t somehow “inherit” the function’s reference to `numpy`"
      ]
    },
    {
      "cell_type": "markdown",
      "metadata": {
        "id": "jazIo9V_c4cB"
      },
      "source": [
        "## Use `help` to learn about the contents of a library module.\n",
        "\n",
        "> [Numpy Documentation](https://numpy.org/doc/)"
      ]
    },
    {
      "cell_type": "code",
      "metadata": {
        "id": "8kyCdYd3dtTf"
      },
      "source": [
        ""
      ],
      "execution_count": null,
      "outputs": []
    },
    {
      "cell_type": "markdown",
      "metadata": {
        "id": "5ePVxXhBfTAM"
      },
      "source": [
        "### Difference between `math` and `numpy`\n",
        "[from StackOverflow](https://stackoverflow.com/questions/41648058/what-is-the-difference-between-import-numpy-and-import-math)\n",
        "\n",
        "- Use `math` if you are doing simple comutations with only with scalars (and no lists or arrays).\n",
        "> `math` is part of the standard python library. It provides functions for basic mathematical operations as well as some commonly used constants.\n",
        "\n",
        "- Use `numpy` if you are doing scientific computations with matrices, arrays, or large datasets.\n",
        "> numpy on the other hand is a third party package geared towards scientific computing. It is the defacto package for numerical and vector operations in python. It provides several routines optimized for vector and array computations as a result, is a lot faster for such operations than say just using python lists. See http://www.numpy.org/ for more info."
      ]
    },
    {
      "cell_type": "markdown",
      "metadata": {
        "id": "aBrLq7GQdHgv"
      },
      "source": [
        "## Import specific items from a library module to shorten programs."
      ]
    },
    {
      "cell_type": "code",
      "metadata": {
        "id": "d523PZHvdORx"
      },
      "source": [
        ""
      ],
      "execution_count": null,
      "outputs": []
    },
    {
      "cell_type": "markdown",
      "metadata": {
        "id": "ep4WQBOOeXpx"
      },
      "source": [
        "## Create an alias for a library module when importing it to shorten programs.\n",
        "\n",
        "> Use `import ... as ...` to give a library a short alias while importing it.\n",
        ">\n",
        "> Then refer to items in the library using that shortened name."
      ]
    },
    {
      "cell_type": "code",
      "metadata": {
        "id": "XXILQGeUeo4v"
      },
      "source": [
        ""
      ],
      "execution_count": null,
      "outputs": []
    },
    {
      "cell_type": "markdown",
      "metadata": {
        "id": "Tk1vRvskXMic"
      },
      "source": [
        "### Essential Python libraries:\n",
        "\n",
        "- `numpy`\n",
        "- `pandas`\n",
        "- `matplotlib`\n",
        "\n",
        "### Create alias for these libraries:"
      ]
    },
    {
      "cell_type": "code",
      "metadata": {
        "id": "ohitEnu4UuGU"
      },
      "source": [
        ""
      ],
      "execution_count": null,
      "outputs": []
    },
    {
      "cell_type": "markdown",
      "metadata": {
        "id": "sQRBemb2hlwr"
      },
      "source": [
        "## A few exercises:"
      ]
    },
    {
      "cell_type": "markdown",
      "metadata": {
        "id": "1xg5I_dfhpW_"
      },
      "source": [
        "## 1)\n",
        "\n",
        "When a colleague of yours types `help(math)`, Python reports an error:\n",
        "\n",
        "`NameError: name 'math' is not defined`\n",
        "\n",
        "What has your colleague forgotten to do?"
      ]
    },
    {
      "cell_type": "code",
      "metadata": {
        "id": "rJSvaBO2ifGU"
      },
      "source": [
        "#type solution here\n"
      ],
      "execution_count": null,
      "outputs": []
    },
    {
      "cell_type": "markdown",
      "metadata": {
        "id": "fWHg_SglhpDW"
      },
      "source": [
        "## 2)\n",
        "Take the square root of a 4x4 2-D array with the number 144 in the diagonals and 0's elsewhere."
      ]
    },
    {
      "cell_type": "code",
      "metadata": {
        "id": "Nyc2h_cZjvDm"
      },
      "source": [
        ""
      ],
      "execution_count": null,
      "outputs": []
    },
    {
      "cell_type": "markdown",
      "metadata": {
        "id": "cQDNb5jgkua9"
      },
      "source": [
        "## 3)\n",
        "Create a 1D array of numbers going from 0 to 20 with 2 as the step count.\n",
        "\n",
        "What is the length of this object?"
      ]
    },
    {
      "cell_type": "code",
      "metadata": {
        "id": "PzTZbWkVk3Qv"
      },
      "source": [
        ""
      ],
      "execution_count": null,
      "outputs": []
    },
    {
      "cell_type": "markdown",
      "metadata": {
        "id": "lpCJ7yRGc2cc"
      },
      "source": [
        "# **Pandas!**\n",
        "\n",
        "<img width=\"400\" src='https://miro.medium.com/max/1400/1*KdxlBR9P3mDp9JZ_URMdYQ.jpeg'>\n",
        "\n",
        "## No but seriously, `pandas` is a powerful Python library that allows for efficient, high-performing analysis (typically statistics) on _tabular_ data (i.e. excel sheet type of data).\n",
        "\n",
        "> Pandas is built on top of the Numpy library, which in practice means that most of the methods defined for Numpy Arrays apply to Pandas Series/DataFrames."
      ]
    },
    {
      "cell_type": "markdown",
      "metadata": {
        "id": "SkNthSPeZbsz"
      },
      "source": [
        "### Pandas Capabilities\n",
        "\n",
        "[Documentation](https://pandas.pydata.org/pandas-docs/stable/)\n"
      ]
    },
    {
      "cell_type": "markdown",
      "metadata": {
        "id": "tZQvjzjlxvXD"
      },
      "source": [
        "\n",
        "- A fast and efficient DataFrame object for data manipulation with integrated indexing;\n",
        "- Tools for reading and writing data between in-memory data structures and different formats: CSV and text files, Microsoft Excel, SQL databases, and the fast HDF5 format;\n",
        "- Intelligent data alignment and integrated handling of missing data: gain automatic label-based alignment in computations and easily manipulate messy data into an orderly form;\n",
        "- Flexible reshaping and pivoting of data sets;\n",
        "- Intelligent label-based slicing, fancy indexing, and subsetting of large data sets;\n",
        "- Columns can be inserted and deleted from data structures for size mutability;\n",
        "- Aggregating or transforming data with a powerful group by engine allowing split-apply-combine operations on data sets;\n",
        "- High performance merging and joining of data sets;\n",
        "- Hierarchical axis indexing provides an intuitive way of working with high-dimensional data in a lower-dimensional data structure;\n",
        "- Time series-functionality: date range generation and frequency conversion, moving window statistics, moving window linear regressions, date shifting and lagging. Even create domain-specific time offsets and join time series without losing data;\n",
        "- Highly optimized for performance, with critical code paths written in Cython or C.\n",
        "- Python with pandas is in use in a wide variety of academic and commercial domains, including Finance, Neuroscience, Economics, Statistics, Advertising, Web Analytics, and more."
      ]
    },
    {
      "cell_type": "markdown",
      "metadata": {
        "id": "smkjZ2oxxril"
      },
      "source": [
        "### **There are two main data structures in pandas**\n",
        "\n",
        "> **Data Series**: 1-dimensional array of values with an index\n",
        ">\n",
        "> **Data Frame**: 2-dimensional array of values with a row and a column index\n",
        "\n",
        "> A DataFrame is a collection of Series; The DataFrame is the way Pandas represents a table, and Series is the data-structure Pandas use to represent a column.\n"
      ]
    },
    {
      "cell_type": "markdown",
      "metadata": {
        "id": "ctnPb5buzPBK"
      },
      "source": [
        "## Data series (left), Data Frame (right)\n",
        "\n",
        "Introduce pd frame and series with class age and height, with the names as index and age/height as values."
      ]
    },
    {
      "cell_type": "markdown",
      "metadata": {
        "id": "ACc2bAe1d7TW"
      },
      "source": [
        "<img width=\"500\" src='https://miro.medium.com/max/1400/1*o5c599ueURBTZWDGmx1SiA.png'>"
      ]
    },
    {
      "cell_type": "markdown",
      "metadata": {
        "id": "f269SEDUmcQY"
      },
      "source": [
        "> Anytime you need more information on a package/function, call `?` after the function name."
      ]
    },
    {
      "cell_type": "code",
      "metadata": {
        "id": "CU3zQl7WmYWg"
      },
      "source": [
        ""
      ],
      "execution_count": null,
      "outputs": []
    },
    {
      "cell_type": "markdown",
      "metadata": {
        "id": "x3c7uSDagkVn"
      },
      "source": [
        "## Pandas Data Series:"
      ]
    },
    {
      "cell_type": "code",
      "metadata": {
        "id": "XaHswcq8mDqi"
      },
      "source": [
        ""
      ],
      "execution_count": null,
      "outputs": []
    },
    {
      "cell_type": "code",
      "metadata": {
        "id": "-dRZeqbWtfBm"
      },
      "source": [
        ""
      ],
      "execution_count": null,
      "outputs": []
    },
    {
      "cell_type": "markdown",
      "metadata": {
        "id": "DCYPBJyRsz_W"
      },
      "source": [
        "> You can use many statistical functions on both Series and DataFrames."
      ]
    },
    {
      "cell_type": "code",
      "metadata": {
        "id": "s_PRteMFrEoJ"
      },
      "source": [
        "#oldest age in your series\n"
      ],
      "execution_count": null,
      "outputs": []
    },
    {
      "cell_type": "code",
      "metadata": {
        "id": "bD3NVjo0rVOK"
      },
      "source": [
        "#youngest age value in your series\n"
      ],
      "execution_count": null,
      "outputs": []
    },
    {
      "cell_type": "code",
      "metadata": {
        "id": "QFj5JpPLrYsM"
      },
      "source": [
        "#average age in the whole club\n"
      ],
      "execution_count": null,
      "outputs": []
    },
    {
      "cell_type": "markdown",
      "metadata": {
        "id": "XUMERkPpt1wZ"
      },
      "source": [
        "> Ocean basins pandas series"
      ]
    },
    {
      "cell_type": "code",
      "metadata": {
        "id": "c2hmlDsKc4nG"
      },
      "source": [
        ""
      ],
      "execution_count": null,
      "outputs": []
    },
    {
      "cell_type": "code",
      "metadata": {
        "id": "JaCL9MgSiRWu"
      },
      "source": [
        ""
      ],
      "execution_count": null,
      "outputs": []
    },
    {
      "cell_type": "code",
      "metadata": {
        "id": "MBtpArPohhAU"
      },
      "source": [
        "# If you're not sure what the index of your pd series is:\n"
      ],
      "execution_count": null,
      "outputs": []
    },
    {
      "cell_type": "code",
      "metadata": {
        "id": "jBwj2t0Dq2jC"
      },
      "source": [
        "# If you're not sure what the values of your pd series are:\n"
      ],
      "execution_count": null,
      "outputs": []
    },
    {
      "cell_type": "markdown",
      "metadata": {
        "id": "CGbR9anukjdM"
      },
      "source": [
        "> Find the freshest ocean basin(s)"
      ]
    },
    {
      "cell_type": "code",
      "metadata": {
        "id": "FuYBlSxpsAFe"
      },
      "source": [
        "#first find the minimum salinity value\n"
      ],
      "execution_count": null,
      "outputs": []
    },
    {
      "cell_type": "code",
      "metadata": {
        "id": "3CB40BALrm1J"
      },
      "source": [
        "#next find the index associated with that salinity value\n"
      ],
      "execution_count": null,
      "outputs": []
    },
    {
      "cell_type": "code",
      "metadata": {
        "id": "OgZmvCwcs4ca"
      },
      "source": [
        "#another way to write the same code!\n"
      ],
      "execution_count": null,
      "outputs": []
    },
    {
      "cell_type": "markdown",
      "metadata": {
        "id": "OnKPnpffsiRB"
      },
      "source": [
        "> Find the saltiest ocean basin(s)"
      ]
    },
    {
      "cell_type": "code",
      "metadata": {
        "id": "SbkuJX2Lsppo"
      },
      "source": [
        "# Try it: your code here"
      ],
      "execution_count": null,
      "outputs": []
    },
    {
      "cell_type": "code",
      "metadata": {
        "id": "7GvXtt2Ssmvp"
      },
      "source": [
        "# Try it: your code here"
      ],
      "execution_count": null,
      "outputs": []
    },
    {
      "cell_type": "code",
      "metadata": {
        "id": "pkcYVpy8tWch"
      },
      "source": [
        ""
      ],
      "execution_count": null,
      "outputs": []
    },
    {
      "cell_type": "markdown",
      "metadata": {
        "id": "zbSdHuNlgqnK"
      },
      "source": [
        "## Pandas Data Frame:"
      ]
    },
    {
      "cell_type": "code",
      "metadata": {
        "id": "dMjEbuu0gr1A"
      },
      "source": [
        "#first create a dictionary\n"
      ],
      "execution_count": null,
      "outputs": []
    },
    {
      "cell_type": "code",
      "metadata": {
        "id": "nc4jg12Qoigc"
      },
      "source": [
        ""
      ],
      "execution_count": null,
      "outputs": []
    },
    {
      "cell_type": "code",
      "metadata": {
        "id": "bc09e412ovEz"
      },
      "source": [
        ""
      ],
      "execution_count": null,
      "outputs": []
    },
    {
      "cell_type": "markdown",
      "metadata": {
        "id": "Rn0FBjo5pv1f"
      },
      "source": [
        "> You can use many statistical functions on both Series and DataFrames."
      ]
    },
    {
      "cell_type": "code",
      "metadata": {
        "id": "hrFTMRfXplC4"
      },
      "source": [
        ""
      ],
      "execution_count": null,
      "outputs": []
    },
    {
      "cell_type": "code",
      "metadata": {
        "id": "Wd2UJEU_p4N1"
      },
      "source": [
        ""
      ],
      "execution_count": null,
      "outputs": []
    },
    {
      "cell_type": "code",
      "metadata": {
        "id": "DBSMXeUbp65n"
      },
      "source": [
        ""
      ],
      "execution_count": null,
      "outputs": []
    },
    {
      "cell_type": "markdown",
      "metadata": {
        "id": "wYv85yCmtQWk"
      },
      "source": [
        "> Or, if you want all the basic stats, you can call `describe()`\n"
      ]
    },
    {
      "cell_type": "code",
      "metadata": {
        "id": "tRpFYdQpp-CG"
      },
      "source": [
        ""
      ],
      "execution_count": null,
      "outputs": []
    },
    {
      "cell_type": "markdown",
      "metadata": {
        "id": "UzSda_SEqL4y"
      },
      "source": [
        "> We can get a single column as a Series using python's getitem syntax on the DataFrame object."
      ]
    },
    {
      "cell_type": "code",
      "metadata": {
        "id": "y4Aue2cCqAJn"
      },
      "source": [
        ""
      ],
      "execution_count": null,
      "outputs": []
    },
    {
      "cell_type": "markdown",
      "metadata": {
        "id": "rwi9uXnLqwjQ"
      },
      "source": [
        "> or using attribute syntax."
      ]
    },
    {
      "cell_type": "code",
      "metadata": {
        "id": "5aMCTgeuqO6u"
      },
      "source": [
        ""
      ],
      "execution_count": null,
      "outputs": []
    },
    {
      "cell_type": "markdown",
      "metadata": {
        "id": "_8VrsvjpUtcj"
      },
      "source": [
        "## Indexing & Slicing\n",
        "\n",
        "- Use `DataFrame.iloc[..., ...]` to select values by their (entry)  **position**\n",
        "\n",
        "- Use `DataFrame.loc[..., ...]` to select values by their (entry) **label**"
      ]
    },
    {
      "cell_type": "code",
      "metadata": {
        "id": "_53AQPRVUzhj"
      },
      "source": [
        ""
      ],
      "execution_count": null,
      "outputs": []
    },
    {
      "cell_type": "code",
      "metadata": {
        "id": "07px8EU3U7yo"
      },
      "source": [
        ""
      ],
      "execution_count": null,
      "outputs": []
    },
    {
      "cell_type": "markdown",
      "metadata": {
        "id": "hGTO1YEvVZHN"
      },
      "source": [
        "> we can also specify the column we want to access"
      ]
    },
    {
      "cell_type": "code",
      "metadata": {
        "id": "ufqqG8BTVgpA"
      },
      "source": [
        ""
      ],
      "execution_count": null,
      "outputs": []
    },
    {
      "cell_type": "code",
      "metadata": {
        "id": "R3DKkPY-Vmi7"
      },
      "source": [
        ""
      ],
      "execution_count": null,
      "outputs": []
    },
    {
      "cell_type": "markdown",
      "metadata": {
        "id": "dYYf4SnNVyq6"
      },
      "source": [
        "> If we make a calculation using columns from the DataFrame, it will keep the same index:"
      ]
    },
    {
      "cell_type": "code",
      "metadata": {
        "id": "1ZkkergZVzEd"
      },
      "source": [
        ""
      ],
      "execution_count": null,
      "outputs": []
    },
    {
      "cell_type": "markdown",
      "metadata": {
        "id": "Qu3CDrO8Xafo"
      },
      "source": [
        "> Which we can easily add as another column to the DataFrame:"
      ]
    },
    {
      "cell_type": "code",
      "metadata": {
        "id": "k5UW7hIrXW7v"
      },
      "source": [
        ""
      ],
      "execution_count": null,
      "outputs": []
    },
    {
      "cell_type": "code",
      "metadata": {
        "id": "lSnCZnVwYCKh"
      },
      "source": [
        ""
      ],
      "execution_count": null,
      "outputs": []
    },
    {
      "cell_type": "code",
      "metadata": {
        "id": "FBnTNqMaYgte"
      },
      "source": [
        ""
      ],
      "execution_count": null,
      "outputs": []
    },
    {
      "cell_type": "markdown",
      "metadata": {
        "id": "-1U1053NbsdC"
      },
      "source": [
        "> Now let's add a row to the Dataframe:"
      ]
    },
    {
      "cell_type": "code",
      "metadata": {
        "id": "0CQiV-qsZykG"
      },
      "source": [
        "#create new DataFrame object of global averages\n"
      ],
      "execution_count": null,
      "outputs": []
    },
    {
      "cell_type": "code",
      "metadata": {
        "id": "wzgPu5foXh17"
      },
      "source": [
        ""
      ],
      "execution_count": null,
      "outputs": []
    },
    {
      "cell_type": "code",
      "metadata": {
        "id": "BGrKOQxFblcX"
      },
      "source": [
        ""
      ],
      "execution_count": null,
      "outputs": []
    },
    {
      "cell_type": "markdown",
      "metadata": {
        "id": "FbrmucgWrC1Q"
      },
      "source": [
        "> **Find the following in this dataframe:**"
      ]
    },
    {
      "cell_type": "code",
      "metadata": {
        "id": "kaPvkKCTqv1T"
      },
      "source": [
        "# What is the coldest temperature?\n"
      ],
      "execution_count": null,
      "outputs": []
    },
    {
      "cell_type": "code",
      "metadata": {
        "id": "2A8248ysrUAd"
      },
      "source": [
        "# What ocean basin has the coldest average temperature?"
      ],
      "execution_count": null,
      "outputs": []
    },
    {
      "cell_type": "code",
      "metadata": {
        "id": "J3v_PA7vsEYZ"
      },
      "source": [
        "# Another way to find the index associated with coldest temperature:"
      ],
      "execution_count": null,
      "outputs": []
    },
    {
      "cell_type": "code",
      "metadata": {
        "id": "ZsTpgiF0SoJ_"
      },
      "source": [
        "# Plot avg salinity!"
      ],
      "execution_count": null,
      "outputs": []
    },
    {
      "cell_type": "code",
      "metadata": {
        "id": "W2s4FCYgSslx"
      },
      "source": [
        "# Plot all the columns in the DataFrame!"
      ],
      "execution_count": null,
      "outputs": []
    },
    {
      "cell_type": "markdown",
      "metadata": {
        "id": "5YvLVSFkZhcM"
      },
      "source": [
        "# **BREAK TIME!**"
      ]
    },
    {
      "cell_type": "markdown",
      "metadata": {
        "id": "0fMRzH3neSui"
      },
      "source": [
        "## A few exercises: GDP per capita in Europe"
      ]
    },
    {
      "cell_type": "code",
      "metadata": {
        "id": "JUgT8tjYsNvI"
      },
      "source": [
        "url = 'https://raw.githubusercontent.com/swcarpentry/python-novice-gapminder/gh-pages/data/gapminder_gdp_europe.csv'\n"
      ],
      "execution_count": null,
      "outputs": []
    },
    {
      "cell_type": "code",
      "metadata": {
        "id": "TPM7X9rZePfQ"
      },
      "source": [
        ""
      ],
      "execution_count": null,
      "outputs": []
    },
    {
      "cell_type": "code",
      "metadata": {
        "id": "2ju4uErdev14"
      },
      "source": [
        "# Select Austria by entry position\n"
      ],
      "execution_count": null,
      "outputs": []
    },
    {
      "cell_type": "code",
      "metadata": {
        "id": "SZ9_AuYLe8Zg"
      },
      "source": [
        "# Select Austria by entry label\n"
      ],
      "execution_count": null,
      "outputs": []
    },
    {
      "cell_type": "code",
      "metadata": {
        "id": "4UXVbaQMe99y"
      },
      "source": [
        "# Select/slice to all the rows in Denmark (two ways to do this)\n"
      ],
      "execution_count": null,
      "outputs": []
    },
    {
      "cell_type": "code",
      "metadata": {
        "id": "JFQmuDTkgar6"
      },
      "source": [
        ""
      ],
      "execution_count": null,
      "outputs": []
    },
    {
      "cell_type": "code",
      "metadata": {
        "id": "ALq9vOxFfOMB"
      },
      "source": [
        "# Select/slice to all the countries/rows in the 4th column (two ways to do this)\n"
      ],
      "execution_count": null,
      "outputs": []
    },
    {
      "cell_type": "code",
      "metadata": {
        "id": "9qLEjMQOgn5D"
      },
      "source": [
        ""
      ],
      "execution_count": null,
      "outputs": []
    },
    {
      "cell_type": "code",
      "metadata": {
        "id": "1h13EqMHfbvD"
      },
      "source": [
        "# Select multiple columns or rows using .loc and a named slice\n"
      ],
      "execution_count": null,
      "outputs": []
    },
    {
      "cell_type": "markdown",
      "metadata": {
        "id": "5jFQE-4RhFYg"
      },
      "source": [
        "> Can do same statistical operations on the slices"
      ]
    },
    {
      "cell_type": "code",
      "metadata": {
        "id": "vh3EcejHhQCS"
      },
      "source": [
        ""
      ],
      "execution_count": null,
      "outputs": []
    },
    {
      "cell_type": "code",
      "metadata": {
        "id": "3qF8rxBDf-LG"
      },
      "source": [
        "# Find the maximum gdp values within Italy through Poland, 1962-1972\n"
      ],
      "execution_count": null,
      "outputs": []
    },
    {
      "cell_type": "code",
      "metadata": {
        "id": "on8HTmtHhKdt"
      },
      "source": [
        "# Find the minimum gdp values within Italy through Poland, 1962-1972\n"
      ],
      "execution_count": null,
      "outputs": []
    },
    {
      "cell_type": "markdown",
      "metadata": {
        "id": "kgx8daqMhwWh"
      },
      "source": [
        ">Use comparisons to select data based on value.\n",
        "  - Comparison is applied element by element.\n",
        "  - Returns a similarly-shaped dataframe of `True` and `False`."
      ]
    },
    {
      "cell_type": "code",
      "metadata": {
        "id": "MMeGcxyIhl6t"
      },
      "source": [
        "# Use a subset of data to keep output readable.\n",
        "\n",
        "\n",
        "# Which values were greater than 10000 ?\n"
      ],
      "execution_count": null,
      "outputs": []
    },
    {
      "cell_type": "markdown",
      "metadata": {
        "id": "4xJ1udELiPfO"
      },
      "source": [
        "> Select values or NaN using a Boolean mask.\n",
        "  - A frame full of Booleans is sometimes called a mask because of how it can be used.\n"
      ]
    },
    {
      "cell_type": "code",
      "metadata": {
        "id": "gJzUdEGeh4Iz"
      },
      "source": [
        ""
      ],
      "execution_count": null,
      "outputs": []
    },
    {
      "cell_type": "markdown",
      "metadata": {
        "id": "8wb9MYzOiocC"
      },
      "source": [
        "- Get the value where the mask is true, and NaN (Not a Number) where it is false.\n",
        "- Useful because NaNs are ignored by operations like max, min, average, etc.\n"
      ]
    },
    {
      "cell_type": "code",
      "metadata": {
        "id": "nKcTu6R0ifVy"
      },
      "source": [
        ""
      ],
      "execution_count": null,
      "outputs": []
    },
    {
      "cell_type": "markdown",
      "metadata": {
        "id": "igSnW3pJjDKr"
      },
      "source": [
        "### Group By: split-apply-combine\n",
        "\n",
        ">Pandas vectorizing methods and grouping operations are features that provide users much flexibility to analyse their data.\n",
        "\n",
        ">For instance, let’s say we want to have a clearer view on how the European countries split themselves according to their GDP.\n",
        "  - We may have a glance by splitting the countries in two groups during the years surveyed, those who presented a GDP higher than the European average and those with a lower GDP.\n",
        "  - We then estimate a wealthy score based on the historical (from 1962 to 2007) values, where we account how many times a country has participated in the groups of lower or higher GDP"
      ]
    },
    {
      "cell_type": "code",
      "metadata": {
        "id": "PP7VmJ1Vi0Ke"
      },
      "source": [
        ""
      ],
      "execution_count": null,
      "outputs": []
    },
    {
      "cell_type": "markdown",
      "metadata": {
        "id": "vhYwAYRhjdX5"
      },
      "source": [
        "> Finally, for each group in the wealth_score table, we sum their (financial) contribution across the years surveyed using chained methods:"
      ]
    },
    {
      "cell_type": "code",
      "metadata": {
        "id": "pSKyx2mQjco5"
      },
      "source": [
        ""
      ],
      "execution_count": null,
      "outputs": []
    },
    {
      "cell_type": "code",
      "metadata": {
        "id": "pQq3a9HejYIb"
      },
      "source": [
        ""
      ],
      "execution_count": null,
      "outputs": []
    },
    {
      "cell_type": "markdown",
      "metadata": {
        "id": "4pRODMKUj50F"
      },
      "source": [
        "# **SciPy**\n",
        "\n",
        "## is a Python-based ecosystem of open-source software for mathematics, science, and engineering. In particular, these are some of the core packages: \n",
        "  - SciPy\n",
        "  - NumPy\n",
        "  - Pandas\n",
        "  - Matplotlib\n",
        "  - SymPy\n",
        "\n",
        "It is meant to operate efficiently on numpy arrays, so that numpy and scipy work hand in hand. Check out their [User Guide](https://docs.scipy.org/doc/scipy/reference/tutorial/index.html)\n",
        "\n",
        "All the notes here can be found on [this website](https://scipy-lectures.org/intro/scipy.html)."
      ]
    },
    {
      "cell_type": "code",
      "metadata": {
        "id": "UJl7d91Tj8NB"
      },
      "source": [
        "#Start by importing the SciPy library\n"
      ],
      "execution_count": null,
      "outputs": []
    },
    {
      "cell_type": "markdown",
      "metadata": {
        "id": "EQoo8E3GtFcE"
      },
      "source": [
        "## Interpolation"
      ]
    },
    {
      "cell_type": "code",
      "metadata": {
        "id": "y0_bx3hqsgbs"
      },
      "source": [
        "#Create experimental data close to a sine function using `numpy`\n"
      ],
      "execution_count": null,
      "outputs": []
    },
    {
      "cell_type": "code",
      "metadata": {
        "id": "sXr9kbUfu3zE"
      },
      "source": [
        "# Visualize with matplotlib"
      ],
      "execution_count": null,
      "outputs": []
    },
    {
      "cell_type": "code",
      "metadata": {
        "id": "cpwkTJ1LtQtw"
      },
      "source": [
        "#import scipy's 1D interp function to then build a linear interpolation function:\n"
      ],
      "execution_count": null,
      "outputs": []
    },
    {
      "cell_type": "code",
      "metadata": {
        "id": "e6eXlXZrt4Uk"
      },
      "source": [
        "# Evaluate the result at the time of interest:\n"
      ],
      "execution_count": null,
      "outputs": []
    },
    {
      "cell_type": "code",
      "metadata": {
        "id": "VmkmQSVQvGTk"
      },
      "source": [
        "# Plot the linear results\n"
      ],
      "execution_count": null,
      "outputs": []
    },
    {
      "cell_type": "code",
      "metadata": {
        "id": "jNJgxVxJuq4e"
      },
      "source": [
        "# A cubic interpolation can also be selected by providing the kind optional keyword argument:\n"
      ],
      "execution_count": null,
      "outputs": []
    },
    {
      "cell_type": "code",
      "metadata": {
        "id": "seloH8o6u0xd"
      },
      "source": [
        "# Plot the cubic results\n"
      ],
      "execution_count": null,
      "outputs": []
    },
    {
      "cell_type": "code",
      "metadata": {
        "id": "NnC0PDuTvOTw"
      },
      "source": [
        "# Plot the data and the interpolation\n"
      ],
      "execution_count": null,
      "outputs": []
    },
    {
      "cell_type": "markdown",
      "metadata": {
        "id": "f34K2Qr9wdNz"
      },
      "source": [
        "## Optimization and Fit\n",
        "\n",
        "Optimization is the problem of finding a numerical solution to a minimization or equality.\n",
        "\n",
        " The `scipy.optimize` module provides algorithms for function minimization (scalar or multi-dimensional), curve fitting and root finding."
      ]
    },
    {
      "cell_type": "markdown",
      "metadata": {
        "id": "KqJwqFkxxeRy"
      },
      "source": [
        "### Curve fitting"
      ]
    },
    {
      "cell_type": "code",
      "metadata": {
        "id": "obQwrs5Rvuo4"
      },
      "source": [
        "# Suppose we have data on a sine wave, with some noise:\n",
        "# Seed the random number generator for reproducibility\n"
      ],
      "execution_count": null,
      "outputs": []
    },
    {
      "cell_type": "code",
      "metadata": {
        "id": "dvIW05jDxpKm"
      },
      "source": [
        "# And plot it\n"
      ],
      "execution_count": null,
      "outputs": []
    },
    {
      "cell_type": "markdown",
      "metadata": {
        "id": "fraLRZ_5zZUe"
      },
      "source": [
        "> If we know that the data lies on a sine wave, but not the amplitudes or the period, we can find those by least squares curve fitting. First we have to define the test function to fit, here a sine with unknown amplitude and period:"
      ]
    },
    {
      "cell_type": "code",
      "metadata": {
        "id": "XVamVXhPzRX2"
      },
      "source": [
        ""
      ],
      "execution_count": null,
      "outputs": []
    },
    {
      "cell_type": "markdown",
      "metadata": {
        "id": "3KSnlfsczldX"
      },
      "source": [
        "> We then use `scipy.optimize.curve_fit()` to find $\\it{a}$ and $\\it{b}$:"
      ]
    },
    {
      "cell_type": "code",
      "metadata": {
        "id": "1jUe_wobz9Ff"
      },
      "source": [
        "# import optimize\n"
      ],
      "execution_count": null,
      "outputs": []
    },
    {
      "cell_type": "code",
      "metadata": {
        "id": "5Z_a_rskzg1u"
      },
      "source": [
        "params, params_covariance = optimize.curve_fit(test_func, x_data, y_data, p0=[2, 2])\n",
        "print(params)"
      ],
      "execution_count": null,
      "outputs": []
    },
    {
      "cell_type": "code",
      "metadata": {
        "id": "epwKeK2B0Fn2"
      },
      "source": [
        "# Plot the resulting curve onto the data\n"
      ],
      "execution_count": null,
      "outputs": []
    },
    {
      "cell_type": "markdown",
      "metadata": {
        "id": "Qwy4AHRQ1upR"
      },
      "source": [
        "## Assignment: Curve fitting of temperature data\n",
        "The temperature extremes in Alaska for each month, starting in January, are given by (in degrees Celcius):\n",
        "\n",
        "`max:  17,  19,  21,  28,  33,  38, 37,  37,  31,  23,  19,  18`\n",
        "\n",
        "`min: -62, -59, -56, -46, -32, -18, -9, -13, -25, -46, -52, -58`\n",
        "\n",
        "1. Plot these temperature extremes.\n",
        "2. Define a function that can describe min and max temperatures. Hint: this function has to have a period of 1 year. Hint: include a time offset.\n",
        "3. Fit this function to the data with `scipy.optimize.curve_fit()`.\n",
        "4. Plot the result. Is the fit reasonable? If not, why?\n",
        "5. Is the time offset for min and max temperatures the same within the fit accuracy?"
      ]
    },
    {
      "cell_type": "markdown",
      "metadata": {
        "id": "i5HPzKoI2gTP"
      },
      "source": [
        "### 1. Plot these temperature extremes"
      ]
    },
    {
      "cell_type": "code",
      "metadata": {
        "id": "OWsYScU90nnQ"
      },
      "source": [
        ""
      ],
      "execution_count": null,
      "outputs": []
    },
    {
      "cell_type": "markdown",
      "metadata": {
        "id": "FRdljvq22pQU"
      },
      "source": [
        "### 2. Define a function that can describe min and max temperatures. Hint: this function has to have a period of 1 year. Hint: include a time offset."
      ]
    },
    {
      "cell_type": "code",
      "metadata": {
        "id": "qw7BNv3_2k2o"
      },
      "source": [
        ""
      ],
      "execution_count": null,
      "outputs": []
    },
    {
      "cell_type": "markdown",
      "metadata": {
        "id": "s-Db96f43B9D"
      },
      "source": [
        "### 3. Fit this function to the data with `scipy.optimize.curve_fit()`."
      ]
    },
    {
      "cell_type": "code",
      "metadata": {
        "id": "-jAgRNNi3At5"
      },
      "source": [
        ""
      ],
      "execution_count": null,
      "outputs": []
    },
    {
      "cell_type": "markdown",
      "metadata": {
        "id": "g0LOPvYV3Yrm"
      },
      "source": [
        "### 4. Plot the result. Is the fit reasonable? If not, why?"
      ]
    },
    {
      "cell_type": "code",
      "metadata": {
        "id": "4gf_HXmD3WzD"
      },
      "source": [
        ""
      ],
      "execution_count": null,
      "outputs": []
    },
    {
      "cell_type": "code",
      "metadata": {
        "id": "5F1kJoeO3idZ"
      },
      "source": [
        ""
      ],
      "execution_count": null,
      "outputs": []
    },
    {
      "cell_type": "markdown",
      "metadata": {
        "id": "FUam6N2J32C8"
      },
      "source": [
        "## Finding the minimum of a scalar function"
      ]
    },
    {
      "cell_type": "code",
      "metadata": {
        "id": "ln8L8RHj3_si"
      },
      "source": [
        "# Let's first define a function:\n"
      ],
      "execution_count": null,
      "outputs": []
    },
    {
      "cell_type": "code",
      "metadata": {
        "id": "IhxFFzhX4Ko5"
      },
      "source": [
        "# And plot it:\n"
      ],
      "execution_count": null,
      "outputs": []
    },
    {
      "cell_type": "markdown",
      "metadata": {
        "id": "hn0YYZgV4bbM"
      },
      "source": [
        "> This function has a global minimum around -1.3 and a local minimum around 3.8.\n",
        "\n",
        "> Searching for minimum can be done with `scipy.optimize.minimize()`, given a starting point x0, it returns the location of the minimum that it has found:"
      ]
    },
    {
      "cell_type": "code",
      "metadata": {
        "id": "Xgq9YX8A4Qmk"
      },
      "source": [
        ""
      ],
      "execution_count": null,
      "outputs": []
    },
    {
      "cell_type": "code",
      "metadata": {
        "id": "aZMpivaT4kgJ"
      },
      "source": [
        ""
      ],
      "execution_count": null,
      "outputs": []
    },
    {
      "cell_type": "markdown",
      "metadata": {
        "id": "7DD2qlgN5evH"
      },
      "source": [
        "> **Methods:** As the function is a smooth function, gradient-descent based methods are good options. The [lBFGS algorithm](https://en.wikipedia.org/wiki/Limited-memory_BFGS) is a good choice in general:"
      ]
    },
    {
      "cell_type": "code",
      "metadata": {
        "id": "LEoSHb9O4lpP"
      },
      "source": [
        ""
      ],
      "execution_count": null,
      "outputs": []
    },
    {
      "cell_type": "markdown",
      "metadata": {
        "id": "JJkIhSnZ6ES2"
      },
      "source": [
        "> **Global minimum:** A possible issue with this approach is that, if the function has local minima, the algorithm may find these local minima instead of the global minimum depending on the initial point x0:"
      ]
    },
    {
      "cell_type": "code",
      "metadata": {
        "id": "R-IuUQjn5vyt"
      },
      "source": [
        ""
      ],
      "execution_count": null,
      "outputs": []
    },
    {
      "cell_type": "markdown",
      "metadata": {
        "id": "9zFm82vu6Zlb"
      },
      "source": [
        "> If we don’t know the neighborhood of the global minimum to choose the initial point, we need to resort to costlier global optimization. To find the global minimum, we use `scipy.optimize.basinhopping()` (added in version 0.12.0 of Scipy). It combines a local optimizer with sampling of starting points:"
      ]
    },
    {
      "cell_type": "code",
      "metadata": {
        "id": "LYhn4-Rg6NpT"
      },
      "source": [
        ""
      ],
      "execution_count": null,
      "outputs": []
    },
    {
      "cell_type": "markdown",
      "metadata": {
        "id": "MrZ3Vgpy7j3X"
      },
      "source": [
        "## Assignment: 2-D minimization\n",
        "\n",
        "The six-hump camelback function\n",
        "\n",
        "$f(x, y) = (4 - 2.1x^2 + \\frac{x^4}{3})x^2 + xy + (4y^2 - 4)y^2$\n",
        "\n",
        "has multiple global and local minima. Find the global minima of this function.\n",
        "\n",
        "Hints:\n",
        "\n",
        "- Variables can be restricted to $-2 < x < 2$ and $-1 < y < 1$.\n",
        "- Use `numpy.meshgrid()` and `matplotlib.pyplot.imshow()` to find visually the regions.\n",
        "- Use `scipy.optimize.minimize()`, optionally trying out several of its methods.\n",
        "\n",
        "How many global minima are there, and what is the function value at those points? What happens for an initial guess of $(x, y) = (0, 0)$?"
      ]
    },
    {
      "cell_type": "code",
      "metadata": {
        "id": "3I5sk3by7ARd"
      },
      "source": [
        "\n",
        "\n",
        "# Define the function that we are interested in\n",
        "\n",
        "\n",
        "# Make a grid to evaluate the function (for plotting)\n"
      ],
      "execution_count": null,
      "outputs": []
    },
    {
      "cell_type": "code",
      "metadata": {
        "id": "PybQtvmv8Rd8"
      },
      "source": [
        "# Visualize the function in 2D\n"
      ],
      "execution_count": null,
      "outputs": []
    },
    {
      "cell_type": "code",
      "metadata": {
        "id": "pLoKunJ38dPK"
      },
      "source": [
        "# Visualize the function in 3D\n"
      ],
      "execution_count": null,
      "outputs": []
    },
    {
      "cell_type": "code",
      "metadata": {
        "id": "oqFO5wOA82uf"
      },
      "source": [
        "# Find the minima\n",
        "\n",
        "\n",
        "# Show the function in 2D\n",
        "\n",
        "# And the minimum that we've found:\n"
      ],
      "execution_count": null,
      "outputs": []
    },
    {
      "cell_type": "code",
      "metadata": {
        "id": "FyYVAQwe9ACX"
      },
      "source": [
        ""
      ],
      "execution_count": null,
      "outputs": []
    }
  ]
}