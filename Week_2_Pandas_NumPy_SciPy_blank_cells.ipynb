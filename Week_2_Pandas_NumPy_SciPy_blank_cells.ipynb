{
  "nbformat": 4,
  "nbformat_minor": 0,
  "metadata": {
    "colab": {
      "name": "Week_5_Salinity_Pandas.ipynb",
      "provenance": [],
      "include_colab_link": true
    },
    "kernelspec": {
      "name": "python3",
      "display_name": "Python 3"
    }
  },
  "cells": [
    {
      "cell_type": "markdown",
      "metadata": {
        "id": "view-in-github",
        "colab_type": "text"
      },
      "source": [
        "<a href=\"https://colab.research.google.com/github/stb2145/cig/blob/master/Week_2_Pandas_NumPy_SciPy_blank_cells.ipynb\" target=\"_parent\"><img src=\"https://colab.research.google.com/assets/colab-badge.svg\" alt=\"Open In Colab\"/></a>"
      ]
    },
    {
      "cell_type": "markdown",
      "metadata": {
        "id": "t8ZjlhQpL5i5"
      },
      "source": [
        "# **Week 2: Pandas, NumPy, SciPy**\n",
        "\n",
        "**Learning Goals**\n",
        "- Learn about/ `import` [Python libraries](http://swcarpentry.github.io/python-novice-gapminder/06-libraries/index.html) (20 min)\n",
        "- Learn about [Pandas](http://swcarpentry.github.io/python-novice-gapminder/07-reading-tabular/index.html) (50 min)\n",
        "- Learn about SciPy (20 min)"
      ]
    },
    {
      "cell_type": "markdown",
      "metadata": {
        "id": "mtxipZTZFeZG"
      },
      "source": [
        "# **Solution to Week 1 exercises**\n",
        "\n",
        "## Breakout rooms!\n",
        "\n",
        "- Breakout rooms (5 min)\n",
        "\n",
        "- Share results (5 min)\n",
        "\n"
      ]
    },
    {
      "cell_type": "code",
      "metadata": {
        "id": "l5lHiBXwj0EU"
      },
      "source": [
        ""
      ],
      "execution_count": null,
      "outputs": []
    },
    {
      "cell_type": "markdown",
      "metadata": {
        "id": "UDeeHgvX4Ziq"
      },
      "source": [
        "# **Open files with `open()`**\n",
        "\n"
      ]
    },
    {
      "cell_type": "markdown",
      "metadata": {
        "id": "jCst986N4mOc"
      },
      "source": [
        "> A common way to work with files in Python is to create file handler with “open” statement and work with the file. After finishing the work with the file, we need to close the file handler with close statement. For example, if we want to read all lines of a file using Python , we use\n",
        "\n",
        "```\n",
        "fh = open(filename,'r')\n",
        "all_lines = fh.readlines()\n",
        "fh.close()\n",
        "```\n",
        "\n",
        "Example code taken from [this website](https://cmdlinetips.com/2016/01/opening-a-file-in-python-using-with-statement/)."
      ]
    },
    {
      "cell_type": "code",
      "metadata": {
        "id": "Nga07r1z6na4"
      },
      "source": [
        "fh = open('/example-file-2.txt', 'r')\n",
        "all_lines = fh.readlines()\n",
        "all_lines\n",
        "fh.close()"
      ],
      "execution_count": 2,
      "outputs": []
    },
    {
      "cell_type": "code",
      "metadata": {
        "id": "chJjO1s06nSC"
      },
      "source": [
        ""
      ],
      "execution_count": null,
      "outputs": []
    },
    {
      "cell_type": "markdown",
      "metadata": {
        "id": "yPIyaunr41Rw"
      },
      "source": [
        "> Sometimes, you don't always remember to close the file once we are done with the file. We can use `with` statement in Python such that we don’t have to close the file handler. \n",
        "\n",
        "> The with statement creates a context manager and it will automatically close the file handler for you when you are done with it. Here is an example using with statement to read all lines of a file.\n",
        "\n",
        "```\n",
        "with open(filename,'r') as fh\n",
        "     all_lines = fh.readlines()\n",
        "```"
      ]
    },
    {
      "cell_type": "code",
      "metadata": {
        "id": "OY99IXs_6nJt"
      },
      "source": [
        "with open('/example-file-2.txt', 'r') as fh:\n",
        "  all_lines = fh.readlines()"
      ],
      "execution_count": 3,
      "outputs": []
    },
    {
      "cell_type": "code",
      "metadata": {
        "id": "YQesWkrp6stX",
        "colab": {
          "base_uri": "https://localhost:8080/"
        },
        "outputId": "6836f5b8-b754-4dec-da3f-924626c0c0e0"
      },
      "source": [
        "all_lines"
      ],
      "execution_count": 4,
      "outputs": [
        {
          "output_type": "execute_result",
          "data": {
            "text/plain": [
              "['Hello!\\n',\n",
              " '\\n',\n",
              " 'This is an example text file. If you are reading me then great job, you have successfully read a file with the `open()` function!\\n',\n",
              " '\\n',\n",
              " 'You are amazing :)']"
            ]
          },
          "metadata": {
            "tags": []
          },
          "execution_count": 4
        }
      ]
    },
    {
      "cell_type": "markdown",
      "metadata": {
        "id": "cPmmek6-U7zi"
      },
      "source": [
        "# **What are Python Libraries?**\n",
        "##Most of the power of a programming language is in its libraries.\n",
        "\n",
        "> A Python package is a collection/directory of Python modules. In other words, it's a library of python files and in those files are scripts of code with specific functions.\n",
        "\n",
        "<img src='https://drive.google.com/uc?id=1C7Y1p1Nlj0QhLqEPUGMoU6FP1QWMqrFU' width=\"520\" height=\"300\" />\n",
        "\n",
        "- A library is a collection of files (called modules) that contains functions for use by other programs.\n",
        " - May also contain data values (e.g., numerical constants) and other things.\n",
        " - Library’s contents are supposed to be related, but there’s no way to enforce that.\n",
        "- The Python [standard library](https://docs.python.org/3/library/) is an extensive suite of modules that comes with Python itself.\n",
        "- Many additional libraries are available from [PyPI](https://pypi.org/) (the Python Package Index).\n",
        "- We will see later how to write new libraries.\n",
        "\n"
      ]
    },
    {
      "cell_type": "markdown",
      "metadata": {
        "id": "Tk35u6SFZlU7"
      },
      "source": [
        "> **Libraries and Modules**\n",
        ">\n",
        "> A library is a collection of modules, but the terms are often used interchangeably, especially since many libraries only consist of a single module, so don’t worry if you mix them."
      ]
    },
    {
      "cell_type": "markdown",
      "metadata": {
        "id": "Zd9iyrt1Z03P"
      },
      "source": [
        "## A program must import a library module before using it.\n",
        "\n",
        "- Use `import` to load a library module into a program’s memory.\n",
        "- Then refer to things from the module as `module_name.thing_name`.\n",
        " - Python uses `.` to mean “part of”.\n",
        "- Using `numpy`, one of the modules in the standard library:"
      ]
    },
    {
      "cell_type": "code",
      "metadata": {
        "id": "CSKBFzjMccG8"
      },
      "source": [
        "import numpy"
      ],
      "execution_count": 5,
      "outputs": []
    },
    {
      "cell_type": "code",
      "metadata": {
        "id": "dWHlEmR9xQE3",
        "outputId": "61d46d87-770f-4806-eb27-0bc44228b5e8",
        "colab": {
          "base_uri": "https://localhost:8080/"
        }
      },
      "source": [
        "print('pi is', numpy.pi)"
      ],
      "execution_count": 6,
      "outputs": [
        {
          "output_type": "stream",
          "text": [
            "pi is 3.141592653589793\n"
          ],
          "name": "stdout"
        }
      ]
    },
    {
      "cell_type": "code",
      "metadata": {
        "id": "bEmn2_bSxhUW",
        "outputId": "7f3d10be-296f-451f-d263-99dd1b68e594",
        "colab": {
          "base_uri": "https://localhost:8080/"
        }
      },
      "source": [
        "print('cos(pi) is', numpy.cos(numpy.pi))"
      ],
      "execution_count": 7,
      "outputs": [
        {
          "output_type": "stream",
          "text": [
            "cos(pi) is -1.0\n"
          ],
          "name": "stdout"
        }
      ]
    },
    {
      "cell_type": "markdown",
      "metadata": {
        "id": "uQJnGttJcpm5"
      },
      "source": [
        "> Have to refer to each item with the module’s name.\n",
        ">> `numpy.cos(pi)` won’t work: the reference to `pi` doesn’t somehow “inherit” the function’s reference to `numpy`"
      ]
    },
    {
      "cell_type": "markdown",
      "metadata": {
        "id": "jazIo9V_c4cB"
      },
      "source": [
        "## Use `help` to learn about the contents of a library module.\n",
        "\n",
        "> [Numpy Documentation](https://numpy.org/doc/)"
      ]
    },
    {
      "cell_type": "code",
      "metadata": {
        "id": "8kyCdYd3dtTf",
        "colab": {
          "base_uri": "https://localhost:8080/"
        },
        "outputId": "1ad90c0a-6c38-455a-dfb5-12f2cad43975"
      },
      "source": [
        "import math\n",
        "help(math)"
      ],
      "execution_count": 9,
      "outputs": [
        {
          "output_type": "stream",
          "text": [
            "Help on built-in module math:\n",
            "\n",
            "NAME\n",
            "    math\n",
            "\n",
            "DESCRIPTION\n",
            "    This module provides access to the mathematical functions\n",
            "    defined by the C standard.\n",
            "\n",
            "FUNCTIONS\n",
            "    acos(x, /)\n",
            "        Return the arc cosine (measured in radians) of x.\n",
            "    \n",
            "    acosh(x, /)\n",
            "        Return the inverse hyperbolic cosine of x.\n",
            "    \n",
            "    asin(x, /)\n",
            "        Return the arc sine (measured in radians) of x.\n",
            "    \n",
            "    asinh(x, /)\n",
            "        Return the inverse hyperbolic sine of x.\n",
            "    \n",
            "    atan(x, /)\n",
            "        Return the arc tangent (measured in radians) of x.\n",
            "    \n",
            "    atan2(y, x, /)\n",
            "        Return the arc tangent (measured in radians) of y/x.\n",
            "        \n",
            "        Unlike atan(y/x), the signs of both x and y are considered.\n",
            "    \n",
            "    atanh(x, /)\n",
            "        Return the inverse hyperbolic tangent of x.\n",
            "    \n",
            "    ceil(x, /)\n",
            "        Return the ceiling of x as an Integral.\n",
            "        \n",
            "        This is the smallest integer >= x.\n",
            "    \n",
            "    copysign(x, y, /)\n",
            "        Return a float with the magnitude (absolute value) of x but the sign of y.\n",
            "        \n",
            "        On platforms that support signed zeros, copysign(1.0, -0.0)\n",
            "        returns -1.0.\n",
            "    \n",
            "    cos(x, /)\n",
            "        Return the cosine of x (measured in radians).\n",
            "    \n",
            "    cosh(x, /)\n",
            "        Return the hyperbolic cosine of x.\n",
            "    \n",
            "    degrees(x, /)\n",
            "        Convert angle x from radians to degrees.\n",
            "    \n",
            "    erf(x, /)\n",
            "        Error function at x.\n",
            "    \n",
            "    erfc(x, /)\n",
            "        Complementary error function at x.\n",
            "    \n",
            "    exp(x, /)\n",
            "        Return e raised to the power of x.\n",
            "    \n",
            "    expm1(x, /)\n",
            "        Return exp(x)-1.\n",
            "        \n",
            "        This function avoids the loss of precision involved in the direct evaluation of exp(x)-1 for small x.\n",
            "    \n",
            "    fabs(x, /)\n",
            "        Return the absolute value of the float x.\n",
            "    \n",
            "    factorial(x, /)\n",
            "        Find x!.\n",
            "        \n",
            "        Raise a ValueError if x is negative or non-integral.\n",
            "    \n",
            "    floor(x, /)\n",
            "        Return the floor of x as an Integral.\n",
            "        \n",
            "        This is the largest integer <= x.\n",
            "    \n",
            "    fmod(x, y, /)\n",
            "        Return fmod(x, y), according to platform C.\n",
            "        \n",
            "        x % y may differ.\n",
            "    \n",
            "    frexp(x, /)\n",
            "        Return the mantissa and exponent of x, as pair (m, e).\n",
            "        \n",
            "        m is a float and e is an int, such that x = m * 2.**e.\n",
            "        If x is 0, m and e are both 0.  Else 0.5 <= abs(m) < 1.0.\n",
            "    \n",
            "    fsum(seq, /)\n",
            "        Return an accurate floating point sum of values in the iterable seq.\n",
            "        \n",
            "        Assumes IEEE-754 floating point arithmetic.\n",
            "    \n",
            "    gamma(x, /)\n",
            "        Gamma function at x.\n",
            "    \n",
            "    gcd(x, y, /)\n",
            "        greatest common divisor of x and y\n",
            "    \n",
            "    hypot(x, y, /)\n",
            "        Return the Euclidean distance, sqrt(x*x + y*y).\n",
            "    \n",
            "    isclose(a, b, *, rel_tol=1e-09, abs_tol=0.0)\n",
            "        Determine whether two floating point numbers are close in value.\n",
            "        \n",
            "          rel_tol\n",
            "            maximum difference for being considered \"close\", relative to the\n",
            "            magnitude of the input values\n",
            "          abs_tol\n",
            "            maximum difference for being considered \"close\", regardless of the\n",
            "            magnitude of the input values\n",
            "        \n",
            "        Return True if a is close in value to b, and False otherwise.\n",
            "        \n",
            "        For the values to be considered close, the difference between them\n",
            "        must be smaller than at least one of the tolerances.\n",
            "        \n",
            "        -inf, inf and NaN behave similarly to the IEEE 754 Standard.  That\n",
            "        is, NaN is not close to anything, even itself.  inf and -inf are\n",
            "        only close to themselves.\n",
            "    \n",
            "    isfinite(x, /)\n",
            "        Return True if x is neither an infinity nor a NaN, and False otherwise.\n",
            "    \n",
            "    isinf(x, /)\n",
            "        Return True if x is a positive or negative infinity, and False otherwise.\n",
            "    \n",
            "    isnan(x, /)\n",
            "        Return True if x is a NaN (not a number), and False otherwise.\n",
            "    \n",
            "    ldexp(x, i, /)\n",
            "        Return x * (2**i).\n",
            "        \n",
            "        This is essentially the inverse of frexp().\n",
            "    \n",
            "    lgamma(x, /)\n",
            "        Natural logarithm of absolute value of Gamma function at x.\n",
            "    \n",
            "    log(...)\n",
            "        log(x, [base=math.e])\n",
            "        Return the logarithm of x to the given base.\n",
            "        \n",
            "        If the base not specified, returns the natural logarithm (base e) of x.\n",
            "    \n",
            "    log10(x, /)\n",
            "        Return the base 10 logarithm of x.\n",
            "    \n",
            "    log1p(x, /)\n",
            "        Return the natural logarithm of 1+x (base e).\n",
            "        \n",
            "        The result is computed in a way which is accurate for x near zero.\n",
            "    \n",
            "    log2(x, /)\n",
            "        Return the base 2 logarithm of x.\n",
            "    \n",
            "    modf(x, /)\n",
            "        Return the fractional and integer parts of x.\n",
            "        \n",
            "        Both results carry the sign of x and are floats.\n",
            "    \n",
            "    pow(x, y, /)\n",
            "        Return x**y (x to the power of y).\n",
            "    \n",
            "    radians(x, /)\n",
            "        Convert angle x from degrees to radians.\n",
            "    \n",
            "    remainder(x, y, /)\n",
            "        Difference between x and the closest integer multiple of y.\n",
            "        \n",
            "        Return x - n*y where n*y is the closest integer multiple of y.\n",
            "        In the case where x is exactly halfway between two multiples of\n",
            "        y, the nearest even value of n is used. The result is always exact.\n",
            "    \n",
            "    sin(x, /)\n",
            "        Return the sine of x (measured in radians).\n",
            "    \n",
            "    sinh(x, /)\n",
            "        Return the hyperbolic sine of x.\n",
            "    \n",
            "    sqrt(x, /)\n",
            "        Return the square root of x.\n",
            "    \n",
            "    tan(x, /)\n",
            "        Return the tangent of x (measured in radians).\n",
            "    \n",
            "    tanh(x, /)\n",
            "        Return the hyperbolic tangent of x.\n",
            "    \n",
            "    trunc(x, /)\n",
            "        Truncates the Real x to the nearest Integral toward 0.\n",
            "        \n",
            "        Uses the __trunc__ magic method.\n",
            "\n",
            "DATA\n",
            "    e = 2.718281828459045\n",
            "    inf = inf\n",
            "    nan = nan\n",
            "    pi = 3.141592653589793\n",
            "    tau = 6.283185307179586\n",
            "\n",
            "FILE\n",
            "    (built-in)\n",
            "\n",
            "\n"
          ],
          "name": "stdout"
        }
      ]
    },
    {
      "cell_type": "markdown",
      "metadata": {
        "id": "5ePVxXhBfTAM"
      },
      "source": [
        "### Difference between `math` and `numpy`\n",
        "[from StackOverflow](https://stackoverflow.com/questions/41648058/what-is-the-difference-between-import-numpy-and-import-math)\n",
        "\n",
        "- Use `math` if you are doing simple comutations with only with scalars (and no lists or arrays).\n",
        "> `math` is part of the standard python library. It provides functions for basic mathematical operations as well as some commonly used constants.\n",
        "\n",
        "- Use `numpy` if you are doing scientific computations with matrices, arrays, or large datasets.\n",
        "> numpy on the other hand is a third party package geared towards scientific computing. It is the defacto package for numerical and vector operations in python. It provides several routines optimized for vector and array computations as a result, is a lot faster for such operations than say just using python lists. See http://www.numpy.org/ for more info."
      ]
    },
    {
      "cell_type": "markdown",
      "metadata": {
        "id": "aBrLq7GQdHgv"
      },
      "source": [
        "## Import specific items from a library module to shorten programs."
      ]
    },
    {
      "cell_type": "code",
      "metadata": {
        "id": "d523PZHvdORx"
      },
      "source": [
        "from numpy import cos, pi"
      ],
      "execution_count": 10,
      "outputs": []
    },
    {
      "cell_type": "code",
      "metadata": {
        "id": "jrmJpBR9yj-e",
        "outputId": "aeb584c7-cb46-4150-cd2d-3a17f8dd4bc6",
        "colab": {
          "base_uri": "https://localhost:8080/"
        }
      },
      "source": [
        "print('cos(pi) is', cos(pi))"
      ],
      "execution_count": 11,
      "outputs": [
        {
          "output_type": "stream",
          "text": [
            "cos(pi) is -1.0\n"
          ],
          "name": "stdout"
        }
      ]
    },
    {
      "cell_type": "markdown",
      "metadata": {
        "id": "ep4WQBOOeXpx"
      },
      "source": [
        "## Create an alias for a library module when importing it to shorten programs.\n",
        "\n",
        "> Use `import ... as ...` to give a library a short alias while importing it.\n",
        ">\n",
        "> Then refer to items in the library using that shortened name."
      ]
    },
    {
      "cell_type": "code",
      "metadata": {
        "id": "XXILQGeUeo4v",
        "colab": {
          "base_uri": "https://localhost:8080/"
        },
        "outputId": "d44e2b83-ba98-4b4e-d548-7f1e0acfdfd8"
      },
      "source": [
        "import numpy as np\n",
        "\n",
        "print('cos(pi) is', np.cos(np.pi))"
      ],
      "execution_count": 12,
      "outputs": [
        {
          "output_type": "stream",
          "text": [
            "cos(pi) is -1.0\n"
          ],
          "name": "stdout"
        }
      ]
    },
    {
      "cell_type": "markdown",
      "metadata": {
        "id": "Tk1vRvskXMic"
      },
      "source": [
        "### Essential Python libraries:\n",
        "\n",
        "- `numpy`\n",
        "- `pandas`\n",
        "- `matplotlib`\n",
        "\n",
        "### Create alias for these libraries:"
      ]
    },
    {
      "cell_type": "code",
      "metadata": {
        "id": "ohitEnu4UuGU"
      },
      "source": [
        "import numpy as np\n",
        "import pandas as pd\n",
        "import matplotlib.pyplot as plt"
      ],
      "execution_count": 13,
      "outputs": []
    },
    {
      "cell_type": "markdown",
      "metadata": {
        "id": "sQRBemb2hlwr"
      },
      "source": [
        "## A few exercises:"
      ]
    },
    {
      "cell_type": "markdown",
      "metadata": {
        "id": "1xg5I_dfhpW_"
      },
      "source": [
        "## 1)\n",
        "\n",
        "When a colleague of yours types `help(math)`, Python reports an error:\n",
        "\n",
        "`NameError: name 'math' is not defined`\n",
        "\n",
        "What has your colleague forgotten to do?"
      ]
    },
    {
      "cell_type": "code",
      "metadata": {
        "id": "rJSvaBO2ifGU"
      },
      "source": [
        "FORGOT TO `IMPORT`\n"
      ],
      "execution_count": null,
      "outputs": []
    },
    {
      "cell_type": "markdown",
      "metadata": {
        "id": "fWHg_SglhpDW"
      },
      "source": [
        "## 2)\n",
        "Take the square root of a 4x4 2-D array with the number 144 in the diagonals and 0's elsewhere."
      ]
    },
    {
      "cell_type": "code",
      "metadata": {
        "id": "Nyc2h_cZjvDm"
      },
      "source": [
        "a = np.eye(4) * 144"
      ],
      "execution_count": 14,
      "outputs": []
    },
    {
      "cell_type": "code",
      "metadata": {
        "id": "g-8aNlsm1GYS"
      },
      "source": [
        "np.eye(4)"
      ],
      "execution_count": null,
      "outputs": []
    },
    {
      "cell_type": "code",
      "metadata": {
        "id": "5wHzJP_C0w7T",
        "outputId": "6e74fe82-97c3-43b3-ca18-587c3078b5e7",
        "colab": {
          "base_uri": "https://localhost:8080/"
        }
      },
      "source": [
        "a"
      ],
      "execution_count": 15,
      "outputs": [
        {
          "output_type": "execute_result",
          "data": {
            "text/plain": [
              "array([[144.,   0.,   0.,   0.],\n",
              "       [  0., 144.,   0.,   0.],\n",
              "       [  0.,   0., 144.,   0.],\n",
              "       [  0.,   0.,   0., 144.]])"
            ]
          },
          "metadata": {
            "tags": []
          },
          "execution_count": 15
        }
      ]
    },
    {
      "cell_type": "code",
      "metadata": {
        "id": "QDswcoWg03bK",
        "outputId": "58d064de-9f38-45c6-e21d-9b2945654044",
        "colab": {
          "base_uri": "https://localhost:8080/"
        }
      },
      "source": [
        "np.sqrt(a)"
      ],
      "execution_count": 16,
      "outputs": [
        {
          "output_type": "execute_result",
          "data": {
            "text/plain": [
              "array([[12.,  0.,  0.,  0.],\n",
              "       [ 0., 12.,  0.,  0.],\n",
              "       [ 0.,  0., 12.,  0.],\n",
              "       [ 0.,  0.,  0., 12.]])"
            ]
          },
          "metadata": {
            "tags": []
          },
          "execution_count": 16
        }
      ]
    },
    {
      "cell_type": "markdown",
      "metadata": {
        "id": "cQDNb5jgkua9"
      },
      "source": [
        "## 3)\n",
        "Create a 1D array of numbers going from 0 to 20 with 2 as the step count.\n",
        "\n",
        "What is the length of this object?"
      ]
    },
    {
      "cell_type": "code",
      "metadata": {
        "id": "PzTZbWkVk3Qv"
      },
      "source": [
        "b = np.arange(0, 21, 2)"
      ],
      "execution_count": 26,
      "outputs": []
    },
    {
      "cell_type": "code",
      "metadata": {
        "id": "CM5thbzb2OTb"
      },
      "source": [
        "c = np.arange(0,22,2)"
      ],
      "execution_count": 27,
      "outputs": []
    },
    {
      "cell_type": "code",
      "metadata": {
        "id": "smJmYEkR2TrA",
        "outputId": "3c304f5a-50a8-4077-ff8b-5b0f3a326097",
        "colab": {
          "base_uri": "https://localhost:8080/"
        }
      },
      "source": [
        "len(b)"
      ],
      "execution_count": 28,
      "outputs": [
        {
          "output_type": "execute_result",
          "data": {
            "text/plain": [
              "11"
            ]
          },
          "metadata": {
            "tags": []
          },
          "execution_count": 28
        }
      ]
    },
    {
      "cell_type": "code",
      "metadata": {
        "id": "ftcvi4hl2VXI",
        "outputId": "26a44ea7-e607-42f6-a88b-f38f31779d12",
        "colab": {
          "base_uri": "https://localhost:8080/"
        }
      },
      "source": [
        "len(c)"
      ],
      "execution_count": 29,
      "outputs": [
        {
          "output_type": "execute_result",
          "data": {
            "text/plain": [
              "11"
            ]
          },
          "metadata": {
            "tags": []
          },
          "execution_count": 29
        }
      ]
    },
    {
      "cell_type": "markdown",
      "metadata": {
        "id": "lpCJ7yRGc2cc"
      },
      "source": [
        "# **Pandas!**\n",
        "\n",
        "<img width=\"400\" src='https://miro.medium.com/max/1400/1*KdxlBR9P3mDp9JZ_URMdYQ.jpeg'>\n",
        "\n",
        "## No but seriously, `pandas` is a powerful Python library that allows for efficient, high-performing analysis (typically statistics) on _tabular_ data (i.e. excel sheet type of data).\n",
        "\n",
        "> Pandas is built on top of the Numpy library, which in practice means that most of the methods defined for Numpy Arrays apply to Pandas Series/DataFrames."
      ]
    },
    {
      "cell_type": "markdown",
      "metadata": {
        "id": "SkNthSPeZbsz"
      },
      "source": [
        "### Pandas Capabilities\n",
        "\n",
        "[Documentation](https://pandas.pydata.org/pandas-docs/stable/)\n"
      ]
    },
    {
      "cell_type": "markdown",
      "metadata": {
        "id": "tZQvjzjlxvXD"
      },
      "source": [
        "\n",
        "- A fast and efficient DataFrame object for data manipulation with integrated indexing;\n",
        "- Tools for reading and writing data between in-memory data structures and different formats: CSV and text files, Microsoft Excel, SQL databases, and the fast HDF5 format;\n",
        "- Intelligent data alignment and integrated handling of missing data: gain automatic label-based alignment in computations and easily manipulate messy data into an orderly form;\n",
        "- Flexible reshaping and pivoting of data sets;\n",
        "- Intelligent label-based slicing, fancy indexing, and subsetting of large data sets;\n",
        "- Columns can be inserted and deleted from data structures for size mutability;\n",
        "- Aggregating or transforming data with a powerful group by engine allowing split-apply-combine operations on data sets;\n",
        "- High performance merging and joining of data sets;\n",
        "- Hierarchical axis indexing provides an intuitive way of working with high-dimensional data in a lower-dimensional data structure;\n",
        "- Time series-functionality: date range generation and frequency conversion, moving window statistics, moving window linear regressions, date shifting and lagging. Even create domain-specific time offsets and join time series without losing data;\n",
        "- Highly optimized for performance, with critical code paths written in Cython or C.\n",
        "- Python with pandas is in use in a wide variety of academic and commercial domains, including Finance, Neuroscience, Economics, Statistics, Advertising, Web Analytics, and more."
      ]
    },
    {
      "cell_type": "markdown",
      "metadata": {
        "id": "smkjZ2oxxril"
      },
      "source": [
        "### **There are two main data structures in pandas**\n",
        "\n",
        "> **Data Series**: 1-dimensional array of values with an index\n",
        ">\n",
        "> **Data Frame**: 2-dimensional array of values with a row and a column index\n",
        "\n",
        "> A DataFrame is a collection of Series; The DataFrame is the way Pandas represents a table, and Series is the data-structure Pandas use to represent a column.\n"
      ]
    },
    {
      "cell_type": "markdown",
      "metadata": {
        "id": "ctnPb5buzPBK"
      },
      "source": [
        "## Data series (left), Data Frame (right)\n",
        "\n",
        "Introduce pd frame and series with class age and height, with the names as index and age/height as values."
      ]
    },
    {
      "cell_type": "markdown",
      "metadata": {
        "id": "ACc2bAe1d7TW"
      },
      "source": [
        "<img width=\"500\" src='https://miro.medium.com/max/1400/1*o5c599ueURBTZWDGmx1SiA.png'>"
      ]
    },
    {
      "cell_type": "markdown",
      "metadata": {
        "id": "f269SEDUmcQY"
      },
      "source": [
        "> Anytime you need more information on a package/function, call `?` after the function name."
      ]
    },
    {
      "cell_type": "code",
      "metadata": {
        "id": "CU3zQl7WmYWg"
      },
      "source": [
        "import pandas as pd"
      ],
      "execution_count": 30,
      "outputs": []
    },
    {
      "cell_type": "code",
      "metadata": {
        "id": "J2qTkVPM7GUP"
      },
      "source": [
        "pd?"
      ],
      "execution_count": 31,
      "outputs": []
    },
    {
      "cell_type": "markdown",
      "metadata": {
        "id": "x3c7uSDagkVn"
      },
      "source": [
        "## Pandas Data Series:"
      ]
    },
    {
      "cell_type": "code",
      "metadata": {
        "id": "XaHswcq8mDqi"
      },
      "source": [
        "# create index\n",
        "names = ['Shanice', 'Rahim', 'Jonathan']\n",
        "\n",
        "# create data values\n",
        "ages = [121, 83, 90]"
      ],
      "execution_count": 32,
      "outputs": []
    },
    {
      "cell_type": "code",
      "metadata": {
        "id": "-dRZeqbWtfBm"
      },
      "source": [
        "biopy = pd.Series(data=ages, index=names, name='BioPy Club')"
      ],
      "execution_count": 33,
      "outputs": []
    },
    {
      "cell_type": "code",
      "metadata": {
        "id": "XyR7kF588IC9",
        "outputId": "9775d5af-03f5-4db5-d7d4-04ef1e17177e",
        "colab": {
          "base_uri": "https://localhost:8080/"
        }
      },
      "source": [
        "biopy"
      ],
      "execution_count": 34,
      "outputs": [
        {
          "output_type": "execute_result",
          "data": {
            "text/plain": [
              "Shanice     121\n",
              "Rahim        83\n",
              "Jonathan     90\n",
              "Name: BioPy Club, dtype: int64"
            ]
          },
          "metadata": {
            "tags": []
          },
          "execution_count": 34
        }
      ]
    },
    {
      "cell_type": "markdown",
      "metadata": {
        "id": "DCYPBJyRsz_W"
      },
      "source": [
        "> You can use many statistical functions on both Series and DataFrames."
      ]
    },
    {
      "cell_type": "code",
      "metadata": {
        "id": "s_PRteMFrEoJ",
        "colab": {
          "base_uri": "https://localhost:8080/"
        },
        "outputId": "1e0b6bd2-3b7a-494b-e055-965f41704284"
      },
      "source": [
        "#oldest age in your series\n",
        "biopy.max()"
      ],
      "execution_count": 35,
      "outputs": [
        {
          "output_type": "execute_result",
          "data": {
            "text/plain": [
              "121"
            ]
          },
          "metadata": {
            "tags": []
          },
          "execution_count": 35
        }
      ]
    },
    {
      "cell_type": "code",
      "metadata": {
        "id": "bD3NVjo0rVOK",
        "colab": {
          "base_uri": "https://localhost:8080/"
        },
        "outputId": "9ae44c49-4f4f-4a22-f378-89280d9a1534"
      },
      "source": [
        "#youngest age value in your series\n",
        "biopy.min()"
      ],
      "execution_count": 36,
      "outputs": [
        {
          "output_type": "execute_result",
          "data": {
            "text/plain": [
              "83"
            ]
          },
          "metadata": {
            "tags": []
          },
          "execution_count": 36
        }
      ]
    },
    {
      "cell_type": "code",
      "metadata": {
        "id": "QFj5JpPLrYsM",
        "colab": {
          "base_uri": "https://localhost:8080/"
        },
        "outputId": "58bbdd67-b174-4cbb-d67c-d191ef1d4281"
      },
      "source": [
        "#average age in the whole club\n",
        "biopy.mean()"
      ],
      "execution_count": 37,
      "outputs": [
        {
          "output_type": "execute_result",
          "data": {
            "text/plain": [
              "98.0"
            ]
          },
          "metadata": {
            "tags": []
          },
          "execution_count": 37
        }
      ]
    },
    {
      "cell_type": "markdown",
      "metadata": {
        "id": "XUMERkPpt1wZ"
      },
      "source": [
        "> Ocean basins pandas series"
      ]
    },
    {
      "cell_type": "code",
      "metadata": {
        "id": "c2hmlDsKc4nG"
      },
      "source": [
        "#creating index\n",
        "ocean_basin = ['Arctic', 'Atlantic', 'Indian', 'Pacific', 'Southern']\n",
        "avg_salinity = [32, 35, 34.5, 35, 34.7] #units are PSU\n",
        "ds = pd.Series(data=avg_salinity, index=ocean_basin, \n",
        "               name=\"Ocean basins' average salinities\")"
      ],
      "execution_count": 38,
      "outputs": []
    },
    {
      "cell_type": "code",
      "metadata": {
        "id": "JaCL9MgSiRWu",
        "colab": {
          "base_uri": "https://localhost:8080/"
        },
        "outputId": "cc43dcdf-f822-4df0-ea47-e3f263c04c3e"
      },
      "source": [
        "ds"
      ],
      "execution_count": 39,
      "outputs": [
        {
          "output_type": "execute_result",
          "data": {
            "text/plain": [
              "Arctic      32.0\n",
              "Atlantic    35.0\n",
              "Indian      34.5\n",
              "Pacific     35.0\n",
              "Southern    34.7\n",
              "Name: Ocean basins' average salinities, dtype: float64"
            ]
          },
          "metadata": {
            "tags": []
          },
          "execution_count": 39
        }
      ]
    },
    {
      "cell_type": "code",
      "metadata": {
        "id": "MBtpArPohhAU",
        "colab": {
          "base_uri": "https://localhost:8080/"
        },
        "outputId": "20414cc9-9bc9-4fcb-94d0-07d14cecc0e8"
      },
      "source": [
        "# If you're not sure what the index of your pd series is:\n",
        "ds.index"
      ],
      "execution_count": 40,
      "outputs": [
        {
          "output_type": "execute_result",
          "data": {
            "text/plain": [
              "Index(['Arctic', 'Atlantic', 'Indian', 'Pacific', 'Southern'], dtype='object')"
            ]
          },
          "metadata": {
            "tags": []
          },
          "execution_count": 40
        }
      ]
    },
    {
      "cell_type": "code",
      "metadata": {
        "id": "jBwj2t0Dq2jC",
        "colab": {
          "base_uri": "https://localhost:8080/"
        },
        "outputId": "3983837b-dc54-40b4-a87e-b7aa763375ad"
      },
      "source": [
        "# If you're not sure what the values of your pd series are:\n",
        "ds.values"
      ],
      "execution_count": 41,
      "outputs": [
        {
          "output_type": "execute_result",
          "data": {
            "text/plain": [
              "array([32. , 35. , 34.5, 35. , 34.7])"
            ]
          },
          "metadata": {
            "tags": []
          },
          "execution_count": 41
        }
      ]
    },
    {
      "cell_type": "markdown",
      "metadata": {
        "id": "CGbR9anukjdM"
      },
      "source": [
        "> Find the freshest ocean basin(s)"
      ]
    },
    {
      "cell_type": "code",
      "metadata": {
        "id": "FuYBlSxpsAFe",
        "colab": {
          "base_uri": "https://localhost:8080/"
        },
        "outputId": "aa9c7915-6a7f-4539-a219-8deb0599b5e0"
      },
      "source": [
        "#first find the minimum salinity value\n",
        "ds.min()"
      ],
      "execution_count": 42,
      "outputs": [
        {
          "output_type": "execute_result",
          "data": {
            "text/plain": [
              "32.0"
            ]
          },
          "metadata": {
            "tags": []
          },
          "execution_count": 42
        }
      ]
    },
    {
      "cell_type": "code",
      "metadata": {
        "id": "3CB40BALrm1J",
        "colab": {
          "base_uri": "https://localhost:8080/"
        },
        "outputId": "78893f75-8db7-42ba-da62-782aafc69bfa"
      },
      "source": [
        "#next find the index associated with that salinity value\n",
        "ds[ds == 32.0]"
      ],
      "execution_count": 43,
      "outputs": [
        {
          "output_type": "execute_result",
          "data": {
            "text/plain": [
              "Arctic    32.0\n",
              "Name: Ocean basins' average salinities, dtype: float64"
            ]
          },
          "metadata": {
            "tags": []
          },
          "execution_count": 43
        }
      ]
    },
    {
      "cell_type": "code",
      "metadata": {
        "id": "OgZmvCwcs4ca",
        "colab": {
          "base_uri": "https://localhost:8080/"
        },
        "outputId": "ff5d73ce-1190-4eeb-f37b-846e0c2a82d8"
      },
      "source": [
        "#another way to write the same code!\n",
        "ds[ds == ds.min()]"
      ],
      "execution_count": 44,
      "outputs": [
        {
          "output_type": "execute_result",
          "data": {
            "text/plain": [
              "Arctic    32.0\n",
              "Name: Ocean basins' average salinities, dtype: float64"
            ]
          },
          "metadata": {
            "tags": []
          },
          "execution_count": 44
        }
      ]
    },
    {
      "cell_type": "markdown",
      "metadata": {
        "id": "OnKPnpffsiRB"
      },
      "source": [
        "> Find the saltiest ocean basin(s)"
      ]
    },
    {
      "cell_type": "code",
      "metadata": {
        "id": "SbkuJX2Lsppo"
      },
      "source": [
        "# Try it: your code here"
      ],
      "execution_count": null,
      "outputs": []
    },
    {
      "cell_type": "code",
      "metadata": {
        "id": "7GvXtt2Ssmvp"
      },
      "source": [
        "# Try it: your code here"
      ],
      "execution_count": 48,
      "outputs": []
    },
    {
      "cell_type": "code",
      "metadata": {
        "id": "pkcYVpy8tWch",
        "colab": {
          "base_uri": "https://localhost:8080/"
        },
        "outputId": "9b339bce-b2da-4106-eee6-fef5448661e8"
      },
      "source": [
        "ds[ds == ds.max()]"
      ],
      "execution_count": 45,
      "outputs": [
        {
          "output_type": "execute_result",
          "data": {
            "text/plain": [
              "Atlantic    35.0\n",
              "Pacific     35.0\n",
              "Name: Ocean basins' average salinities, dtype: float64"
            ]
          },
          "metadata": {
            "tags": []
          },
          "execution_count": 45
        }
      ]
    },
    {
      "cell_type": "markdown",
      "metadata": {
        "id": "zbSdHuNlgqnK"
      },
      "source": [
        "## Pandas Data Frame:"
      ]
    },
    {
      "cell_type": "markdown",
      "metadata": {
        "id": "Lnk15KDi_Vb3"
      },
      "source": [
        "\n",
        "`{'key': value}`"
      ]
    },
    {
      "cell_type": "code",
      "metadata": {
        "id": "dMjEbuu0gr1A"
      },
      "source": [
        "#create index\n",
        "ocean_basins = ['Arctic', 'Atlantic', 'Indian', 'Pacific', 'Southern']\n",
        "avg_salinity = [32, 35, 34.5, 35, 34.7] #units are PSU\n",
        "avg_temp = [-1.8, 14, 22, 20, 4] #units are ˚C\n",
        "\n",
        "#first create a dictionary\n",
        "avg_data = {'avg_salinity':avg_salinity,\n",
        "            'avg_temp':avg_temp}"
      ],
      "execution_count": 49,
      "outputs": []
    },
    {
      "cell_type": "code",
      "metadata": {
        "id": "rwRta6Ho_71k",
        "outputId": "c1fbf3e8-e036-4ce4-cb57-95ee172e5558",
        "colab": {
          "base_uri": "https://localhost:8080/"
        }
      },
      "source": [
        "avg_data['avg_salinity']"
      ],
      "execution_count": 54,
      "outputs": [
        {
          "output_type": "execute_result",
          "data": {
            "text/plain": [
              "[32, 35, 34.5, 35, 34.7]"
            ]
          },
          "metadata": {
            "tags": []
          },
          "execution_count": 54
        }
      ]
    },
    {
      "cell_type": "code",
      "metadata": {
        "id": "6HnZx-_g_-8u",
        "outputId": "a3a2fb6b-526d-43be-c0f1-4d0a45445b26",
        "colab": {
          "base_uri": "https://localhost:8080/"
        }
      },
      "source": [
        "\n",
        "ocean_basins"
      ],
      "execution_count": 51,
      "outputs": [
        {
          "output_type": "execute_result",
          "data": {
            "text/plain": [
              "['Arctic', 'Atlantic', 'Indian', 'Pacific', 'Southern']"
            ]
          },
          "metadata": {
            "tags": []
          },
          "execution_count": 51
        }
      ]
    },
    {
      "cell_type": "code",
      "metadata": {
        "id": "NdmE_lshAEy1",
        "outputId": "471b9c72-97fa-42be-a953-0fbc628b6421",
        "colab": {
          "base_uri": "https://localhost:8080/"
        }
      },
      "source": [
        "\n",
        "avg_salinity"
      ],
      "execution_count": 53,
      "outputs": [
        {
          "output_type": "execute_result",
          "data": {
            "text/plain": [
              "[32, 35, 34.5, 35, 34.7]"
            ]
          },
          "metadata": {
            "tags": []
          },
          "execution_count": 53
        }
      ]
    },
    {
      "cell_type": "code",
      "metadata": {
        "id": "nc4jg12Qoigc"
      },
      "source": [
        "df = pd.DataFrame(data=avg_data, index=ocean_basins)"
      ],
      "execution_count": 55,
      "outputs": []
    },
    {
      "cell_type": "code",
      "metadata": {
        "id": "bc09e412ovEz",
        "colab": {
          "base_uri": "https://localhost:8080/",
          "height": 202
        },
        "outputId": "eafb9c5d-dc95-45b8-f99d-9caacfaf2b86"
      },
      "source": [
        "df"
      ],
      "execution_count": 56,
      "outputs": [
        {
          "output_type": "execute_result",
          "data": {
            "text/html": [
              "<div>\n",
              "<style scoped>\n",
              "    .dataframe tbody tr th:only-of-type {\n",
              "        vertical-align: middle;\n",
              "    }\n",
              "\n",
              "    .dataframe tbody tr th {\n",
              "        vertical-align: top;\n",
              "    }\n",
              "\n",
              "    .dataframe thead th {\n",
              "        text-align: right;\n",
              "    }\n",
              "</style>\n",
              "<table border=\"1\" class=\"dataframe\">\n",
              "  <thead>\n",
              "    <tr style=\"text-align: right;\">\n",
              "      <th></th>\n",
              "      <th>avg_salinity</th>\n",
              "      <th>avg_temp</th>\n",
              "    </tr>\n",
              "  </thead>\n",
              "  <tbody>\n",
              "    <tr>\n",
              "      <th>Arctic</th>\n",
              "      <td>32.0</td>\n",
              "      <td>-1.8</td>\n",
              "    </tr>\n",
              "    <tr>\n",
              "      <th>Atlantic</th>\n",
              "      <td>35.0</td>\n",
              "      <td>14.0</td>\n",
              "    </tr>\n",
              "    <tr>\n",
              "      <th>Indian</th>\n",
              "      <td>34.5</td>\n",
              "      <td>22.0</td>\n",
              "    </tr>\n",
              "    <tr>\n",
              "      <th>Pacific</th>\n",
              "      <td>35.0</td>\n",
              "      <td>20.0</td>\n",
              "    </tr>\n",
              "    <tr>\n",
              "      <th>Southern</th>\n",
              "      <td>34.7</td>\n",
              "      <td>4.0</td>\n",
              "    </tr>\n",
              "  </tbody>\n",
              "</table>\n",
              "</div>"
            ],
            "text/plain": [
              "          avg_salinity  avg_temp\n",
              "Arctic            32.0      -1.8\n",
              "Atlantic          35.0      14.0\n",
              "Indian            34.5      22.0\n",
              "Pacific           35.0      20.0\n",
              "Southern          34.7       4.0"
            ]
          },
          "metadata": {
            "tags": []
          },
          "execution_count": 56
        }
      ]
    },
    {
      "cell_type": "code",
      "metadata": {
        "id": "ADm4Jxo9A0UC",
        "outputId": "cb70795b-d5f6-4e09-df9e-05405884857b",
        "colab": {
          "base_uri": "https://localhost:8080/"
        }
      },
      "source": [
        "df.info()"
      ],
      "execution_count": 57,
      "outputs": [
        {
          "output_type": "stream",
          "text": [
            "<class 'pandas.core.frame.DataFrame'>\n",
            "Index: 5 entries, Arctic to Southern\n",
            "Data columns (total 2 columns):\n",
            " #   Column        Non-Null Count  Dtype  \n",
            "---  ------        --------------  -----  \n",
            " 0   avg_salinity  5 non-null      float64\n",
            " 1   avg_temp      5 non-null      float64\n",
            "dtypes: float64(2)\n",
            "memory usage: 280.0+ bytes\n"
          ],
          "name": "stdout"
        }
      ]
    },
    {
      "cell_type": "markdown",
      "metadata": {
        "id": "Rn0FBjo5pv1f"
      },
      "source": [
        "> You can use many statistical functions on both Series and DataFrames."
      ]
    },
    {
      "cell_type": "code",
      "metadata": {
        "id": "hrFTMRfXplC4",
        "colab": {
          "base_uri": "https://localhost:8080/"
        },
        "outputId": "fd4b6d6d-ddc2-43f5-cd7c-701c46cd548d"
      },
      "source": [
        "df.min()"
      ],
      "execution_count": 58,
      "outputs": [
        {
          "output_type": "execute_result",
          "data": {
            "text/plain": [
              "avg_salinity    32.0\n",
              "avg_temp        -1.8\n",
              "dtype: float64"
            ]
          },
          "metadata": {
            "tags": []
          },
          "execution_count": 58
        }
      ]
    },
    {
      "cell_type": "code",
      "metadata": {
        "id": "Wd2UJEU_p4N1",
        "colab": {
          "base_uri": "https://localhost:8080/"
        },
        "outputId": "81b64bf1-fb5f-433f-dd5e-984fa27401e1"
      },
      "source": [
        "df.max()"
      ],
      "execution_count": 59,
      "outputs": [
        {
          "output_type": "execute_result",
          "data": {
            "text/plain": [
              "avg_salinity    35.0\n",
              "avg_temp        22.0\n",
              "dtype: float64"
            ]
          },
          "metadata": {
            "tags": []
          },
          "execution_count": 59
        }
      ]
    },
    {
      "cell_type": "code",
      "metadata": {
        "id": "DBSMXeUbp65n",
        "colab": {
          "base_uri": "https://localhost:8080/"
        },
        "outputId": "312c4ec9-f052-45e4-8321-1e37e51434b8"
      },
      "source": [
        "df.mean()"
      ],
      "execution_count": 60,
      "outputs": [
        {
          "output_type": "execute_result",
          "data": {
            "text/plain": [
              "avg_salinity    34.24\n",
              "avg_temp        11.64\n",
              "dtype: float64"
            ]
          },
          "metadata": {
            "tags": []
          },
          "execution_count": 60
        }
      ]
    },
    {
      "cell_type": "markdown",
      "metadata": {
        "id": "wYv85yCmtQWk"
      },
      "source": [
        "> Or, if you want all the basic stats, you can call `describe()`\n"
      ]
    },
    {
      "cell_type": "code",
      "metadata": {
        "id": "tRpFYdQpp-CG",
        "colab": {
          "base_uri": "https://localhost:8080/",
          "height": 294
        },
        "outputId": "881bcbab-9513-485a-dc8b-78fb97575208"
      },
      "source": [
        "df.describe()"
      ],
      "execution_count": 61,
      "outputs": [
        {
          "output_type": "execute_result",
          "data": {
            "text/html": [
              "<div>\n",
              "<style scoped>\n",
              "    .dataframe tbody tr th:only-of-type {\n",
              "        vertical-align: middle;\n",
              "    }\n",
              "\n",
              "    .dataframe tbody tr th {\n",
              "        vertical-align: top;\n",
              "    }\n",
              "\n",
              "    .dataframe thead th {\n",
              "        text-align: right;\n",
              "    }\n",
              "</style>\n",
              "<table border=\"1\" class=\"dataframe\">\n",
              "  <thead>\n",
              "    <tr style=\"text-align: right;\">\n",
              "      <th></th>\n",
              "      <th>avg_salinity</th>\n",
              "      <th>avg_temp</th>\n",
              "    </tr>\n",
              "  </thead>\n",
              "  <tbody>\n",
              "    <tr>\n",
              "      <th>count</th>\n",
              "      <td>5.000000</td>\n",
              "      <td>5.000000</td>\n",
              "    </tr>\n",
              "    <tr>\n",
              "      <th>mean</th>\n",
              "      <td>34.240000</td>\n",
              "      <td>11.640000</td>\n",
              "    </tr>\n",
              "    <tr>\n",
              "      <th>std</th>\n",
              "      <td>1.270039</td>\n",
              "      <td>10.268788</td>\n",
              "    </tr>\n",
              "    <tr>\n",
              "      <th>min</th>\n",
              "      <td>32.000000</td>\n",
              "      <td>-1.800000</td>\n",
              "    </tr>\n",
              "    <tr>\n",
              "      <th>25%</th>\n",
              "      <td>34.500000</td>\n",
              "      <td>4.000000</td>\n",
              "    </tr>\n",
              "    <tr>\n",
              "      <th>50%</th>\n",
              "      <td>34.700000</td>\n",
              "      <td>14.000000</td>\n",
              "    </tr>\n",
              "    <tr>\n",
              "      <th>75%</th>\n",
              "      <td>35.000000</td>\n",
              "      <td>20.000000</td>\n",
              "    </tr>\n",
              "    <tr>\n",
              "      <th>max</th>\n",
              "      <td>35.000000</td>\n",
              "      <td>22.000000</td>\n",
              "    </tr>\n",
              "  </tbody>\n",
              "</table>\n",
              "</div>"
            ],
            "text/plain": [
              "       avg_salinity   avg_temp\n",
              "count      5.000000   5.000000\n",
              "mean      34.240000  11.640000\n",
              "std        1.270039  10.268788\n",
              "min       32.000000  -1.800000\n",
              "25%       34.500000   4.000000\n",
              "50%       34.700000  14.000000\n",
              "75%       35.000000  20.000000\n",
              "max       35.000000  22.000000"
            ]
          },
          "metadata": {
            "tags": []
          },
          "execution_count": 61
        }
      ]
    },
    {
      "cell_type": "markdown",
      "metadata": {
        "id": "UzSda_SEqL4y"
      },
      "source": [
        "> We can get a single column as a Series using python's getitem syntax on the DataFrame object."
      ]
    },
    {
      "cell_type": "code",
      "metadata": {
        "id": "y4Aue2cCqAJn",
        "colab": {
          "base_uri": "https://localhost:8080/"
        },
        "outputId": "6a078be4-4502-4535-c352-a87a5e0e3614"
      },
      "source": [
        "df['avg_salinity']"
      ],
      "execution_count": 62,
      "outputs": [
        {
          "output_type": "execute_result",
          "data": {
            "text/plain": [
              "Arctic      32.0\n",
              "Atlantic    35.0\n",
              "Indian      34.5\n",
              "Pacific     35.0\n",
              "Southern    34.7\n",
              "Name: avg_salinity, dtype: float64"
            ]
          },
          "metadata": {
            "tags": []
          },
          "execution_count": 62
        }
      ]
    },
    {
      "cell_type": "markdown",
      "metadata": {
        "id": "rwi9uXnLqwjQ"
      },
      "source": [
        "> or using attribute syntax."
      ]
    },
    {
      "cell_type": "code",
      "metadata": {
        "id": "5aMCTgeuqO6u",
        "colab": {
          "base_uri": "https://localhost:8080/"
        },
        "outputId": "0477256d-8c09-4dd7-b761-9394b74a35a6"
      },
      "source": [
        "df.avg_salinity"
      ],
      "execution_count": 63,
      "outputs": [
        {
          "output_type": "execute_result",
          "data": {
            "text/plain": [
              "Arctic      32.0\n",
              "Atlantic    35.0\n",
              "Indian      34.5\n",
              "Pacific     35.0\n",
              "Southern    34.7\n",
              "Name: avg_salinity, dtype: float64"
            ]
          },
          "metadata": {
            "tags": []
          },
          "execution_count": 63
        }
      ]
    },
    {
      "cell_type": "code",
      "metadata": {
        "id": "f17qPHLMByw-",
        "outputId": "657cc0f4-09bc-4c2a-acd9-23ab5ee7a7b3",
        "colab": {
          "base_uri": "https://localhost:8080/",
          "height": 202
        }
      },
      "source": [
        "\n",
        "df"
      ],
      "execution_count": 64,
      "outputs": [
        {
          "output_type": "execute_result",
          "data": {
            "text/html": [
              "<div>\n",
              "<style scoped>\n",
              "    .dataframe tbody tr th:only-of-type {\n",
              "        vertical-align: middle;\n",
              "    }\n",
              "\n",
              "    .dataframe tbody tr th {\n",
              "        vertical-align: top;\n",
              "    }\n",
              "\n",
              "    .dataframe thead th {\n",
              "        text-align: right;\n",
              "    }\n",
              "</style>\n",
              "<table border=\"1\" class=\"dataframe\">\n",
              "  <thead>\n",
              "    <tr style=\"text-align: right;\">\n",
              "      <th></th>\n",
              "      <th>avg_salinity</th>\n",
              "      <th>avg_temp</th>\n",
              "    </tr>\n",
              "  </thead>\n",
              "  <tbody>\n",
              "    <tr>\n",
              "      <th>Arctic</th>\n",
              "      <td>32.0</td>\n",
              "      <td>-1.8</td>\n",
              "    </tr>\n",
              "    <tr>\n",
              "      <th>Atlantic</th>\n",
              "      <td>35.0</td>\n",
              "      <td>14.0</td>\n",
              "    </tr>\n",
              "    <tr>\n",
              "      <th>Indian</th>\n",
              "      <td>34.5</td>\n",
              "      <td>22.0</td>\n",
              "    </tr>\n",
              "    <tr>\n",
              "      <th>Pacific</th>\n",
              "      <td>35.0</td>\n",
              "      <td>20.0</td>\n",
              "    </tr>\n",
              "    <tr>\n",
              "      <th>Southern</th>\n",
              "      <td>34.7</td>\n",
              "      <td>4.0</td>\n",
              "    </tr>\n",
              "  </tbody>\n",
              "</table>\n",
              "</div>"
            ],
            "text/plain": [
              "          avg_salinity  avg_temp\n",
              "Arctic            32.0      -1.8\n",
              "Atlantic          35.0      14.0\n",
              "Indian            34.5      22.0\n",
              "Pacific           35.0      20.0\n",
              "Southern          34.7       4.0"
            ]
          },
          "metadata": {
            "tags": []
          },
          "execution_count": 64
        }
      ]
    },
    {
      "cell_type": "markdown",
      "metadata": {
        "id": "_8VrsvjpUtcj"
      },
      "source": [
        "## Indexing & Slicing\n",
        "\n",
        "- Use `DataFrame.iloc[..., ...]` to select values by their (entry)  **position**\n",
        "\n",
        "- Use `DataFrame.loc[..., ...]` to select values by their (entry) **label**"
      ]
    },
    {
      "cell_type": "code",
      "metadata": {
        "id": "_53AQPRVUzhj",
        "colab": {
          "base_uri": "https://localhost:8080/"
        },
        "outputId": "bab4ad55-dc34-4b7f-b291-2b60c6c9c73f"
      },
      "source": [
        "df.loc['Southern']"
      ],
      "execution_count": 65,
      "outputs": [
        {
          "output_type": "execute_result",
          "data": {
            "text/plain": [
              "avg_salinity    34.7\n",
              "avg_temp         4.0\n",
              "Name: Southern, dtype: float64"
            ]
          },
          "metadata": {
            "tags": []
          },
          "execution_count": 65
        }
      ]
    },
    {
      "cell_type": "code",
      "metadata": {
        "id": "07px8EU3U7yo",
        "colab": {
          "base_uri": "https://localhost:8080/"
        },
        "outputId": "437cd140-e2ef-483e-d87b-d8a612609cc1"
      },
      "source": [
        "df.iloc[-1]"
      ],
      "execution_count": 68,
      "outputs": [
        {
          "output_type": "execute_result",
          "data": {
            "text/plain": [
              "avg_salinity    34.7\n",
              "avg_temp         4.0\n",
              "Name: Southern, dtype: float64"
            ]
          },
          "metadata": {
            "tags": []
          },
          "execution_count": 68
        }
      ]
    },
    {
      "cell_type": "markdown",
      "metadata": {
        "id": "hGTO1YEvVZHN"
      },
      "source": [
        "> we can also specify the column we want to access"
      ]
    },
    {
      "cell_type": "code",
      "metadata": {
        "id": "ufqqG8BTVgpA",
        "colab": {
          "base_uri": "https://localhost:8080/"
        },
        "outputId": "bb872a12-02c5-40f4-9926-c93946532c50"
      },
      "source": [
        "df.loc['Southern', 'avg_temp']"
      ],
      "execution_count": 69,
      "outputs": [
        {
          "output_type": "execute_result",
          "data": {
            "text/plain": [
              "4.0"
            ]
          },
          "metadata": {
            "tags": []
          },
          "execution_count": 69
        }
      ]
    },
    {
      "cell_type": "code",
      "metadata": {
        "id": "R3DKkPY-Vmi7",
        "colab": {
          "base_uri": "https://localhost:8080/"
        },
        "outputId": "d8596b33-22fe-4697-a668-eb94dba4bcf1"
      },
      "source": [
        "df.iloc[-1, 1]"
      ],
      "execution_count": 70,
      "outputs": [
        {
          "output_type": "execute_result",
          "data": {
            "text/plain": [
              "4.0"
            ]
          },
          "metadata": {
            "tags": []
          },
          "execution_count": 70
        }
      ]
    },
    {
      "cell_type": "markdown",
      "metadata": {
        "id": "dYYf4SnNVyq6"
      },
      "source": [
        "> If we make a calculation using columns from the DataFrame, it will keep the same index:"
      ]
    },
    {
      "cell_type": "code",
      "metadata": {
        "id": "1ZkkergZVzEd",
        "colab": {
          "base_uri": "https://localhost:8080/"
        },
        "outputId": "84ba6b92-c0c0-4882-9e43-d2bdbcd1d747"
      },
      "source": [
        "df.avg_salinity * df.avg_temp"
      ],
      "execution_count": 71,
      "outputs": [
        {
          "output_type": "execute_result",
          "data": {
            "text/plain": [
              "Arctic      -57.6\n",
              "Atlantic    490.0\n",
              "Indian      759.0\n",
              "Pacific     700.0\n",
              "Southern    138.8\n",
              "dtype: float64"
            ]
          },
          "metadata": {
            "tags": []
          },
          "execution_count": 71
        }
      ]
    },
    {
      "cell_type": "markdown",
      "metadata": {
        "id": "Qu3CDrO8Xafo"
      },
      "source": [
        "> Which we can easily add as another column to the DataFrame:"
      ]
    },
    {
      "cell_type": "code",
      "metadata": {
        "id": "k5UW7hIrXW7v"
      },
      "source": [
        "df['TS'] = df.avg_salinity * df.avg_temp"
      ],
      "execution_count": 72,
      "outputs": []
    },
    {
      "cell_type": "code",
      "metadata": {
        "id": "lSnCZnVwYCKh",
        "colab": {
          "base_uri": "https://localhost:8080/",
          "height": 202
        },
        "outputId": "059cdd67-f71b-4396-cfa3-36ad6fef64ce"
      },
      "source": [
        "df"
      ],
      "execution_count": 73,
      "outputs": [
        {
          "output_type": "execute_result",
          "data": {
            "text/html": [
              "<div>\n",
              "<style scoped>\n",
              "    .dataframe tbody tr th:only-of-type {\n",
              "        vertical-align: middle;\n",
              "    }\n",
              "\n",
              "    .dataframe tbody tr th {\n",
              "        vertical-align: top;\n",
              "    }\n",
              "\n",
              "    .dataframe thead th {\n",
              "        text-align: right;\n",
              "    }\n",
              "</style>\n",
              "<table border=\"1\" class=\"dataframe\">\n",
              "  <thead>\n",
              "    <tr style=\"text-align: right;\">\n",
              "      <th></th>\n",
              "      <th>avg_salinity</th>\n",
              "      <th>avg_temp</th>\n",
              "      <th>TS</th>\n",
              "    </tr>\n",
              "  </thead>\n",
              "  <tbody>\n",
              "    <tr>\n",
              "      <th>Arctic</th>\n",
              "      <td>32.0</td>\n",
              "      <td>-1.8</td>\n",
              "      <td>-57.6</td>\n",
              "    </tr>\n",
              "    <tr>\n",
              "      <th>Atlantic</th>\n",
              "      <td>35.0</td>\n",
              "      <td>14.0</td>\n",
              "      <td>490.0</td>\n",
              "    </tr>\n",
              "    <tr>\n",
              "      <th>Indian</th>\n",
              "      <td>34.5</td>\n",
              "      <td>22.0</td>\n",
              "      <td>759.0</td>\n",
              "    </tr>\n",
              "    <tr>\n",
              "      <th>Pacific</th>\n",
              "      <td>35.0</td>\n",
              "      <td>20.0</td>\n",
              "      <td>700.0</td>\n",
              "    </tr>\n",
              "    <tr>\n",
              "      <th>Southern</th>\n",
              "      <td>34.7</td>\n",
              "      <td>4.0</td>\n",
              "      <td>138.8</td>\n",
              "    </tr>\n",
              "  </tbody>\n",
              "</table>\n",
              "</div>"
            ],
            "text/plain": [
              "          avg_salinity  avg_temp     TS\n",
              "Arctic            32.0      -1.8  -57.6\n",
              "Atlantic          35.0      14.0  490.0\n",
              "Indian            34.5      22.0  759.0\n",
              "Pacific           35.0      20.0  700.0\n",
              "Southern          34.7       4.0  138.8"
            ]
          },
          "metadata": {
            "tags": []
          },
          "execution_count": 73
        }
      ]
    },
    {
      "cell_type": "code",
      "metadata": {
        "id": "FBnTNqMaYgte",
        "colab": {
          "base_uri": "https://localhost:8080/"
        },
        "outputId": "ab69e600-c597-463a-caa8-6799019ee0e0"
      },
      "source": [
        "df.TS.mean()"
      ],
      "execution_count": 74,
      "outputs": [
        {
          "output_type": "execute_result",
          "data": {
            "text/plain": [
              "406.04"
            ]
          },
          "metadata": {
            "tags": []
          },
          "execution_count": 74
        }
      ]
    },
    {
      "cell_type": "markdown",
      "metadata": {
        "id": "-1U1053NbsdC"
      },
      "source": [
        "> Now let's add a row to the Dataframe:"
      ]
    },
    {
      "cell_type": "code",
      "metadata": {
        "id": "0CQiV-qsZykG"
      },
      "source": [
        "#create new DataFrame object of global averages\n",
        "\n",
        "#create index\n",
        "index = ['Global']\n",
        "\n",
        "#create values\n",
        "values = {'avg_salinity':df.avg_salinity.mean(),\n",
        "          'avg_temp':df.avg_temp.mean(),\n",
        "          'TS':df.TS.mean()}\n",
        "\n",
        "globe = pd.DataFrame(data=values, index=index)"
      ],
      "execution_count": 75,
      "outputs": []
    },
    {
      "cell_type": "code",
      "metadata": {
        "id": "tIa0Bez5EL0y",
        "outputId": "5d23d411-9008-482f-8d2d-7e9a47caf6d1",
        "colab": {
          "base_uri": "https://localhost:8080/",
          "height": 78
        }
      },
      "source": [
        "globe"
      ],
      "execution_count": 76,
      "outputs": [
        {
          "output_type": "execute_result",
          "data": {
            "text/html": [
              "<div>\n",
              "<style scoped>\n",
              "    .dataframe tbody tr th:only-of-type {\n",
              "        vertical-align: middle;\n",
              "    }\n",
              "\n",
              "    .dataframe tbody tr th {\n",
              "        vertical-align: top;\n",
              "    }\n",
              "\n",
              "    .dataframe thead th {\n",
              "        text-align: right;\n",
              "    }\n",
              "</style>\n",
              "<table border=\"1\" class=\"dataframe\">\n",
              "  <thead>\n",
              "    <tr style=\"text-align: right;\">\n",
              "      <th></th>\n",
              "      <th>avg_salinity</th>\n",
              "      <th>avg_temp</th>\n",
              "      <th>TS</th>\n",
              "    </tr>\n",
              "  </thead>\n",
              "  <tbody>\n",
              "    <tr>\n",
              "      <th>Global</th>\n",
              "      <td>34.24</td>\n",
              "      <td>11.64</td>\n",
              "      <td>406.04</td>\n",
              "    </tr>\n",
              "  </tbody>\n",
              "</table>\n",
              "</div>"
            ],
            "text/plain": [
              "        avg_salinity  avg_temp      TS\n",
              "Global         34.24     11.64  406.04"
            ]
          },
          "metadata": {
            "tags": []
          },
          "execution_count": 76
        }
      ]
    },
    {
      "cell_type": "code",
      "metadata": {
        "id": "wzgPu5foXh17",
        "colab": {
          "base_uri": "https://localhost:8080/",
          "height": 202
        },
        "outputId": "1a023f3a-ae24-45bd-8ed2-7b6222444c4c"
      },
      "source": [
        "df"
      ],
      "execution_count": 77,
      "outputs": [
        {
          "output_type": "execute_result",
          "data": {
            "text/html": [
              "<div>\n",
              "<style scoped>\n",
              "    .dataframe tbody tr th:only-of-type {\n",
              "        vertical-align: middle;\n",
              "    }\n",
              "\n",
              "    .dataframe tbody tr th {\n",
              "        vertical-align: top;\n",
              "    }\n",
              "\n",
              "    .dataframe thead th {\n",
              "        text-align: right;\n",
              "    }\n",
              "</style>\n",
              "<table border=\"1\" class=\"dataframe\">\n",
              "  <thead>\n",
              "    <tr style=\"text-align: right;\">\n",
              "      <th></th>\n",
              "      <th>avg_salinity</th>\n",
              "      <th>avg_temp</th>\n",
              "      <th>TS</th>\n",
              "    </tr>\n",
              "  </thead>\n",
              "  <tbody>\n",
              "    <tr>\n",
              "      <th>Arctic</th>\n",
              "      <td>32.0</td>\n",
              "      <td>-1.8</td>\n",
              "      <td>-57.6</td>\n",
              "    </tr>\n",
              "    <tr>\n",
              "      <th>Atlantic</th>\n",
              "      <td>35.0</td>\n",
              "      <td>14.0</td>\n",
              "      <td>490.0</td>\n",
              "    </tr>\n",
              "    <tr>\n",
              "      <th>Indian</th>\n",
              "      <td>34.5</td>\n",
              "      <td>22.0</td>\n",
              "      <td>759.0</td>\n",
              "    </tr>\n",
              "    <tr>\n",
              "      <th>Pacific</th>\n",
              "      <td>35.0</td>\n",
              "      <td>20.0</td>\n",
              "      <td>700.0</td>\n",
              "    </tr>\n",
              "    <tr>\n",
              "      <th>Southern</th>\n",
              "      <td>34.7</td>\n",
              "      <td>4.0</td>\n",
              "      <td>138.8</td>\n",
              "    </tr>\n",
              "  </tbody>\n",
              "</table>\n",
              "</div>"
            ],
            "text/plain": [
              "          avg_salinity  avg_temp     TS\n",
              "Arctic            32.0      -1.8  -57.6\n",
              "Atlantic          35.0      14.0  490.0\n",
              "Indian            34.5      22.0  759.0\n",
              "Pacific           35.0      20.0  700.0\n",
              "Southern          34.7       4.0  138.8"
            ]
          },
          "metadata": {
            "tags": []
          },
          "execution_count": 77
        }
      ]
    },
    {
      "cell_type": "code",
      "metadata": {
        "id": "BGrKOQxFblcX"
      },
      "source": [
        "df_new = df.append(globe)"
      ],
      "execution_count": 78,
      "outputs": []
    },
    {
      "cell_type": "code",
      "metadata": {
        "id": "nivKNU51EWYc",
        "outputId": "15e96301-652d-4d36-c4a7-bdb35e98a983",
        "colab": {
          "base_uri": "https://localhost:8080/",
          "height": 232
        }
      },
      "source": [
        "df_new"
      ],
      "execution_count": 79,
      "outputs": [
        {
          "output_type": "execute_result",
          "data": {
            "text/html": [
              "<div>\n",
              "<style scoped>\n",
              "    .dataframe tbody tr th:only-of-type {\n",
              "        vertical-align: middle;\n",
              "    }\n",
              "\n",
              "    .dataframe tbody tr th {\n",
              "        vertical-align: top;\n",
              "    }\n",
              "\n",
              "    .dataframe thead th {\n",
              "        text-align: right;\n",
              "    }\n",
              "</style>\n",
              "<table border=\"1\" class=\"dataframe\">\n",
              "  <thead>\n",
              "    <tr style=\"text-align: right;\">\n",
              "      <th></th>\n",
              "      <th>avg_salinity</th>\n",
              "      <th>avg_temp</th>\n",
              "      <th>TS</th>\n",
              "    </tr>\n",
              "  </thead>\n",
              "  <tbody>\n",
              "    <tr>\n",
              "      <th>Arctic</th>\n",
              "      <td>32.00</td>\n",
              "      <td>-1.80</td>\n",
              "      <td>-57.60</td>\n",
              "    </tr>\n",
              "    <tr>\n",
              "      <th>Atlantic</th>\n",
              "      <td>35.00</td>\n",
              "      <td>14.00</td>\n",
              "      <td>490.00</td>\n",
              "    </tr>\n",
              "    <tr>\n",
              "      <th>Indian</th>\n",
              "      <td>34.50</td>\n",
              "      <td>22.00</td>\n",
              "      <td>759.00</td>\n",
              "    </tr>\n",
              "    <tr>\n",
              "      <th>Pacific</th>\n",
              "      <td>35.00</td>\n",
              "      <td>20.00</td>\n",
              "      <td>700.00</td>\n",
              "    </tr>\n",
              "    <tr>\n",
              "      <th>Southern</th>\n",
              "      <td>34.70</td>\n",
              "      <td>4.00</td>\n",
              "      <td>138.80</td>\n",
              "    </tr>\n",
              "    <tr>\n",
              "      <th>Global</th>\n",
              "      <td>34.24</td>\n",
              "      <td>11.64</td>\n",
              "      <td>406.04</td>\n",
              "    </tr>\n",
              "  </tbody>\n",
              "</table>\n",
              "</div>"
            ],
            "text/plain": [
              "          avg_salinity  avg_temp      TS\n",
              "Arctic           32.00     -1.80  -57.60\n",
              "Atlantic         35.00     14.00  490.00\n",
              "Indian           34.50     22.00  759.00\n",
              "Pacific          35.00     20.00  700.00\n",
              "Southern         34.70      4.00  138.80\n",
              "Global           34.24     11.64  406.04"
            ]
          },
          "metadata": {
            "tags": []
          },
          "execution_count": 79
        }
      ]
    },
    {
      "cell_type": "markdown",
      "metadata": {
        "id": "FbrmucgWrC1Q"
      },
      "source": [
        "> **Find the following in this dataframe:**"
      ]
    },
    {
      "cell_type": "code",
      "metadata": {
        "id": "kaPvkKCTqv1T",
        "colab": {
          "base_uri": "https://localhost:8080/"
        },
        "outputId": "170b23da-5e6d-415b-83e3-57c430219c3c"
      },
      "source": [
        "# What is the coldest temperature?\n",
        "df.avg_temp.min()"
      ],
      "execution_count": 80,
      "outputs": [
        {
          "output_type": "execute_result",
          "data": {
            "text/plain": [
              "-1.8"
            ]
          },
          "metadata": {
            "tags": []
          },
          "execution_count": 80
        }
      ]
    },
    {
      "cell_type": "code",
      "metadata": {
        "id": "2A8248ysrUAd",
        "colab": {
          "base_uri": "https://localhost:8080/",
          "height": 202
        },
        "outputId": "f051f8d6-ebd6-4635-e20e-2eeae76912c1"
      },
      "source": [
        "# What ocean basin has the coldest average temperature?\n",
        "df[df == df.avg_temp.min()]"
      ],
      "execution_count": 81,
      "outputs": [
        {
          "output_type": "execute_result",
          "data": {
            "text/html": [
              "<div>\n",
              "<style scoped>\n",
              "    .dataframe tbody tr th:only-of-type {\n",
              "        vertical-align: middle;\n",
              "    }\n",
              "\n",
              "    .dataframe tbody tr th {\n",
              "        vertical-align: top;\n",
              "    }\n",
              "\n",
              "    .dataframe thead th {\n",
              "        text-align: right;\n",
              "    }\n",
              "</style>\n",
              "<table border=\"1\" class=\"dataframe\">\n",
              "  <thead>\n",
              "    <tr style=\"text-align: right;\">\n",
              "      <th></th>\n",
              "      <th>avg_salinity</th>\n",
              "      <th>avg_temp</th>\n",
              "      <th>TS</th>\n",
              "    </tr>\n",
              "  </thead>\n",
              "  <tbody>\n",
              "    <tr>\n",
              "      <th>Arctic</th>\n",
              "      <td>NaN</td>\n",
              "      <td>-1.8</td>\n",
              "      <td>NaN</td>\n",
              "    </tr>\n",
              "    <tr>\n",
              "      <th>Atlantic</th>\n",
              "      <td>NaN</td>\n",
              "      <td>NaN</td>\n",
              "      <td>NaN</td>\n",
              "    </tr>\n",
              "    <tr>\n",
              "      <th>Indian</th>\n",
              "      <td>NaN</td>\n",
              "      <td>NaN</td>\n",
              "      <td>NaN</td>\n",
              "    </tr>\n",
              "    <tr>\n",
              "      <th>Pacific</th>\n",
              "      <td>NaN</td>\n",
              "      <td>NaN</td>\n",
              "      <td>NaN</td>\n",
              "    </tr>\n",
              "    <tr>\n",
              "      <th>Southern</th>\n",
              "      <td>NaN</td>\n",
              "      <td>NaN</td>\n",
              "      <td>NaN</td>\n",
              "    </tr>\n",
              "  </tbody>\n",
              "</table>\n",
              "</div>"
            ],
            "text/plain": [
              "          avg_salinity  avg_temp  TS\n",
              "Arctic             NaN      -1.8 NaN\n",
              "Atlantic           NaN       NaN NaN\n",
              "Indian             NaN       NaN NaN\n",
              "Pacific            NaN       NaN NaN\n",
              "Southern           NaN       NaN NaN"
            ]
          },
          "metadata": {
            "tags": []
          },
          "execution_count": 81
        }
      ]
    },
    {
      "cell_type": "code",
      "metadata": {
        "id": "J3v_PA7vsEYZ",
        "colab": {
          "base_uri": "https://localhost:8080/"
        },
        "outputId": "dae6b187-7cd4-4a20-9f53-a4fb490415cf"
      },
      "source": [
        "# Another way to find the index associated with coldest temperature:\n",
        "df.avg_temp[df.avg_temp == df.avg_temp.min()]"
      ],
      "execution_count": 82,
      "outputs": [
        {
          "output_type": "execute_result",
          "data": {
            "text/plain": [
              "Arctic   -1.8\n",
              "Name: avg_temp, dtype: float64"
            ]
          },
          "metadata": {
            "tags": []
          },
          "execution_count": 82
        }
      ]
    },
    {
      "cell_type": "code",
      "metadata": {
        "colab": {
          "base_uri": "https://localhost:8080/",
          "height": 318
        },
        "id": "ZsTpgiF0SoJ_",
        "outputId": "9811ba36-7871-469c-bd55-fb5fea89be87"
      },
      "source": [
        "# Plot avg salinity!\n",
        "df.avg_salinity.plot(kind='bar')"
      ],
      "execution_count": 83,
      "outputs": [
        {
          "output_type": "execute_result",
          "data": {
            "text/plain": [
              "<matplotlib.axes._subplots.AxesSubplot at 0x7fe0d0db1750>"
            ]
          },
          "metadata": {
            "tags": []
          },
          "execution_count": 83
        },
        {
          "output_type": "display_data",
          "data": {
            "image/png": "[encoded data removed]",
            "text/plain": [
              "<Figure size 432x288 with 1 Axes>"
            ]
          },
          "metadata": {
            "tags": [],
            "needs_background": "light"
          }
        }
      ]
    },
    {
      "cell_type": "code",
      "metadata": {
        "colab": {
          "base_uri": "https://localhost:8080/",
          "height": 318
        },
        "id": "W2s4FCYgSslx",
        "outputId": "3fbdde54-29dd-4ee0-9d0a-6c186b657dff"
      },
      "source": [
        "# Plot all the columns in the DataFrame!\n",
        "df.plot(kind='bar')"
      ],
      "execution_count": 84,
      "outputs": [
        {
          "output_type": "execute_result",
          "data": {
            "text/plain": [
              "<matplotlib.axes._subplots.AxesSubplot at 0x7fe0d0cf2bd0>"
            ]
          },
          "metadata": {
            "tags": []
          },
          "execution_count": 84
        },
        {
          "output_type": "display_data",
          "data": {
            "image/png": "[encoded data removed]",
            "text/plain": [
              "<Figure size 432x288 with 1 Axes>"
            ]
          },
          "metadata": {
            "tags": [],
            "needs_background": "light"
          }
        }
      ]
    },
    {
      "cell_type": "markdown",
      "metadata": {
        "id": "5YvLVSFkZhcM"
      },
      "source": [
        "# **BREAK TIME (2)!**"
      ]
    },
    {
      "cell_type": "markdown",
      "metadata": {
        "id": "4pRODMKUj50F"
      },
      "source": [
        "# **SciPy**\n",
        "\n",
        "## is a Python-based ecosystem of open-source software for mathematics, science, and engineering. In particular, these are some of the core packages: \n",
        "  - SciPy\n",
        "  - NumPy\n",
        "  - Pandas\n",
        "  - Matplotlib\n",
        "  - SymPy\n",
        "\n",
        "It is meant to operate efficiently on numpy arrays, so that numpy and scipy work hand in hand. Check out their [User Guide](https://docs.scipy.org/doc/scipy/reference/tutorial/index.html)\n",
        "\n",
        "All the notes here can be found on [this website](https://scipy-lectures.org/intro/scipy.html)."
      ]
    },
    {
      "cell_type": "code",
      "metadata": {
        "id": "UJl7d91Tj8NB"
      },
      "source": [
        "#Start by importing the SciPy library\n"
      ],
      "execution_count": null,
      "outputs": []
    },
    {
      "cell_type": "markdown",
      "metadata": {
        "id": "EQoo8E3GtFcE"
      },
      "source": [
        "## Interpolation"
      ]
    },
    {
      "cell_type": "code",
      "metadata": {
        "id": "y0_bx3hqsgbs"
      },
      "source": [
        "#Create experimental data close to a sine function using `numpy`\n"
      ],
      "execution_count": null,
      "outputs": []
    },
    {
      "cell_type": "code",
      "metadata": {
        "id": "sXr9kbUfu3zE"
      },
      "source": [
        "# Visualize with matplotlib"
      ],
      "execution_count": null,
      "outputs": []
    },
    {
      "cell_type": "code",
      "metadata": {
        "id": "cpwkTJ1LtQtw"
      },
      "source": [
        "#import scipy's 1D interp function to then build a linear interpolation function:\n"
      ],
      "execution_count": null,
      "outputs": []
    },
    {
      "cell_type": "code",
      "metadata": {
        "id": "e6eXlXZrt4Uk"
      },
      "source": [
        "# Evaluate the result at the time of interest:\n",
        "\n"
      ],
      "execution_count": null,
      "outputs": []
    },
    {
      "cell_type": "code",
      "metadata": {
        "id": "VmkmQSVQvGTk"
      },
      "source": [
        "# Plot the linear results\n"
      ],
      "execution_count": null,
      "outputs": []
    },
    {
      "cell_type": "code",
      "metadata": {
        "id": "jNJgxVxJuq4e"
      },
      "source": [
        "# A cubic interpolation can also be selected by providing the kind optional keyword argument:\n"
      ],
      "execution_count": null,
      "outputs": []
    },
    {
      "cell_type": "code",
      "metadata": {
        "id": "seloH8o6u0xd"
      },
      "source": [
        "# Plot the cubic results\n"
      ],
      "execution_count": null,
      "outputs": []
    },
    {
      "cell_type": "code",
      "metadata": {
        "id": "NnC0PDuTvOTw"
      },
      "source": [
        "# Plot the data and the interpolation\n"
      ],
      "execution_count": null,
      "outputs": []
    },
    {
      "cell_type": "markdown",
      "metadata": {
        "id": "f34K2Qr9wdNz"
      },
      "source": [
        "## Optimization and Fit\n",
        "\n",
        "Optimization is the problem of finding a numerical solution to a minimization or equality.\n",
        "\n",
        " The `scipy.optimize` module provides algorithms for function minimization (scalar or multi-dimensional), curve fitting and root finding."
      ]
    },
    {
      "cell_type": "markdown",
      "metadata": {
        "id": "KqJwqFkxxeRy"
      },
      "source": [
        "### Curve fitting"
      ]
    },
    {
      "cell_type": "code",
      "metadata": {
        "id": "obQwrs5Rvuo4"
      },
      "source": [
        "# Suppose we have data on a sine wave, with some noise:\n",
        "# Seed the random number generator for reproducibility\n"
      ],
      "execution_count": null,
      "outputs": []
    },
    {
      "cell_type": "code",
      "metadata": {
        "id": "dvIW05jDxpKm"
      },
      "source": [
        "# And plot it\n"
      ],
      "execution_count": null,
      "outputs": []
    },
    {
      "cell_type": "markdown",
      "metadata": {
        "id": "fraLRZ_5zZUe"
      },
      "source": [
        "> If we know that the data lies on a sine wave, but not the amplitudes or the period, we can find those by least squares curve fitting. First we have to define the test function to fit, here a sine with unknown amplitude and period:"
      ]
    },
    {
      "cell_type": "code",
      "metadata": {
        "id": "XVamVXhPzRX2"
      },
      "source": [
        ""
      ],
      "execution_count": null,
      "outputs": []
    },
    {
      "cell_type": "markdown",
      "metadata": {
        "id": "3KSnlfsczldX"
      },
      "source": [
        "> We then use `scipy.optimize.curve_fit()` to find $\\it{a}$ and $\\it{b}$:"
      ]
    },
    {
      "cell_type": "code",
      "metadata": {
        "id": "1jUe_wobz9Ff"
      },
      "source": [
        "# import optimize\n"
      ],
      "execution_count": null,
      "outputs": []
    },
    {
      "cell_type": "code",
      "metadata": {
        "id": "5Z_a_rskzg1u"
      },
      "source": [
        "params, params_covariance = optimize.curve_fit(test_func, x_data, y_data, p0=[2, 2])\n",
        "print(params)"
      ],
      "execution_count": null,
      "outputs": []
    },
    {
      "cell_type": "code",
      "metadata": {
        "id": "epwKeK2B0Fn2"
      },
      "source": [
        "# Plot the resulting curve onto the data\n"
      ],
      "execution_count": null,
      "outputs": []
    },
    {
      "cell_type": "markdown",
      "metadata": {
        "id": "FUam6N2J32C8"
      },
      "source": [
        "## Finding the minimum of a scalar function"
      ]
    },
    {
      "cell_type": "code",
      "metadata": {
        "id": "ln8L8RHj3_si"
      },
      "source": [
        "# Let's first define a function:\n"
      ],
      "execution_count": null,
      "outputs": []
    },
    {
      "cell_type": "code",
      "metadata": {
        "id": "IhxFFzhX4Ko5"
      },
      "source": [
        "# And plot it:\n"
      ],
      "execution_count": null,
      "outputs": []
    },
    {
      "cell_type": "markdown",
      "metadata": {
        "id": "hn0YYZgV4bbM"
      },
      "source": [
        "> This function has a global minimum around -1.3 and a local minimum around 3.8.\n",
        "\n",
        "> Searching for minimum can be done with `scipy.optimize.minimize()`, given a starting point x0, it returns the location of the minimum that it has found:"
      ]
    },
    {
      "cell_type": "code",
      "metadata": {
        "id": "Xgq9YX8A4Qmk"
      },
      "source": [
        ""
      ],
      "execution_count": null,
      "outputs": []
    },
    {
      "cell_type": "code",
      "metadata": {
        "id": "aZMpivaT4kgJ"
      },
      "source": [
        ""
      ],
      "execution_count": null,
      "outputs": []
    },
    {
      "cell_type": "markdown",
      "metadata": {
        "id": "7DD2qlgN5evH"
      },
      "source": [
        "> **Methods:** As the function is a smooth function, gradient-descent based methods are good options. The [lBFGS algorithm](https://en.wikipedia.org/wiki/Limited-memory_BFGS) is a good choice in general:"
      ]
    },
    {
      "cell_type": "code",
      "metadata": {
        "id": "LEoSHb9O4lpP"
      },
      "source": [
        ""
      ],
      "execution_count": null,
      "outputs": []
    },
    {
      "cell_type": "markdown",
      "metadata": {
        "id": "JJkIhSnZ6ES2"
      },
      "source": [
        "> **Global minimum:** A possible issue with this approach is that, if the function has local minima, the algorithm may find these local minima instead of the global minimum depending on the initial point x0:"
      ]
    },
    {
      "cell_type": "code",
      "metadata": {
        "id": "R-IuUQjn5vyt"
      },
      "source": [
        ""
      ],
      "execution_count": null,
      "outputs": []
    },
    {
      "cell_type": "markdown",
      "metadata": {
        "id": "9zFm82vu6Zlb"
      },
      "source": [
        "> If we don’t know the neighborhood of the global minimum to choose the initial point, we need to resort to costlier global optimization. To find the global minimum, we use `scipy.optimize.basinhopping()` (added in version 0.12.0 of Scipy). It combines a local optimizer with sampling of starting points:"
      ]
    },
    {
      "cell_type": "code",
      "metadata": {
        "id": "LYhn4-Rg6NpT"
      },
      "source": [
        ""
      ],
      "execution_count": null,
      "outputs": []
    },
    {
      "cell_type": "markdown",
      "metadata": {
        "id": "KmxV9dpbeWbC"
      },
      "source": [
        "# **WEEK 2 EXERCISES**"
      ]
    },
    {
      "cell_type": "markdown",
      "metadata": {
        "id": "0fMRzH3neSui"
      },
      "source": [
        "## Pandas: GDP per capita in Europe"
      ]
    },
    {
      "cell_type": "code",
      "metadata": {
        "id": "JUgT8tjYsNvI"
      },
      "source": [
        "url = 'https://raw.githubusercontent.com/swcarpentry/python-novice-gapminder/gh-pages/data/gapminder_gdp_europe.csv'\n",
        "gdp = pd.read_csv(url, index_col='country')"
      ],
      "execution_count": null,
      "outputs": []
    },
    {
      "cell_type": "code",
      "metadata": {
        "id": "TPM7X9rZePfQ",
        "colab": {
          "base_uri": "https://localhost:8080/",
          "height": 438
        },
        "outputId": "bbff56ea-e0a2-4550-c4a6-9d8e087edf41"
      },
      "source": [
        "gdp.head(10)"
      ],
      "execution_count": null,
      "outputs": [
        {
          "output_type": "execute_result",
          "data": {
            "text/html": [
              "<div>\n",
              "<style scoped>\n",
              "    .dataframe tbody tr th:only-of-type {\n",
              "        vertical-align: middle;\n",
              "    }\n",
              "\n",
              "    .dataframe tbody tr th {\n",
              "        vertical-align: top;\n",
              "    }\n",
              "\n",
              "    .dataframe thead th {\n",
              "        text-align: right;\n",
              "    }\n",
              "</style>\n",
              "<table border=\"1\" class=\"dataframe\">\n",
              "  <thead>\n",
              "    <tr style=\"text-align: right;\">\n",
              "      <th></th>\n",
              "      <th>gdpPercap_1952</th>\n",
              "      <th>gdpPercap_1957</th>\n",
              "      <th>gdpPercap_1962</th>\n",
              "      <th>gdpPercap_1967</th>\n",
              "      <th>gdpPercap_1972</th>\n",
              "      <th>gdpPercap_1977</th>\n",
              "      <th>gdpPercap_1982</th>\n",
              "      <th>gdpPercap_1987</th>\n",
              "      <th>gdpPercap_1992</th>\n",
              "      <th>gdpPercap_1997</th>\n",
              "      <th>gdpPercap_2002</th>\n",
              "      <th>gdpPercap_2007</th>\n",
              "    </tr>\n",
              "    <tr>\n",
              "      <th>country</th>\n",
              "      <th></th>\n",
              "      <th></th>\n",
              "      <th></th>\n",
              "      <th></th>\n",
              "      <th></th>\n",
              "      <th></th>\n",
              "      <th></th>\n",
              "      <th></th>\n",
              "      <th></th>\n",
              "      <th></th>\n",
              "      <th></th>\n",
              "      <th></th>\n",
              "    </tr>\n",
              "  </thead>\n",
              "  <tbody>\n",
              "    <tr>\n",
              "      <th>Albania</th>\n",
              "      <td>1601.056136</td>\n",
              "      <td>1942.284244</td>\n",
              "      <td>2312.888958</td>\n",
              "      <td>2760.196931</td>\n",
              "      <td>3313.422188</td>\n",
              "      <td>3533.003910</td>\n",
              "      <td>3630.880722</td>\n",
              "      <td>3738.932735</td>\n",
              "      <td>2497.437901</td>\n",
              "      <td>3193.054604</td>\n",
              "      <td>4604.211737</td>\n",
              "      <td>5937.029526</td>\n",
              "    </tr>\n",
              "    <tr>\n",
              "      <th>Austria</th>\n",
              "      <td>6137.076492</td>\n",
              "      <td>8842.598030</td>\n",
              "      <td>10750.721110</td>\n",
              "      <td>12834.602400</td>\n",
              "      <td>16661.625600</td>\n",
              "      <td>19749.422300</td>\n",
              "      <td>21597.083620</td>\n",
              "      <td>23687.826070</td>\n",
              "      <td>27042.018680</td>\n",
              "      <td>29095.920660</td>\n",
              "      <td>32417.607690</td>\n",
              "      <td>36126.492700</td>\n",
              "    </tr>\n",
              "    <tr>\n",
              "      <th>Belgium</th>\n",
              "      <td>8343.105127</td>\n",
              "      <td>9714.960623</td>\n",
              "      <td>10991.206760</td>\n",
              "      <td>13149.041190</td>\n",
              "      <td>16672.143560</td>\n",
              "      <td>19117.974480</td>\n",
              "      <td>20979.845890</td>\n",
              "      <td>22525.563080</td>\n",
              "      <td>25575.570690</td>\n",
              "      <td>27561.196630</td>\n",
              "      <td>30485.883750</td>\n",
              "      <td>33692.605080</td>\n",
              "    </tr>\n",
              "    <tr>\n",
              "      <th>Bosnia and Herzegovina</th>\n",
              "      <td>973.533195</td>\n",
              "      <td>1353.989176</td>\n",
              "      <td>1709.683679</td>\n",
              "      <td>2172.352423</td>\n",
              "      <td>2860.169750</td>\n",
              "      <td>3528.481305</td>\n",
              "      <td>4126.613157</td>\n",
              "      <td>4314.114757</td>\n",
              "      <td>2546.781445</td>\n",
              "      <td>4766.355904</td>\n",
              "      <td>6018.975239</td>\n",
              "      <td>7446.298803</td>\n",
              "    </tr>\n",
              "    <tr>\n",
              "      <th>Bulgaria</th>\n",
              "      <td>2444.286648</td>\n",
              "      <td>3008.670727</td>\n",
              "      <td>4254.337839</td>\n",
              "      <td>5577.002800</td>\n",
              "      <td>6597.494398</td>\n",
              "      <td>7612.240438</td>\n",
              "      <td>8224.191647</td>\n",
              "      <td>8239.854824</td>\n",
              "      <td>6302.623438</td>\n",
              "      <td>5970.388760</td>\n",
              "      <td>7696.777725</td>\n",
              "      <td>10680.792820</td>\n",
              "    </tr>\n",
              "    <tr>\n",
              "      <th>Croatia</th>\n",
              "      <td>3119.236520</td>\n",
              "      <td>4338.231617</td>\n",
              "      <td>5477.890018</td>\n",
              "      <td>6960.297861</td>\n",
              "      <td>9164.090127</td>\n",
              "      <td>11305.385170</td>\n",
              "      <td>13221.821840</td>\n",
              "      <td>13822.583940</td>\n",
              "      <td>8447.794873</td>\n",
              "      <td>9875.604515</td>\n",
              "      <td>11628.388950</td>\n",
              "      <td>14619.222720</td>\n",
              "    </tr>\n",
              "    <tr>\n",
              "      <th>Czech Republic</th>\n",
              "      <td>6876.140250</td>\n",
              "      <td>8256.343918</td>\n",
              "      <td>10136.867130</td>\n",
              "      <td>11399.444890</td>\n",
              "      <td>13108.453600</td>\n",
              "      <td>14800.160620</td>\n",
              "      <td>15377.228550</td>\n",
              "      <td>16310.443400</td>\n",
              "      <td>14297.021220</td>\n",
              "      <td>16048.514240</td>\n",
              "      <td>17596.210220</td>\n",
              "      <td>22833.308510</td>\n",
              "    </tr>\n",
              "    <tr>\n",
              "      <th>Denmark</th>\n",
              "      <td>9692.385245</td>\n",
              "      <td>11099.659350</td>\n",
              "      <td>13583.313510</td>\n",
              "      <td>15937.211230</td>\n",
              "      <td>18866.207210</td>\n",
              "      <td>20422.901500</td>\n",
              "      <td>21688.040480</td>\n",
              "      <td>25116.175810</td>\n",
              "      <td>26406.739850</td>\n",
              "      <td>29804.345670</td>\n",
              "      <td>32166.500060</td>\n",
              "      <td>35278.418740</td>\n",
              "    </tr>\n",
              "    <tr>\n",
              "      <th>Finland</th>\n",
              "      <td>6424.519071</td>\n",
              "      <td>7545.415386</td>\n",
              "      <td>9371.842561</td>\n",
              "      <td>10921.636260</td>\n",
              "      <td>14358.875900</td>\n",
              "      <td>15605.422830</td>\n",
              "      <td>18533.157610</td>\n",
              "      <td>21141.012230</td>\n",
              "      <td>20647.164990</td>\n",
              "      <td>23723.950200</td>\n",
              "      <td>28204.590570</td>\n",
              "      <td>33207.084400</td>\n",
              "    </tr>\n",
              "    <tr>\n",
              "      <th>France</th>\n",
              "      <td>7029.809327</td>\n",
              "      <td>8662.834898</td>\n",
              "      <td>10560.485530</td>\n",
              "      <td>12999.917660</td>\n",
              "      <td>16107.191710</td>\n",
              "      <td>18292.635140</td>\n",
              "      <td>20293.897460</td>\n",
              "      <td>22066.442140</td>\n",
              "      <td>24703.796150</td>\n",
              "      <td>25889.784870</td>\n",
              "      <td>28926.032340</td>\n",
              "      <td>30470.016700</td>\n",
              "    </tr>\n",
              "  </tbody>\n",
              "</table>\n",
              "</div>"
            ],
            "text/plain": [
              "                        gdpPercap_1952  ...  gdpPercap_2007\n",
              "country                                 ...                \n",
              "Albania                    1601.056136  ...     5937.029526\n",
              "Austria                    6137.076492  ...    36126.492700\n",
              "Belgium                    8343.105127  ...    33692.605080\n",
              "Bosnia and Herzegovina      973.533195  ...     7446.298803\n",
              "Bulgaria                   2444.286648  ...    10680.792820\n",
              "Croatia                    3119.236520  ...    14619.222720\n",
              "Czech Republic             6876.140250  ...    22833.308510\n",
              "Denmark                    9692.385245  ...    35278.418740\n",
              "Finland                    6424.519071  ...    33207.084400\n",
              "France                     7029.809327  ...    30470.016700\n",
              "\n",
              "[10 rows x 12 columns]"
            ]
          },
          "metadata": {
            "tags": []
          },
          "execution_count": 87
        }
      ]
    },
    {
      "cell_type": "code",
      "metadata": {
        "id": "2ju4uErdev14"
      },
      "source": [
        "# Select Austria by entry position\n"
      ],
      "execution_count": null,
      "outputs": []
    },
    {
      "cell_type": "code",
      "metadata": {
        "id": "SZ9_AuYLe8Zg"
      },
      "source": [
        "# Select Austria by entry label\n"
      ],
      "execution_count": null,
      "outputs": []
    },
    {
      "cell_type": "code",
      "metadata": {
        "id": "4UXVbaQMe99y"
      },
      "source": [
        "# Select/slice to all the columns in Denmark (two ways to do this)\n"
      ],
      "execution_count": null,
      "outputs": []
    },
    {
      "cell_type": "code",
      "metadata": {
        "id": "JFQmuDTkgar6"
      },
      "source": [
        ""
      ],
      "execution_count": null,
      "outputs": []
    },
    {
      "cell_type": "code",
      "metadata": {
        "id": "ALq9vOxFfOMB"
      },
      "source": [
        "# Select/slice to all the countries/rows in the 4th column (two ways to do this)\n"
      ],
      "execution_count": null,
      "outputs": []
    },
    {
      "cell_type": "code",
      "metadata": {
        "id": "9qLEjMQOgn5D"
      },
      "source": [
        ""
      ],
      "execution_count": null,
      "outputs": []
    },
    {
      "cell_type": "code",
      "metadata": {
        "id": "1h13EqMHfbvD"
      },
      "source": [
        "# Select multiple columns or rows using .loc and a named slice\n"
      ],
      "execution_count": null,
      "outputs": []
    },
    {
      "cell_type": "markdown",
      "metadata": {
        "id": "5jFQE-4RhFYg"
      },
      "source": [
        "> Can do same statistical operations on the slices"
      ]
    },
    {
      "cell_type": "code",
      "metadata": {
        "id": "vh3EcejHhQCS"
      },
      "source": [
        ""
      ],
      "execution_count": null,
      "outputs": []
    },
    {
      "cell_type": "code",
      "metadata": {
        "id": "3qF8rxBDf-LG"
      },
      "source": [
        "# Find the maximum gdp values within Italy through Poland, 1962-1972\n"
      ],
      "execution_count": null,
      "outputs": []
    },
    {
      "cell_type": "code",
      "metadata": {
        "id": "on8HTmtHhKdt"
      },
      "source": [
        "# Find the minimum gdp values within Italy through Poland, 1962-1972\n"
      ],
      "execution_count": null,
      "outputs": []
    },
    {
      "cell_type": "markdown",
      "metadata": {
        "id": "kgx8daqMhwWh"
      },
      "source": [
        ">Use comparisons to select data based on value.\n",
        "  - Comparison is applied element by element.\n",
        "  - Returns a similarly-shaped dataframe of `True` and `False`."
      ]
    },
    {
      "cell_type": "code",
      "metadata": {
        "id": "MMeGcxyIhl6t"
      },
      "source": [
        "# Use a subset of data to keep output readable.\n",
        "\n",
        "\n",
        "# Which values were greater than 10000 ?\n"
      ],
      "execution_count": null,
      "outputs": []
    },
    {
      "cell_type": "markdown",
      "metadata": {
        "id": "4xJ1udELiPfO"
      },
      "source": [
        "> Select values or NaN using a Boolean mask.\n",
        "  - A frame full of Booleans is sometimes called a mask because of how it can be used.\n"
      ]
    },
    {
      "cell_type": "code",
      "metadata": {
        "id": "gJzUdEGeh4Iz"
      },
      "source": [
        ""
      ],
      "execution_count": null,
      "outputs": []
    },
    {
      "cell_type": "markdown",
      "metadata": {
        "id": "8wb9MYzOiocC"
      },
      "source": [
        "- Get the value where the mask is true, and NaN (Not a Number) where it is false.\n",
        "- Useful because NaNs are ignored by operations like max, min, average, etc.\n"
      ]
    },
    {
      "cell_type": "code",
      "metadata": {
        "id": "nKcTu6R0ifVy"
      },
      "source": [
        ""
      ],
      "execution_count": null,
      "outputs": []
    },
    {
      "cell_type": "markdown",
      "metadata": {
        "id": "igSnW3pJjDKr"
      },
      "source": [
        "### Group By: split-apply-combine\n",
        "\n",
        ">Pandas vectorizing methods and grouping operations are features that provide users much flexibility to analyse their data.\n",
        "\n",
        ">For instance, let’s say we want to have a clearer view on how the European countries split themselves according to their GDP.\n",
        "  - We may have a glance by splitting the countries in two groups during the years surveyed, those who presented a GDP higher than the European average and those with a lower GDP.\n",
        "  - We then estimate a wealthy score based on the historical (from 1962 to 2007) values, where we account how many times a country has participated in the groups of lower or higher GDP"
      ]
    },
    {
      "cell_type": "code",
      "metadata": {
        "id": "PP7VmJ1Vi0Ke"
      },
      "source": [
        ""
      ],
      "execution_count": null,
      "outputs": []
    },
    {
      "cell_type": "markdown",
      "metadata": {
        "id": "vhYwAYRhjdX5"
      },
      "source": [
        "> Finally, for each group in the wealth_score table, we sum their (financial) contribution across the years surveyed using chained methods:"
      ]
    },
    {
      "cell_type": "code",
      "metadata": {
        "id": "pSKyx2mQjco5"
      },
      "source": [
        ""
      ],
      "execution_count": null,
      "outputs": []
    },
    {
      "cell_type": "code",
      "metadata": {
        "id": "pQq3a9HejYIb"
      },
      "source": [
        ""
      ],
      "execution_count": null,
      "outputs": []
    },
    {
      "cell_type": "markdown",
      "metadata": {
        "id": "Qwy4AHRQ1upR"
      },
      "source": [
        "## SciPy 1: Curve fitting of temperature data\n",
        "The temperature extremes in Alaska for each month, starting in January, are given by (in degrees Celcius):\n",
        "\n",
        "`max:  17,  19,  21,  28,  33,  38, 37,  37,  31,  23,  19,  18`\n",
        "\n",
        "`min: -62, -59, -56, -46, -32, -18, -9, -13, -25, -46, -52, -58`\n",
        "\n",
        "1. Plot these temperature extremes.\n",
        "2. Define a function that can describe min and max temperatures. Hint: this function has to have a period of 1 year. Hint: include a time offset.\n",
        "3. Fit this function to the data with `scipy.optimize.curve_fit()`.\n",
        "4. Plot the result. Is the fit reasonable? If not, why?\n",
        "5. Is the time offset for min and max temperatures the same within the fit accuracy?"
      ]
    },
    {
      "cell_type": "markdown",
      "metadata": {
        "id": "i5HPzKoI2gTP"
      },
      "source": [
        "### 1. Plot these temperature extremes"
      ]
    },
    {
      "cell_type": "code",
      "metadata": {
        "id": "OWsYScU90nnQ"
      },
      "source": [
        ""
      ],
      "execution_count": null,
      "outputs": []
    },
    {
      "cell_type": "markdown",
      "metadata": {
        "id": "FRdljvq22pQU"
      },
      "source": [
        "### 2. Define a function that can describe min and max temperatures. Hint: this function has to have a period of 1 year. Hint: include a time offset."
      ]
    },
    {
      "cell_type": "code",
      "metadata": {
        "id": "qw7BNv3_2k2o"
      },
      "source": [
        ""
      ],
      "execution_count": null,
      "outputs": []
    },
    {
      "cell_type": "markdown",
      "metadata": {
        "id": "s-Db96f43B9D"
      },
      "source": [
        "### 3. Fit this function to the data with `scipy.optimize.curve_fit()`."
      ]
    },
    {
      "cell_type": "code",
      "metadata": {
        "id": "-jAgRNNi3At5"
      },
      "source": [
        ""
      ],
      "execution_count": null,
      "outputs": []
    },
    {
      "cell_type": "markdown",
      "metadata": {
        "id": "g0LOPvYV3Yrm"
      },
      "source": [
        "### 4. Plot the result. Is the fit reasonable? If not, why?"
      ]
    },
    {
      "cell_type": "code",
      "metadata": {
        "id": "4gf_HXmD3WzD"
      },
      "source": [
        ""
      ],
      "execution_count": null,
      "outputs": []
    },
    {
      "cell_type": "code",
      "metadata": {
        "id": "5F1kJoeO3idZ"
      },
      "source": [
        ""
      ],
      "execution_count": null,
      "outputs": []
    },
    {
      "cell_type": "markdown",
      "metadata": {
        "id": "MrZ3Vgpy7j3X"
      },
      "source": [
        "## SciPy 2: 2-D minimization\n",
        "\n",
        "The six-hump camelback function\n",
        "\n",
        "$f(x, y) = (4 - 2.1x^2 + \\frac{x^4}{3})x^2 + xy + (4y^2 - 4)y^2$\n",
        "\n",
        "has multiple global and local minima. Find the global minima of this function.\n",
        "\n",
        "Hints:\n",
        "\n",
        "- Variables can be restricted to $-2 < x < 2$ and $-1 < y < 1$.\n",
        "- Use `numpy.meshgrid()` and `matplotlib.pyplot.imshow()` to find visually the regions.\n",
        "- Use `scipy.optimize.minimize()`, optionally trying out several of its methods.\n",
        "\n",
        "How many global minima are there, and what is the function value at those points? What happens for an initial guess of $(x, y) = (0, 0)$?"
      ]
    },
    {
      "cell_type": "code",
      "metadata": {
        "id": "3I5sk3by7ARd"
      },
      "source": [
        "\n",
        "\n",
        "# Define the function that we are interested in\n",
        "\n",
        "\n",
        "# Make a grid to evaluate the function (for plotting)\n"
      ],
      "execution_count": null,
      "outputs": []
    },
    {
      "cell_type": "code",
      "metadata": {
        "id": "PybQtvmv8Rd8"
      },
      "source": [
        "# Visualize the function in 2D\n"
      ],
      "execution_count": null,
      "outputs": []
    },
    {
      "cell_type": "code",
      "metadata": {
        "id": "pLoKunJ38dPK"
      },
      "source": [
        "# Visualize the function in 3D\n"
      ],
      "execution_count": null,
      "outputs": []
    },
    {
      "cell_type": "code",
      "metadata": {
        "id": "oqFO5wOA82uf"
      },
      "source": [
        "# Find the minima\n",
        "\n",
        "\n",
        "# Show the function in 2D\n",
        "\n",
        "# And the minimum that we've found:\n"
      ],
      "execution_count": null,
      "outputs": []
    },
    {
      "cell_type": "code",
      "metadata": {
        "id": "FyYVAQwe9ACX"
      },
      "source": [
        ""
      ],
      "execution_count": null,
      "outputs": []
    },
    {
      "cell_type": "code",
      "metadata": {
        "id": "uZdDdihqeZyS"
      },
      "source": [
        ""
      ],
      "execution_count": null,
      "outputs": []
    }
  ]
}