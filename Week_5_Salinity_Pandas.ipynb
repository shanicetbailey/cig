{
  "nbformat": 4,
  "nbformat_minor": 0,
  "metadata": {
    "colab": {
      "name": "Week_5_Salinity_Pandas.ipynb",
      "provenance": [],
      "include_colab_link": true
    },
    "kernelspec": {
      "name": "python3",
      "display_name": "Python 3"
    }
  },
  "cells": [
    {
      "cell_type": "markdown",
      "metadata": {
        "id": "view-in-github",
        "colab_type": "text"
      },
      "source": [
        "<a href=\"https://colab.research.google.com/github/stb2145/cig/blob/master/Week_5_Salinity_Pandas.ipynb\" target=\"_parent\"><img src=\"https://colab.research.google.com/assets/colab-badge.svg\" alt=\"Open In Colab\"/></a>"
      ]
    },
    {
      "cell_type": "markdown",
      "metadata": {
        "id": "t8ZjlhQpL5i5"
      },
      "source": [
        "# **Week 2: Pandas, NumPy, SciPy**\n",
        "\n",
        "**Learning Goals**\n",
        "- Learn about/ `import` Python libraries (15 min)\n",
        "- Learn about NumPy (5 min)\n",
        "- Learn about Pandas (40 min)\n",
        "- Learn about SciPy (30 min)\n",
        "\n",
        "### **Icebreaker!**\n",
        "> **How many oceans are there?** 🤔..."
      ]
    },
    {
      "cell_type": "markdown",
      "metadata": {
        "id": "yzFAPr0CUihR"
      },
      "source": [
        "##### Sort of a trick question..."
      ]
    },
    {
      "cell_type": "markdown",
      "metadata": {
        "id": "mtxipZTZFeZG"
      },
      "source": [
        "# **Solution to Week 1 exercises**\n",
        "\n"
      ]
    },
    {
      "cell_type": "code",
      "metadata": {
        "id": "OD5EDnlqcAtR"
      },
      "source": [
        "#Boolean \n",
        "indian_ocean = 30 #˚C\n",
        "atlantic_ocean = 28 #˚C\n",
        "\n",
        "indian_ocean == atlantic_ocean"
      ],
      "execution_count": null,
      "outputs": []
    },
    {
      "cell_type": "code",
      "metadata": {
        "id": "4f3KqQCTcNGY"
      },
      "source": [
        "# in statement\n",
        "oceans = ['Arctic','Atlantic','Pacific','Indian']"
      ],
      "execution_count": null,
      "outputs": []
    },
    {
      "cell_type": "code",
      "metadata": {
        "id": "iyC3mmakdKX_"
      },
      "source": [
        "#check to see if the Southern Ocean is included in our `oceans` variable\n",
        "'Southern' in oceans"
      ],
      "execution_count": null,
      "outputs": []
    },
    {
      "cell_type": "code",
      "metadata": {
        "id": "KwW8LyG7db0b"
      },
      "source": [
        "# if statement\n",
        "\n",
        "temp1 = 30 #˚C\n",
        "temp2 = 0 #˚C\n",
        "\n",
        "if (temp1 != temp2):\n",
        "  print('temp1 does not equal temp2')"
      ],
      "execution_count": null,
      "outputs": []
    },
    {
      "cell_type": "markdown",
      "metadata": {
        "id": "zSAu7xwVX7xP"
      },
      "source": [
        "> **We measure ocean temperature and depth with argo floats. What else do you think an Argo float measures in the water?**\n"
      ]
    },
    {
      "cell_type": "markdown",
      "metadata": {
        "id": "SZoCJ-4DU8eg"
      },
      "source": [
        "# **Ocean Salinity**\n",
        "\n",
        "### Salt vs Salinity\n",
        "\n",
        "> **Salts** are compounds like sodium chloride, magnesium sulfate, potassium nitrate, and sodium bicarbonate which dissolve into ions.\n",
        "\n",
        "> **Salinity** is the quantity of dissolved salt content of the water. It is measured as a mass fraction, or the ratio of dissolved salts (g) to a unit mass of water (kg). Often the unit for salinity is expressed as \"practical salinity unit\" (psu= $\\frac{g}{kg}$)."
      ]
    },
    {
      "cell_type": "markdown",
      "metadata": {
        "id": "Yd5pkKOGO4zw"
      },
      "source": [
        "<img width=800 src=\"https://smap.jpl.nasa.gov/system/news_items/main_images/1265_SMAP_salinity.jpg\">"
      ]
    },
    {
      "cell_type": "markdown",
      "metadata": {
        "id": "8tXndgajcA_b"
      },
      "source": [
        "> **Based on the figure above...**\n",
        ">\n",
        "> **1) Which ocean basin is the saltiest/freshest?**\n",
        ">\n",
        "> **2) What is the average salinity of the ocean?**"
      ]
    },
    {
      "cell_type": "markdown",
      "metadata": {
        "id": "cPmmek6-U7zi"
      },
      "source": [
        "# **What are Python Packages?**\n",
        "##Most of the power of a programming language is in its libraries.\n",
        "\n",
        "> A Python package is a collection/directory of Python modules. In other words, it's a library of python files and in those files are scripts of code with specific functions.\n",
        "\n",
        "<img src='https://drive.google.com/uc?id=1C7Y1p1Nlj0QhLqEPUGMoU6FP1QWMqrFU' width=\"520\" height=\"300\" />\n",
        "\n",
        "- A library is a collection of files (called modules) that contains functions for use by other programs.\n",
        " - May also contain data values (e.g., numerical constants) and other things.\n",
        " - Library’s contents are supposed to be related, but there’s no way to enforce that.\n",
        "- The Python [standard library](https://docs.python.org/3/library/) is an extensive suite of modules that comes with Python itself.\n",
        "- Many additional libraries are available from [PyPI](https://pypi.org/) (the Python Package Index).\n",
        "- We will see later how to write new libraries.\n",
        "\n"
      ]
    },
    {
      "cell_type": "markdown",
      "metadata": {
        "id": "Tk35u6SFZlU7"
      },
      "source": [
        "> **Libraries and Modules**\n",
        ">\n",
        "> A library is a collection of modules, but the terms are often used interchangeably, especially since many libraries only consist of a single module, so don’t worry if you mix them."
      ]
    },
    {
      "cell_type": "markdown",
      "metadata": {
        "id": "Zd9iyrt1Z03P"
      },
      "source": [
        "# **A program must import a library module before using it.**\n",
        "\n",
        "- Use `import` to load a library module into a program’s memory.\n",
        "- Then refer to things from the module as `module_name.thing_name`.\n",
        " - Python uses `.` to mean “part of”.\n",
        "- Using `numpy`, one of the modules in the standard library:"
      ]
    },
    {
      "cell_type": "code",
      "metadata": {
        "id": "CSKBFzjMccG8",
        "outputId": "bb1e934f-589e-40e2-f11f-e252297826f0",
        "colab": {
          "base_uri": "https://localhost:8080/"
        }
      },
      "source": [
        "import numpy\n",
        "\n",
        "print('pi is', numpy.pi)\n",
        "print('cos(pi) is', numpy.cos(numpy.pi))"
      ],
      "execution_count": 3,
      "outputs": [
        {
          "output_type": "stream",
          "text": [
            "pi is 3.141592653589793\n",
            "cos(pi) is -1.0\n"
          ],
          "name": "stdout"
        }
      ]
    },
    {
      "cell_type": "markdown",
      "metadata": {
        "id": "uQJnGttJcpm5"
      },
      "source": [
        "> Have to refer to each item with the module’s name.\n",
        ">> `numpy.cos(pi)` won’t work: the reference to `pi` doesn’t somehow “inherit” the function’s reference to `numpy`"
      ]
    },
    {
      "cell_type": "markdown",
      "metadata": {
        "id": "jazIo9V_c4cB"
      },
      "source": [
        "## Use `help` to learn about the contents of a library module."
      ]
    },
    {
      "cell_type": "code",
      "metadata": {
        "id": "8kyCdYd3dtTf"
      },
      "source": [
        "help(numpy)"
      ],
      "execution_count": null,
      "outputs": []
    },
    {
      "cell_type": "markdown",
      "metadata": {
        "id": "aBrLq7GQdHgv"
      },
      "source": [
        "## Import specific items from a library module to shorten programs."
      ]
    },
    {
      "cell_type": "code",
      "metadata": {
        "id": "d523PZHvdORx"
      },
      "source": [
        "from math import cos, pi\n",
        "\n",
        "print('cos(pi) is', cos(pi))"
      ],
      "execution_count": null,
      "outputs": []
    },
    {
      "cell_type": "markdown",
      "metadata": {
        "id": "Tk1vRvskXMic"
      },
      "source": [
        "#### **Essential Python Packages:**\n",
        "\n",
        "- `numpy`\n",
        "- `pandas`\n",
        "- `matplotlib`"
      ]
    },
    {
      "cell_type": "markdown",
      "metadata": {
        "id": "C9FzIz4-Xahl"
      },
      "source": [
        "> **How do we get packages into our notebooks?**\n",
        ">\n",
        "> We `import` them!"
      ]
    },
    {
      "cell_type": "code",
      "metadata": {
        "id": "ohitEnu4UuGU"
      },
      "source": [
        "import numpy as np\n",
        "import pandas as pd\n",
        "import scipy"
      ],
      "execution_count": null,
      "outputs": []
    },
    {
      "cell_type": "markdown",
      "metadata": {
        "id": "-Qa6bhd_bENH"
      },
      "source": [
        "# **NumPy**\n",
        "\n",
        "[Numpy Documentation](https://numpy.org/doc/)\n",
        "\n",
        "> Numpy is a "
      ]
    },
    {
      "cell_type": "markdown",
      "metadata": {
        "id": "lpCJ7yRGc2cc"
      },
      "source": [
        "# **Pandas**\n",
        "\n",
        "<img width=\"400\" src='https://miro.medium.com/max/1400/1*KdxlBR9P3mDp9JZ_URMdYQ.jpeg'>\n",
        "\n",
        ">No but seriously, `pandas` is a Python toolbox (module) that allows for efficient, high-performing analysis on _tabular_ data (i.e. excel sheet type of data).\n",
        "\n",
        "### **There are two main data structures in pandas**\n",
        "\n",
        "> **Data Series**: 1-dimensional array of values with an index\n",
        ">\n",
        "> **Data Frame**: 2-dimensional array of values with a row and a column index"
      ]
    },
    {
      "cell_type": "markdown",
      "metadata": {
        "id": "SkNthSPeZbsz"
      },
      "source": [
        "# Pandas Capabilities\n",
        "\n",
        "[Documentation](https://pandas.pydata.org/pandas-docs/stable/)\n",
        "\n",
        "- A fast and efficient DataFrame object for data manipulation with integrated indexing;\n",
        "- Tools for reading and writing data between in-memory data structures and different formats: CSV and text files, Microsoft Excel, SQL databases, and the fast HDF5 format;\n",
        "- Intelligent data alignment and integrated handling of missing data: gain automatic label-based alignment in computations and easily manipulate messy data into an orderly form;\n",
        "- Flexible reshaping and pivoting of data sets;\n",
        "- Intelligent label-based slicing, fancy indexing, and subsetting of large data sets;\n",
        "- Columns can be inserted and deleted from data structures for size mutability;\n",
        "- Aggregating or transforming data with a powerful group by engine allowing split-apply-combine operations on data sets;\n",
        "- High performance merging and joining of data sets;\n",
        "- Hierarchical axis indexing provides an intuitive way of working with high-dimensional data in a lower-dimensional data structure;\n",
        "- Time series-functionality: date range generation and frequency conversion, moving window statistics, moving window linear regressions, date shifting and lagging. Even create domain-specific time offsets and join time series without losing data;\n",
        "- Highly optimized for performance, with critical code paths written in Cython or C.\n",
        "- Python with pandas is in use in a wide variety of academic and commercial domains, including Finance, Neuroscience, Economics, Statistics, Advertising, Web Analytics, and more."
      ]
    },
    {
      "cell_type": "markdown",
      "metadata": {
        "id": "ctnPb5buzPBK"
      },
      "source": [
        "# Introduce pd frame and series with class age and height, with the names as index and age/height as values."
      ]
    },
    {
      "cell_type": "markdown",
      "metadata": {
        "id": "ACc2bAe1d7TW"
      },
      "source": [
        "<img width=\"500\" src='https://miro.medium.com/max/1400/1*o5c599ueURBTZWDGmx1SiA.png'>"
      ]
    },
    {
      "cell_type": "markdown",
      "metadata": {
        "id": "f269SEDUmcQY"
      },
      "source": [
        "> Anytime you need more information on a package/function, call `?` after the function name."
      ]
    },
    {
      "cell_type": "code",
      "metadata": {
        "id": "CU3zQl7WmYWg"
      },
      "source": [
        "pd?"
      ],
      "execution_count": null,
      "outputs": []
    },
    {
      "cell_type": "markdown",
      "metadata": {
        "id": "x3c7uSDagkVn"
      },
      "source": [
        "#### **Example of a pandas Data Series:**"
      ]
    },
    {
      "cell_type": "code",
      "metadata": {
        "id": "XaHswcq8mDqi"
      },
      "source": [
        "#create index\n",
        "names = ['Cherif', 'Damian', 'Eric', 'Silas', 'Victor']\n",
        "#create data values\n",
        "ages = []\n",
        "#height = []"
      ],
      "execution_count": null,
      "outputs": []
    },
    {
      "cell_type": "code",
      "metadata": {
        "id": "-dRZeqbWtfBm"
      },
      "source": [
        "club = #create pandas series"
      ],
      "execution_count": null,
      "outputs": []
    },
    {
      "cell_type": "markdown",
      "metadata": {
        "id": "DCYPBJyRsz_W"
      },
      "source": [
        "> You can use many statistical functions on both Series and DataFrames."
      ]
    },
    {
      "cell_type": "code",
      "metadata": {
        "id": "s_PRteMFrEoJ"
      },
      "source": [
        "#oldest age in your series\n",
        "club.max()"
      ],
      "execution_count": null,
      "outputs": []
    },
    {
      "cell_type": "code",
      "metadata": {
        "id": "bD3NVjo0rVOK"
      },
      "source": [
        "#youngest age value in your series\n",
        "club.min()"
      ],
      "execution_count": null,
      "outputs": []
    },
    {
      "cell_type": "code",
      "metadata": {
        "id": "QFj5JpPLrYsM"
      },
      "source": [
        "#average age in the whole club\n",
        "club.mean()"
      ],
      "execution_count": null,
      "outputs": []
    },
    {
      "cell_type": "markdown",
      "metadata": {
        "id": "XUMERkPpt1wZ"
      },
      "source": [
        "> **Ocean basins pandas series**"
      ]
    },
    {
      "cell_type": "code",
      "metadata": {
        "id": "c2hmlDsKc4nG"
      },
      "source": [
        "ocean_basins = ['Arctic', 'Atlantic', 'Indian', 'Pacific', 'Southern']\n",
        "avg_salinity = [32, 35, 34.5, 35, 34.7]\n",
        "ds = pd.Series(data=avg_salinity, index=ocean_basins, name=\"Ocean basins' average salinities\")"
      ],
      "execution_count": null,
      "outputs": []
    },
    {
      "cell_type": "code",
      "metadata": {
        "id": "JaCL9MgSiRWu"
      },
      "source": [
        "ds"
      ],
      "execution_count": null,
      "outputs": []
    },
    {
      "cell_type": "code",
      "metadata": {
        "id": "MBtpArPohhAU"
      },
      "source": [
        "# If you're not sure what the index of your pd series is:\n",
        "ds.index"
      ],
      "execution_count": null,
      "outputs": []
    },
    {
      "cell_type": "code",
      "metadata": {
        "id": "jBwj2t0Dq2jC"
      },
      "source": [
        "# If you're not sure what the values of your pd series are:\n",
        "ds.values"
      ],
      "execution_count": null,
      "outputs": []
    },
    {
      "cell_type": "markdown",
      "metadata": {
        "id": "CGbR9anukjdM"
      },
      "source": [
        "> **Find the freshest ocean basin(s)**"
      ]
    },
    {
      "cell_type": "code",
      "metadata": {
        "id": "FuYBlSxpsAFe"
      },
      "source": [
        "#first find the minimum salinity value\n",
        "ds.min()"
      ],
      "execution_count": null,
      "outputs": []
    },
    {
      "cell_type": "code",
      "metadata": {
        "id": "3CB40BALrm1J"
      },
      "source": [
        "#next find the index associated with that salinity value\n",
        "ds[ds == 32.0]"
      ],
      "execution_count": null,
      "outputs": []
    },
    {
      "cell_type": "code",
      "metadata": {
        "id": "OgZmvCwcs4ca"
      },
      "source": [
        "#another way to write the same code!\n",
        "ds[ds == ds.min()]"
      ],
      "execution_count": null,
      "outputs": []
    },
    {
      "cell_type": "markdown",
      "metadata": {
        "id": "OnKPnpffsiRB"
      },
      "source": [
        "> **Find the saltiest ocean basin(s)**"
      ]
    },
    {
      "cell_type": "code",
      "metadata": {
        "id": "SbkuJX2Lsppo"
      },
      "source": [
        "#your code here"
      ],
      "execution_count": null,
      "outputs": []
    },
    {
      "cell_type": "code",
      "metadata": {
        "id": "7GvXtt2Ssmvp"
      },
      "source": [
        "#your code here"
      ],
      "execution_count": null,
      "outputs": []
    },
    {
      "cell_type": "code",
      "metadata": {
        "id": "pkcYVpy8tWch"
      },
      "source": [
        ""
      ],
      "execution_count": null,
      "outputs": []
    },
    {
      "cell_type": "markdown",
      "metadata": {
        "id": "zbSdHuNlgqnK"
      },
      "source": [
        "#### **Example of a pandas Data Frame:**"
      ]
    },
    {
      "cell_type": "code",
      "metadata": {
        "id": "dMjEbuu0gr1A"
      },
      "source": [
        "#first create a dictionary\n",
        "ocean_basins = ['Arctic', 'Atlantic', 'Indian', 'Pacific', 'Southern']\n",
        "avg_salinity = [32, 35, 34.5, 35, 34.7]\n",
        "avg_temp = [-1.8, 14, 22, 20, 4]\n",
        "\n",
        "avg_data = {'avg_salinity': avg_salinity,\n",
        "        'avg_temp': avg_temp}\n",
        "\n",
        "\n",
        "df = pd.DataFrame(data=avg_data, index=ocean_basins)"
      ],
      "execution_count": null,
      "outputs": []
    },
    {
      "cell_type": "code",
      "metadata": {
        "id": "nc4jg12Qoigc"
      },
      "source": [
        "df"
      ],
      "execution_count": null,
      "outputs": []
    },
    {
      "cell_type": "code",
      "metadata": {
        "id": "bc09e412ovEz"
      },
      "source": [
        "df.info()"
      ],
      "execution_count": null,
      "outputs": []
    },
    {
      "cell_type": "markdown",
      "metadata": {
        "id": "Rn0FBjo5pv1f"
      },
      "source": [
        "> You can use many statistical functions on both Series and DataFrames."
      ]
    },
    {
      "cell_type": "code",
      "metadata": {
        "id": "hrFTMRfXplC4"
      },
      "source": [
        "df.min()"
      ],
      "execution_count": null,
      "outputs": []
    },
    {
      "cell_type": "code",
      "metadata": {
        "id": "Wd2UJEU_p4N1"
      },
      "source": [
        "df.max()"
      ],
      "execution_count": null,
      "outputs": []
    },
    {
      "cell_type": "code",
      "metadata": {
        "id": "DBSMXeUbp65n"
      },
      "source": [
        "df.mean()"
      ],
      "execution_count": null,
      "outputs": []
    },
    {
      "cell_type": "markdown",
      "metadata": {
        "id": "wYv85yCmtQWk"
      },
      "source": [
        "> Or, if you want all the basic stats, you can call `describe()`\n"
      ]
    },
    {
      "cell_type": "code",
      "metadata": {
        "id": "tRpFYdQpp-CG"
      },
      "source": [
        "df.describe()"
      ],
      "execution_count": null,
      "outputs": []
    },
    {
      "cell_type": "markdown",
      "metadata": {
        "id": "UzSda_SEqL4y"
      },
      "source": [
        "> We can get a single column as a Series using python's getitem syntax on the DataFrame object."
      ]
    },
    {
      "cell_type": "code",
      "metadata": {
        "id": "y4Aue2cCqAJn"
      },
      "source": [
        "df['avg_salinity']"
      ],
      "execution_count": null,
      "outputs": []
    },
    {
      "cell_type": "markdown",
      "metadata": {
        "id": "rwi9uXnLqwjQ"
      },
      "source": [
        "> or using attribute syntax."
      ]
    },
    {
      "cell_type": "code",
      "metadata": {
        "id": "5aMCTgeuqO6u"
      },
      "source": [
        "df.avg_salinity"
      ],
      "execution_count": null,
      "outputs": []
    },
    {
      "cell_type": "markdown",
      "metadata": {
        "id": "FbrmucgWrC1Q"
      },
      "source": [
        "> **Find the following in this dataframe:**"
      ]
    },
    {
      "cell_type": "code",
      "metadata": {
        "id": "kaPvkKCTqv1T"
      },
      "source": [
        "#What ocean basin has the coldest average temperature? What is that temperature?\n",
        "df.avg_temp.min()"
      ],
      "execution_count": null,
      "outputs": []
    },
    {
      "cell_type": "code",
      "metadata": {
        "id": "2A8248ysrUAd"
      },
      "source": [
        "df.avg_salinity.plot(kind='bar')"
      ],
      "execution_count": null,
      "outputs": []
    },
    {
      "cell_type": "code",
      "metadata": {
        "id": "J3v_PA7vsEYZ"
      },
      "source": [
        "df.plot(kind='bar')"
      ],
      "execution_count": null,
      "outputs": []
    },
    {
      "cell_type": "markdown",
      "metadata": {
        "id": "tSiIPDsFZQsA"
      },
      "source": [
        "**Learning Goals**\n",
        "- Learn about ocean salinity \n",
        "- What are Python packages?\n",
        "- `import` essential packages \n",
        "- Let's play with `pandas`!"
      ]
    },
    {
      "cell_type": "code",
      "metadata": {
        "id": "JUgT8tjYsNvI"
      },
      "source": [
        ""
      ],
      "execution_count": null,
      "outputs": []
    }
  ]
}