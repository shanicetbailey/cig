{
  "nbformat": 4,
  "nbformat_minor": 0,
  "metadata": {
    "colab": {
      "name": "Week_5_Salinity_Pandas.ipynb",
      "provenance": [],
      "include_colab_link": true
    },
    "kernelspec": {
      "name": "python3",
      "display_name": "Python 3"
    }
  },
  "cells": [
    {
      "cell_type": "markdown",
      "metadata": {
        "id": "view-in-github",
        "colab_type": "text"
      },
      "source": [
        "<a href=\"https://colab.research.google.com/github/stb2145/cig/blob/master/Week_5_Salinity_Pandas.ipynb\" target=\"_parent\"><img src=\"https://colab.research.google.com/assets/colab-badge.svg\" alt=\"Open In Colab\"/></a>"
      ]
    },
    {
      "cell_type": "markdown",
      "metadata": {
        "id": "t8ZjlhQpL5i5"
      },
      "source": [
        "# **Week 2: Pandas, NumPy, SciPy**\n",
        "\n",
        "**Learning Goals**\n",
        "- Learn about/ `import` [Python libraries](http://swcarpentry.github.io/python-novice-gapminder/06-libraries/index.html) (20 min)\n",
        "- Learn about [Pandas](http://swcarpentry.github.io/python-novice-gapminder/07-reading-tabular/index.html) (40 min)\n",
        "- Learn about SciPy (30 min)\n",
        "\n",
        "### **Icebreaker!**\n",
        "> **How many oceans are there?** 🤔..."
      ]
    },
    {
      "cell_type": "markdown",
      "metadata": {
        "id": "yzFAPr0CUihR"
      },
      "source": [
        "##### Sort of a trick question..."
      ]
    },
    {
      "cell_type": "markdown",
      "metadata": {
        "id": "mtxipZTZFeZG"
      },
      "source": [
        "# **Solution to Week 1 exercises**\n",
        "\n"
      ]
    },
    {
      "cell_type": "code",
      "metadata": {
        "id": "l5lHiBXwj0EU"
      },
      "source": [
        ""
      ],
      "execution_count": null,
      "outputs": []
    },
    {
      "cell_type": "markdown",
      "metadata": {
        "id": "cPmmek6-U7zi"
      },
      "source": [
        "# **What are Python Libraries?**\n",
        "##Most of the power of a programming language is in its libraries.\n",
        "\n",
        "> A Python package is a collection/directory of Python modules. In other words, it's a library of python files and in those files are scripts of code with specific functions.\n",
        "\n",
        "<img src='https://drive.google.com/uc?id=1C7Y1p1Nlj0QhLqEPUGMoU6FP1QWMqrFU' width=\"520\" height=\"300\" />\n",
        "\n",
        "- A library is a collection of files (called modules) that contains functions for use by other programs.\n",
        " - May also contain data values (e.g., numerical constants) and other things.\n",
        " - Library’s contents are supposed to be related, but there’s no way to enforce that.\n",
        "- The Python [standard library](https://docs.python.org/3/library/) is an extensive suite of modules that comes with Python itself.\n",
        "- Many additional libraries are available from [PyPI](https://pypi.org/) (the Python Package Index).\n",
        "- We will see later how to write new libraries.\n",
        "\n"
      ]
    },
    {
      "cell_type": "markdown",
      "metadata": {
        "id": "Tk35u6SFZlU7"
      },
      "source": [
        "> **Libraries and Modules**\n",
        ">\n",
        "> A library is a collection of modules, but the terms are often used interchangeably, especially since many libraries only consist of a single module, so don’t worry if you mix them."
      ]
    },
    {
      "cell_type": "markdown",
      "metadata": {
        "id": "Zd9iyrt1Z03P"
      },
      "source": [
        "## A program must import a library module before using it.\n",
        "\n",
        "- Use `import` to load a library module into a program’s memory.\n",
        "- Then refer to things from the module as `module_name.thing_name`.\n",
        " - Python uses `.` to mean “part of”.\n",
        "- Using `numpy`, one of the modules in the standard library:"
      ]
    },
    {
      "cell_type": "code",
      "metadata": {
        "id": "CSKBFzjMccG8"
      },
      "source": [
        "import numpy\n",
        "\n",
        "print('pi is', numpy.pi)\n",
        "print('cos(pi) is', numpy.cos(numpy.pi))"
      ],
      "execution_count": null,
      "outputs": []
    },
    {
      "cell_type": "markdown",
      "metadata": {
        "id": "uQJnGttJcpm5"
      },
      "source": [
        "> Have to refer to each item with the module’s name.\n",
        ">> `numpy.cos(pi)` won’t work: the reference to `pi` doesn’t somehow “inherit” the function’s reference to `numpy`"
      ]
    },
    {
      "cell_type": "markdown",
      "metadata": {
        "id": "jazIo9V_c4cB"
      },
      "source": [
        "## Use `help` to learn about the contents of a library module.\n",
        "\n",
        "> [Numpy Documentation](https://numpy.org/doc/)"
      ]
    },
    {
      "cell_type": "code",
      "metadata": {
        "id": "8kyCdYd3dtTf"
      },
      "source": [
        "import math\n",
        "help(math)"
      ],
      "execution_count": null,
      "outputs": []
    },
    {
      "cell_type": "markdown",
      "metadata": {
        "id": "5ePVxXhBfTAM"
      },
      "source": [
        "### Difference between `math` and `numpy`\n",
        "[from StackOverflow](https://stackoverflow.com/questions/41648058/what-is-the-difference-between-import-numpy-and-import-math)\n",
        "\n",
        "- Use `math` if you are doing simple comutations with only with scalars (and no lists or arrays).\n",
        "> `math` is part of the standard python library. It provides functions for basic mathematical operations as well as some commonly used constants.\n",
        "\n",
        "- Use `numpy` if you are doing scientific computations with matrices, arrays, or large datasets.\n",
        "> numpy on the other hand is a third party package geared towards scientific computing. It is the defacto package for numerical and vector operations in python. It provides several routines optimized for vector and array computations as a result, is a lot faster for such operations than say just using python lists. See http://www.numpy.org/ for more info."
      ]
    },
    {
      "cell_type": "markdown",
      "metadata": {
        "id": "aBrLq7GQdHgv"
      },
      "source": [
        "## Import specific items from a library module to shorten programs."
      ]
    },
    {
      "cell_type": "code",
      "metadata": {
        "id": "d523PZHvdORx"
      },
      "source": [
        "from numpy import cos, pi\n",
        "\n",
        "print('cos(pi) is', cos(pi))"
      ],
      "execution_count": null,
      "outputs": []
    },
    {
      "cell_type": "markdown",
      "metadata": {
        "id": "ep4WQBOOeXpx"
      },
      "source": [
        "## Create an alias for a library module when importing it to shorten programs.\n",
        "\n",
        "> Use `import ... as ...` to give a library a short alias while importing it.\n",
        ">\n",
        "> Then refer to items in the library using that shortened name."
      ]
    },
    {
      "cell_type": "code",
      "metadata": {
        "id": "XXILQGeUeo4v"
      },
      "source": [
        "import numpy as np\n",
        "\n",
        "print('cos(pi) is', np.cos(np.pi))"
      ],
      "execution_count": null,
      "outputs": []
    },
    {
      "cell_type": "markdown",
      "metadata": {
        "id": "Tk1vRvskXMic"
      },
      "source": [
        "### Essential Python libraries:\n",
        "\n",
        "- `numpy`\n",
        "- `pandas`\n",
        "- `matplotlib`\n",
        "\n",
        "### Create alias for these libraries:"
      ]
    },
    {
      "cell_type": "code",
      "metadata": {
        "id": "ohitEnu4UuGU"
      },
      "source": [
        "import numpy as np\n",
        "import pandas as pd\n",
        "import scipy "
      ],
      "execution_count": 2,
      "outputs": []
    },
    {
      "cell_type": "markdown",
      "metadata": {
        "id": "sQRBemb2hlwr"
      },
      "source": [
        "## A few exercises:"
      ]
    },
    {
      "cell_type": "markdown",
      "metadata": {
        "id": "1xg5I_dfhpW_"
      },
      "source": [
        "## 1)\n",
        "\n",
        "When a colleague of yours types `help(math)`, Python reports an error:\n",
        "\n",
        "`NameError: name 'math' is not defined`\n",
        "\n",
        "What has your colleague forgotten to do?"
      ]
    },
    {
      "cell_type": "code",
      "metadata": {
        "id": "rJSvaBO2ifGU"
      },
      "source": [
        "#type solution here\n"
      ],
      "execution_count": null,
      "outputs": []
    },
    {
      "cell_type": "markdown",
      "metadata": {
        "id": "fWHg_SglhpDW"
      },
      "source": [
        "## 2)\n",
        "Take the square root of a 4x4 2-D array with the number 144 in the diagonals and 0's elsewhere."
      ]
    },
    {
      "cell_type": "code",
      "metadata": {
        "id": "Nyc2h_cZjvDm"
      },
      "source": [
        "a = 144 * np.eye()\n",
        "np.sqrt(a)"
      ],
      "execution_count": null,
      "outputs": []
    },
    {
      "cell_type": "markdown",
      "metadata": {
        "id": "cQDNb5jgkua9"
      },
      "source": [
        "## 3)\n",
        "Create a 1D array of numbers going from 0 to 20 with 2 as the step count.\n",
        "\n",
        "What is the length of this object?"
      ]
    },
    {
      "cell_type": "code",
      "metadata": {
        "id": "PzTZbWkVk3Qv"
      },
      "source": [
        "x = np.arange(0, 20, 2)\n",
        "len(x)"
      ],
      "execution_count": null,
      "outputs": []
    },
    {
      "cell_type": "markdown",
      "metadata": {
        "id": "lpCJ7yRGc2cc"
      },
      "source": [
        "# **Pandas!**\n",
        "\n",
        "<img width=\"400\" src='https://miro.medium.com/max/1400/1*KdxlBR9P3mDp9JZ_URMdYQ.jpeg'>\n",
        "\n",
        "## No but seriously, `pandas` is a powerful Python library that allows for efficient, high-performing analysis (typically statistics) on _tabular_ data (i.e. excel sheet type of data).\n",
        "\n",
        "> Pandas is built on top of the Numpy library, which in practice means that most of the methods defined for Numpy Arrays apply to Pandas Series/DataFrames."
      ]
    },
    {
      "cell_type": "markdown",
      "metadata": {
        "id": "SkNthSPeZbsz"
      },
      "source": [
        "### Pandas Capabilities\n",
        "\n",
        "[Documentation](https://pandas.pydata.org/pandas-docs/stable/)\n"
      ]
    },
    {
      "cell_type": "markdown",
      "metadata": {
        "id": "tZQvjzjlxvXD"
      },
      "source": [
        "\n",
        "- A fast and efficient DataFrame object for data manipulation with integrated indexing;\n",
        "- Tools for reading and writing data between in-memory data structures and different formats: CSV and text files, Microsoft Excel, SQL databases, and the fast HDF5 format;\n",
        "- Intelligent data alignment and integrated handling of missing data: gain automatic label-based alignment in computations and easily manipulate messy data into an orderly form;\n",
        "- Flexible reshaping and pivoting of data sets;\n",
        "- Intelligent label-based slicing, fancy indexing, and subsetting of large data sets;\n",
        "- Columns can be inserted and deleted from data structures for size mutability;\n",
        "- Aggregating or transforming data with a powerful group by engine allowing split-apply-combine operations on data sets;\n",
        "- High performance merging and joining of data sets;\n",
        "- Hierarchical axis indexing provides an intuitive way of working with high-dimensional data in a lower-dimensional data structure;\n",
        "- Time series-functionality: date range generation and frequency conversion, moving window statistics, moving window linear regressions, date shifting and lagging. Even create domain-specific time offsets and join time series without losing data;\n",
        "- Highly optimized for performance, with critical code paths written in Cython or C.\n",
        "- Python with pandas is in use in a wide variety of academic and commercial domains, including Finance, Neuroscience, Economics, Statistics, Advertising, Web Analytics, and more."
      ]
    },
    {
      "cell_type": "markdown",
      "metadata": {
        "id": "smkjZ2oxxril"
      },
      "source": [
        "### **There are two main data structures in pandas**\n",
        "\n",
        "> **Data Series**: 1-dimensional array of values with an index\n",
        ">\n",
        "> **Data Frame**: 2-dimensional array of values with a row and a column index\n",
        "\n",
        "> A DataFrame is a collection of Series; The DataFrame is the way Pandas represents a table, and Series is the data-structure Pandas use to represent a column.\n"
      ]
    },
    {
      "cell_type": "markdown",
      "metadata": {
        "id": "ctnPb5buzPBK"
      },
      "source": [
        "## Data series (left), Data Frame (right)\n",
        "\n",
        "Introduce pd frame and series with class age and height, with the names as index and age/height as values."
      ]
    },
    {
      "cell_type": "markdown",
      "metadata": {
        "id": "ACc2bAe1d7TW"
      },
      "source": [
        "<img width=\"500\" src='https://miro.medium.com/max/1400/1*o5c599ueURBTZWDGmx1SiA.png'>"
      ]
    },
    {
      "cell_type": "markdown",
      "metadata": {
        "id": "f269SEDUmcQY"
      },
      "source": [
        "> Anytime you need more information on a package/function, call `?` after the function name."
      ]
    },
    {
      "cell_type": "code",
      "metadata": {
        "id": "CU3zQl7WmYWg"
      },
      "source": [
        "pd?"
      ],
      "execution_count": null,
      "outputs": []
    },
    {
      "cell_type": "markdown",
      "metadata": {
        "id": "x3c7uSDagkVn"
      },
      "source": [
        "## Pandas Data Series:"
      ]
    },
    {
      "cell_type": "code",
      "metadata": {
        "id": "XaHswcq8mDqi"
      },
      "source": [
        "#create index\n",
        "names = ['Shanice', 'Jonathan', 'Rahim']\n",
        "#create data values\n",
        "ages = [121, 90, 83]\n",
        "#height = []"
      ],
      "execution_count": null,
      "outputs": []
    },
    {
      "cell_type": "code",
      "metadata": {
        "id": "-dRZeqbWtfBm"
      },
      "source": [
        "biopy = #create pandas series"
      ],
      "execution_count": null,
      "outputs": []
    },
    {
      "cell_type": "markdown",
      "metadata": {
        "id": "DCYPBJyRsz_W"
      },
      "source": [
        "> You can use many statistical functions on both Series and DataFrames."
      ]
    },
    {
      "cell_type": "code",
      "metadata": {
        "id": "s_PRteMFrEoJ"
      },
      "source": [
        "#oldest age in your series\n",
        "club.max()"
      ],
      "execution_count": null,
      "outputs": []
    },
    {
      "cell_type": "code",
      "metadata": {
        "id": "bD3NVjo0rVOK"
      },
      "source": [
        "#youngest age value in your series\n",
        "club.min()"
      ],
      "execution_count": null,
      "outputs": []
    },
    {
      "cell_type": "code",
      "metadata": {
        "id": "QFj5JpPLrYsM"
      },
      "source": [
        "#average age in the whole club\n",
        "club.mean()"
      ],
      "execution_count": null,
      "outputs": []
    },
    {
      "cell_type": "markdown",
      "metadata": {
        "id": "XUMERkPpt1wZ"
      },
      "source": [
        "> Ocean basins pandas series"
      ]
    },
    {
      "cell_type": "code",
      "metadata": {
        "id": "c2hmlDsKc4nG"
      },
      "source": [
        "ocean_basins = ['Arctic', 'Atlantic', 'Indian', 'Pacific', 'Southern']\n",
        "avg_salinity = [32, 35, 34.5, 35, 34.7]\n",
        "ds = pd.Series(data=avg_salinity, index=ocean_basins, name=\"Ocean basins' average salinities\")"
      ],
      "execution_count": null,
      "outputs": []
    },
    {
      "cell_type": "code",
      "metadata": {
        "id": "JaCL9MgSiRWu"
      },
      "source": [
        "ds"
      ],
      "execution_count": null,
      "outputs": []
    },
    {
      "cell_type": "code",
      "metadata": {
        "id": "MBtpArPohhAU"
      },
      "source": [
        "# If you're not sure what the index of your pd series is:\n",
        "ds.index"
      ],
      "execution_count": null,
      "outputs": []
    },
    {
      "cell_type": "code",
      "metadata": {
        "id": "jBwj2t0Dq2jC"
      },
      "source": [
        "# If you're not sure what the values of your pd series are:\n",
        "ds.values"
      ],
      "execution_count": null,
      "outputs": []
    },
    {
      "cell_type": "markdown",
      "metadata": {
        "id": "CGbR9anukjdM"
      },
      "source": [
        "> Find the freshest ocean basin(s)"
      ]
    },
    {
      "cell_type": "code",
      "metadata": {
        "id": "FuYBlSxpsAFe"
      },
      "source": [
        "#first find the minimum salinity value\n",
        "ds.min()"
      ],
      "execution_count": null,
      "outputs": []
    },
    {
      "cell_type": "code",
      "metadata": {
        "id": "3CB40BALrm1J"
      },
      "source": [
        "#next find the index associated with that salinity value\n",
        "ds[ds == 32.0]"
      ],
      "execution_count": null,
      "outputs": []
    },
    {
      "cell_type": "code",
      "metadata": {
        "id": "OgZmvCwcs4ca"
      },
      "source": [
        "#another way to write the same code!\n",
        "ds[ds == ds.min()]"
      ],
      "execution_count": null,
      "outputs": []
    },
    {
      "cell_type": "markdown",
      "metadata": {
        "id": "OnKPnpffsiRB"
      },
      "source": [
        "> Find the saltiest ocean basin(s)"
      ]
    },
    {
      "cell_type": "code",
      "metadata": {
        "id": "SbkuJX2Lsppo"
      },
      "source": [
        "#your code here"
      ],
      "execution_count": null,
      "outputs": []
    },
    {
      "cell_type": "code",
      "metadata": {
        "id": "7GvXtt2Ssmvp"
      },
      "source": [
        "#your code here"
      ],
      "execution_count": null,
      "outputs": []
    },
    {
      "cell_type": "code",
      "metadata": {
        "id": "pkcYVpy8tWch"
      },
      "source": [
        ""
      ],
      "execution_count": null,
      "outputs": []
    },
    {
      "cell_type": "markdown",
      "metadata": {
        "id": "zbSdHuNlgqnK"
      },
      "source": [
        "## Pandas Data Frame:"
      ]
    },
    {
      "cell_type": "code",
      "metadata": {
        "id": "dMjEbuu0gr1A"
      },
      "source": [
        "#first create a dictionary\n",
        "ocean_basins = ['Arctic', 'Atlantic', 'Indian', 'Pacific', 'Southern']\n",
        "avg_salinity = [32, 35, 34.5, 35, 34.7]\n",
        "avg_temp = [-1.8, 14, 22, 20, 4]\n",
        "\n",
        "avg_data = {'avg_salinity': avg_salinity,\n",
        "        'avg_temp': avg_temp}\n",
        "\n",
        "\n",
        "df = pd.DataFrame(data=avg_data, index=ocean_basins)"
      ],
      "execution_count": 19,
      "outputs": []
    },
    {
      "cell_type": "code",
      "metadata": {
        "id": "nc4jg12Qoigc",
        "colab": {
          "base_uri": "https://localhost:8080/",
          "height": 204
        },
        "outputId": "54f04425-d856-4821-e9e0-e9533369a0a1"
      },
      "source": [
        "df"
      ],
      "execution_count": 20,
      "outputs": [
        {
          "output_type": "execute_result",
          "data": {
            "text/html": [
              "<div>\n",
              "<style scoped>\n",
              "    .dataframe tbody tr th:only-of-type {\n",
              "        vertical-align: middle;\n",
              "    }\n",
              "\n",
              "    .dataframe tbody tr th {\n",
              "        vertical-align: top;\n",
              "    }\n",
              "\n",
              "    .dataframe thead th {\n",
              "        text-align: right;\n",
              "    }\n",
              "</style>\n",
              "<table border=\"1\" class=\"dataframe\">\n",
              "  <thead>\n",
              "    <tr style=\"text-align: right;\">\n",
              "      <th></th>\n",
              "      <th>avg_salinity</th>\n",
              "      <th>avg_temp</th>\n",
              "    </tr>\n",
              "  </thead>\n",
              "  <tbody>\n",
              "    <tr>\n",
              "      <th>Arctic</th>\n",
              "      <td>32.0</td>\n",
              "      <td>-1.8</td>\n",
              "    </tr>\n",
              "    <tr>\n",
              "      <th>Atlantic</th>\n",
              "      <td>35.0</td>\n",
              "      <td>14.0</td>\n",
              "    </tr>\n",
              "    <tr>\n",
              "      <th>Indian</th>\n",
              "      <td>34.5</td>\n",
              "      <td>22.0</td>\n",
              "    </tr>\n",
              "    <tr>\n",
              "      <th>Pacific</th>\n",
              "      <td>35.0</td>\n",
              "      <td>20.0</td>\n",
              "    </tr>\n",
              "    <tr>\n",
              "      <th>Southern</th>\n",
              "      <td>34.7</td>\n",
              "      <td>4.0</td>\n",
              "    </tr>\n",
              "  </tbody>\n",
              "</table>\n",
              "</div>"
            ],
            "text/plain": [
              "          avg_salinity  avg_temp\n",
              "Arctic            32.0      -1.8\n",
              "Atlantic          35.0      14.0\n",
              "Indian            34.5      22.0\n",
              "Pacific           35.0      20.0\n",
              "Southern          34.7       4.0"
            ]
          },
          "metadata": {
            "tags": []
          },
          "execution_count": 20
        }
      ]
    },
    {
      "cell_type": "code",
      "metadata": {
        "id": "bc09e412ovEz"
      },
      "source": [
        "df.info()"
      ],
      "execution_count": null,
      "outputs": []
    },
    {
      "cell_type": "markdown",
      "metadata": {
        "id": "Rn0FBjo5pv1f"
      },
      "source": [
        "> You can use many statistical functions on both Series and DataFrames."
      ]
    },
    {
      "cell_type": "code",
      "metadata": {
        "id": "hrFTMRfXplC4"
      },
      "source": [
        "df.min()"
      ],
      "execution_count": null,
      "outputs": []
    },
    {
      "cell_type": "code",
      "metadata": {
        "id": "Wd2UJEU_p4N1"
      },
      "source": [
        "df.max()"
      ],
      "execution_count": null,
      "outputs": []
    },
    {
      "cell_type": "code",
      "metadata": {
        "id": "DBSMXeUbp65n"
      },
      "source": [
        "df.mean()"
      ],
      "execution_count": null,
      "outputs": []
    },
    {
      "cell_type": "markdown",
      "metadata": {
        "id": "wYv85yCmtQWk"
      },
      "source": [
        "> Or, if you want all the basic stats, you can call `describe()`\n"
      ]
    },
    {
      "cell_type": "code",
      "metadata": {
        "id": "tRpFYdQpp-CG"
      },
      "source": [
        "df.describe()"
      ],
      "execution_count": null,
      "outputs": []
    },
    {
      "cell_type": "markdown",
      "metadata": {
        "id": "UzSda_SEqL4y"
      },
      "source": [
        "> We can get a single column as a Series using python's getitem syntax on the DataFrame object."
      ]
    },
    {
      "cell_type": "code",
      "metadata": {
        "id": "y4Aue2cCqAJn"
      },
      "source": [
        "df['avg_salinity']"
      ],
      "execution_count": null,
      "outputs": []
    },
    {
      "cell_type": "markdown",
      "metadata": {
        "id": "rwi9uXnLqwjQ"
      },
      "source": [
        "> or using attribute syntax."
      ]
    },
    {
      "cell_type": "code",
      "metadata": {
        "id": "5aMCTgeuqO6u"
      },
      "source": [
        "df.avg_salinity"
      ],
      "execution_count": null,
      "outputs": []
    },
    {
      "cell_type": "markdown",
      "metadata": {
        "id": "_8VrsvjpUtcj"
      },
      "source": [
        "## Indexing & Slicing\n",
        "\n",
        "- Use `DataFrame.iloc[..., ...]` to select values by their (entry)  **position**\n",
        "\n",
        "- Use `DataFrame.loc[..., ...]` to select values by their (entry) **label**"
      ]
    },
    {
      "cell_type": "code",
      "metadata": {
        "colab": {
          "base_uri": "https://localhost:8080/"
        },
        "id": "_53AQPRVUzhj",
        "outputId": "1ba4fc4f-ceef-441e-c0fb-eb0b6d9d5034"
      },
      "source": [
        "df.loc['Southern']"
      ],
      "execution_count": 5,
      "outputs": [
        {
          "output_type": "execute_result",
          "data": {
            "text/plain": [
              "avg_salinity    34.7\n",
              "avg_temp         4.0\n",
              "Name: Southern, dtype: float64"
            ]
          },
          "metadata": {
            "tags": []
          },
          "execution_count": 5
        }
      ]
    },
    {
      "cell_type": "code",
      "metadata": {
        "colab": {
          "base_uri": "https://localhost:8080/"
        },
        "id": "07px8EU3U7yo",
        "outputId": "ce79ac5f-05df-4c4d-8cd1-00485e76033d"
      },
      "source": [
        "df.iloc[-1]"
      ],
      "execution_count": 6,
      "outputs": [
        {
          "output_type": "execute_result",
          "data": {
            "text/plain": [
              "avg_salinity    34.7\n",
              "avg_temp         4.0\n",
              "Name: Southern, dtype: float64"
            ]
          },
          "metadata": {
            "tags": []
          },
          "execution_count": 6
        }
      ]
    },
    {
      "cell_type": "markdown",
      "metadata": {
        "id": "hGTO1YEvVZHN"
      },
      "source": [
        "> we can also specify the column we want to access"
      ]
    },
    {
      "cell_type": "code",
      "metadata": {
        "colab": {
          "base_uri": "https://localhost:8080/"
        },
        "id": "ufqqG8BTVgpA",
        "outputId": "b475ddfa-0638-4cd1-a99b-3ef1d0e15b97"
      },
      "source": [
        "df.loc['Southern', 'avg_temp']"
      ],
      "execution_count": 7,
      "outputs": [
        {
          "output_type": "execute_result",
          "data": {
            "text/plain": [
              "4.0"
            ]
          },
          "metadata": {
            "tags": []
          },
          "execution_count": 7
        }
      ]
    },
    {
      "cell_type": "code",
      "metadata": {
        "colab": {
          "base_uri": "https://localhost:8080/"
        },
        "id": "R3DKkPY-Vmi7",
        "outputId": "dcfe63dd-099a-43e7-953f-e4284476bd8f"
      },
      "source": [
        "df.iloc[-1,1]"
      ],
      "execution_count": 8,
      "outputs": [
        {
          "output_type": "execute_result",
          "data": {
            "text/plain": [
              "4.0"
            ]
          },
          "metadata": {
            "tags": []
          },
          "execution_count": 8
        }
      ]
    },
    {
      "cell_type": "markdown",
      "metadata": {
        "id": "dYYf4SnNVyq6"
      },
      "source": [
        "> If we make a calculation using columns from the DataFrame, it will keep the same index:"
      ]
    },
    {
      "cell_type": "code",
      "metadata": {
        "id": "1ZkkergZVzEd"
      },
      "source": [
        "df.avg_salinity * df.avg_temp"
      ],
      "execution_count": null,
      "outputs": []
    },
    {
      "cell_type": "markdown",
      "metadata": {
        "id": "Qu3CDrO8Xafo"
      },
      "source": [
        "> Which we can easily add as another column to the DataFrame:"
      ]
    },
    {
      "cell_type": "code",
      "metadata": {
        "id": "k5UW7hIrXW7v"
      },
      "source": [
        "df['TS'] = df.avg_salinity * df.avg_temp"
      ],
      "execution_count": 28,
      "outputs": []
    },
    {
      "cell_type": "code",
      "metadata": {
        "colab": {
          "base_uri": "https://localhost:8080/"
        },
        "id": "lSnCZnVwYCKh",
        "outputId": "3fea33b5-b6f5-4df4-c362-867fdd318eba"
      },
      "source": [
        "df.TS.mean()"
      ],
      "execution_count": 29,
      "outputs": [
        {
          "output_type": "execute_result",
          "data": {
            "text/plain": [
              "406.04"
            ]
          },
          "metadata": {
            "tags": []
          },
          "execution_count": 29
        }
      ]
    },
    {
      "cell_type": "code",
      "metadata": {
        "colab": {
          "base_uri": "https://localhost:8080/",
          "height": 204
        },
        "id": "FBnTNqMaYgte",
        "outputId": "c6963e63-9b2a-4373-e786-8b13f6757633"
      },
      "source": [
        "df"
      ],
      "execution_count": 30,
      "outputs": [
        {
          "output_type": "execute_result",
          "data": {
            "text/html": [
              "<div>\n",
              "<style scoped>\n",
              "    .dataframe tbody tr th:only-of-type {\n",
              "        vertical-align: middle;\n",
              "    }\n",
              "\n",
              "    .dataframe tbody tr th {\n",
              "        vertical-align: top;\n",
              "    }\n",
              "\n",
              "    .dataframe thead th {\n",
              "        text-align: right;\n",
              "    }\n",
              "</style>\n",
              "<table border=\"1\" class=\"dataframe\">\n",
              "  <thead>\n",
              "    <tr style=\"text-align: right;\">\n",
              "      <th></th>\n",
              "      <th>avg_salinity</th>\n",
              "      <th>avg_temp</th>\n",
              "      <th>TS</th>\n",
              "    </tr>\n",
              "  </thead>\n",
              "  <tbody>\n",
              "    <tr>\n",
              "      <th>Arctic</th>\n",
              "      <td>32.0</td>\n",
              "      <td>-1.8</td>\n",
              "      <td>-57.6</td>\n",
              "    </tr>\n",
              "    <tr>\n",
              "      <th>Atlantic</th>\n",
              "      <td>35.0</td>\n",
              "      <td>14.0</td>\n",
              "      <td>490.0</td>\n",
              "    </tr>\n",
              "    <tr>\n",
              "      <th>Indian</th>\n",
              "      <td>34.5</td>\n",
              "      <td>22.0</td>\n",
              "      <td>759.0</td>\n",
              "    </tr>\n",
              "    <tr>\n",
              "      <th>Pacific</th>\n",
              "      <td>35.0</td>\n",
              "      <td>20.0</td>\n",
              "      <td>700.0</td>\n",
              "    </tr>\n",
              "    <tr>\n",
              "      <th>Southern</th>\n",
              "      <td>34.7</td>\n",
              "      <td>4.0</td>\n",
              "      <td>138.8</td>\n",
              "    </tr>\n",
              "  </tbody>\n",
              "</table>\n",
              "</div>"
            ],
            "text/plain": [
              "          avg_salinity  avg_temp     TS\n",
              "Arctic            32.0      -1.8  -57.6\n",
              "Atlantic          35.0      14.0  490.0\n",
              "Indian            34.5      22.0  759.0\n",
              "Pacific           35.0      20.0  700.0\n",
              "Southern          34.7       4.0  138.8"
            ]
          },
          "metadata": {
            "tags": []
          },
          "execution_count": 30
        }
      ]
    },
    {
      "cell_type": "markdown",
      "metadata": {
        "id": "-1U1053NbsdC"
      },
      "source": [
        "> Now let's add a row to the Dataframe:"
      ]
    },
    {
      "cell_type": "code",
      "metadata": {
        "colab": {
          "base_uri": "https://localhost:8080/",
          "height": 80
        },
        "id": "0CQiV-qsZykG",
        "outputId": "c6fe5f33-ff94-4c08-fa38-b6e8e5ee0a6b"
      },
      "source": [
        "#create new DataFrame object of global averages\n",
        "values = {'avg_salinity':df.avg_salinity.mean(), \n",
        "          'avg_temp':df.avg_temp.mean(), 'TS':df.TS.mean()}\n",
        "index = ['Global']\n",
        "globe = pd.DataFrame(data=values, index=index)\n",
        "globe"
      ],
      "execution_count": 35,
      "outputs": [
        {
          "output_type": "execute_result",
          "data": {
            "text/html": [
              "<div>\n",
              "<style scoped>\n",
              "    .dataframe tbody tr th:only-of-type {\n",
              "        vertical-align: middle;\n",
              "    }\n",
              "\n",
              "    .dataframe tbody tr th {\n",
              "        vertical-align: top;\n",
              "    }\n",
              "\n",
              "    .dataframe thead th {\n",
              "        text-align: right;\n",
              "    }\n",
              "</style>\n",
              "<table border=\"1\" class=\"dataframe\">\n",
              "  <thead>\n",
              "    <tr style=\"text-align: right;\">\n",
              "      <th></th>\n",
              "      <th>avg_salinity</th>\n",
              "      <th>avg_temp</th>\n",
              "      <th>TS</th>\n",
              "    </tr>\n",
              "  </thead>\n",
              "  <tbody>\n",
              "    <tr>\n",
              "      <th>Global</th>\n",
              "      <td>34.24</td>\n",
              "      <td>11.6</td>\n",
              "      <td>406.04</td>\n",
              "    </tr>\n",
              "  </tbody>\n",
              "</table>\n",
              "</div>"
            ],
            "text/plain": [
              "        avg_salinity  avg_temp      TS\n",
              "Global         34.24      11.6  406.04"
            ]
          },
          "metadata": {
            "tags": []
          },
          "execution_count": 35
        }
      ]
    },
    {
      "cell_type": "code",
      "metadata": {
        "id": "wzgPu5foXh17"
      },
      "source": [
        "df_new = df.append(globe)"
      ],
      "execution_count": 40,
      "outputs": []
    },
    {
      "cell_type": "code",
      "metadata": {
        "colab": {
          "base_uri": "https://localhost:8080/",
          "height": 235
        },
        "id": "BGrKOQxFblcX",
        "outputId": "8e865cd1-1142-4dfc-a4f1-61f9d9f115da"
      },
      "source": [
        "df_new"
      ],
      "execution_count": 41,
      "outputs": [
        {
          "output_type": "execute_result",
          "data": {
            "text/html": [
              "<div>\n",
              "<style scoped>\n",
              "    .dataframe tbody tr th:only-of-type {\n",
              "        vertical-align: middle;\n",
              "    }\n",
              "\n",
              "    .dataframe tbody tr th {\n",
              "        vertical-align: top;\n",
              "    }\n",
              "\n",
              "    .dataframe thead th {\n",
              "        text-align: right;\n",
              "    }\n",
              "</style>\n",
              "<table border=\"1\" class=\"dataframe\">\n",
              "  <thead>\n",
              "    <tr style=\"text-align: right;\">\n",
              "      <th></th>\n",
              "      <th>avg_salinity</th>\n",
              "      <th>avg_temp</th>\n",
              "      <th>TS</th>\n",
              "    </tr>\n",
              "  </thead>\n",
              "  <tbody>\n",
              "    <tr>\n",
              "      <th>Arctic</th>\n",
              "      <td>32.00</td>\n",
              "      <td>-1.8</td>\n",
              "      <td>-57.60</td>\n",
              "    </tr>\n",
              "    <tr>\n",
              "      <th>Atlantic</th>\n",
              "      <td>35.00</td>\n",
              "      <td>14.0</td>\n",
              "      <td>490.00</td>\n",
              "    </tr>\n",
              "    <tr>\n",
              "      <th>Indian</th>\n",
              "      <td>34.50</td>\n",
              "      <td>22.0</td>\n",
              "      <td>759.00</td>\n",
              "    </tr>\n",
              "    <tr>\n",
              "      <th>Pacific</th>\n",
              "      <td>35.00</td>\n",
              "      <td>20.0</td>\n",
              "      <td>700.00</td>\n",
              "    </tr>\n",
              "    <tr>\n",
              "      <th>Southern</th>\n",
              "      <td>34.70</td>\n",
              "      <td>4.0</td>\n",
              "      <td>138.80</td>\n",
              "    </tr>\n",
              "    <tr>\n",
              "      <th>Global</th>\n",
              "      <td>34.24</td>\n",
              "      <td>11.6</td>\n",
              "      <td>406.04</td>\n",
              "    </tr>\n",
              "  </tbody>\n",
              "</table>\n",
              "</div>"
            ],
            "text/plain": [
              "          avg_salinity  avg_temp      TS\n",
              "Arctic           32.00      -1.8  -57.60\n",
              "Atlantic         35.00      14.0  490.00\n",
              "Indian           34.50      22.0  759.00\n",
              "Pacific          35.00      20.0  700.00\n",
              "Southern         34.70       4.0  138.80\n",
              "Global           34.24      11.6  406.04"
            ]
          },
          "metadata": {
            "tags": []
          },
          "execution_count": 41
        }
      ]
    },
    {
      "cell_type": "markdown",
      "metadata": {
        "id": "FbrmucgWrC1Q"
      },
      "source": [
        "> **Find the following in this dataframe:**"
      ]
    },
    {
      "cell_type": "code",
      "metadata": {
        "id": "kaPvkKCTqv1T"
      },
      "source": [
        "#What ocean basin has the coldest average temperature? What is that temperature?\n",
        "df.avg_temp.min()"
      ],
      "execution_count": null,
      "outputs": []
    },
    {
      "cell_type": "code",
      "metadata": {
        "id": "2A8248ysrUAd"
      },
      "source": [
        "df.avg_salinity.plot(kind='bar')"
      ],
      "execution_count": null,
      "outputs": []
    },
    {
      "cell_type": "code",
      "metadata": {
        "id": "J3v_PA7vsEYZ"
      },
      "source": [
        "df.plot(kind='bar')"
      ],
      "execution_count": null,
      "outputs": []
    },
    {
      "cell_type": "markdown",
      "metadata": {
        "id": "0fMRzH3neSui"
      },
      "source": [
        "## A few exercises: GDP per capita in Europe"
      ]
    },
    {
      "cell_type": "code",
      "metadata": {
        "id": "JUgT8tjYsNvI"
      },
      "source": [
        "url = 'https://raw.githubusercontent.com/swcarpentry/python-novice-gapminder/gh-pages/data/gapminder_gdp_europe.csv'\n",
        "gdp = pd.read_csv(url, index_col='country')"
      ],
      "execution_count": 52,
      "outputs": []
    },
    {
      "cell_type": "code",
      "metadata": {
        "colab": {
          "base_uri": "https://localhost:8080/",
          "height": 444
        },
        "id": "TPM7X9rZePfQ",
        "outputId": "7dd3f37d-18ac-4758-c8dc-4eb76fe80b47"
      },
      "source": [
        "gdp.head(10)"
      ],
      "execution_count": 48,
      "outputs": [
        {
          "output_type": "execute_result",
          "data": {
            "text/html": [
              "<div>\n",
              "<style scoped>\n",
              "    .dataframe tbody tr th:only-of-type {\n",
              "        vertical-align: middle;\n",
              "    }\n",
              "\n",
              "    .dataframe tbody tr th {\n",
              "        vertical-align: top;\n",
              "    }\n",
              "\n",
              "    .dataframe thead th {\n",
              "        text-align: right;\n",
              "    }\n",
              "</style>\n",
              "<table border=\"1\" class=\"dataframe\">\n",
              "  <thead>\n",
              "    <tr style=\"text-align: right;\">\n",
              "      <th></th>\n",
              "      <th>gdpPercap_1952</th>\n",
              "      <th>gdpPercap_1957</th>\n",
              "      <th>gdpPercap_1962</th>\n",
              "      <th>gdpPercap_1967</th>\n",
              "      <th>gdpPercap_1972</th>\n",
              "      <th>gdpPercap_1977</th>\n",
              "      <th>gdpPercap_1982</th>\n",
              "      <th>gdpPercap_1987</th>\n",
              "      <th>gdpPercap_1992</th>\n",
              "      <th>gdpPercap_1997</th>\n",
              "      <th>gdpPercap_2002</th>\n",
              "      <th>gdpPercap_2007</th>\n",
              "    </tr>\n",
              "    <tr>\n",
              "      <th>country</th>\n",
              "      <th></th>\n",
              "      <th></th>\n",
              "      <th></th>\n",
              "      <th></th>\n",
              "      <th></th>\n",
              "      <th></th>\n",
              "      <th></th>\n",
              "      <th></th>\n",
              "      <th></th>\n",
              "      <th></th>\n",
              "      <th></th>\n",
              "      <th></th>\n",
              "    </tr>\n",
              "  </thead>\n",
              "  <tbody>\n",
              "    <tr>\n",
              "      <th>Albania</th>\n",
              "      <td>1601.056136</td>\n",
              "      <td>1942.284244</td>\n",
              "      <td>2312.888958</td>\n",
              "      <td>2760.196931</td>\n",
              "      <td>3313.422188</td>\n",
              "      <td>3533.003910</td>\n",
              "      <td>3630.880722</td>\n",
              "      <td>3738.932735</td>\n",
              "      <td>2497.437901</td>\n",
              "      <td>3193.054604</td>\n",
              "      <td>4604.211737</td>\n",
              "      <td>5937.029526</td>\n",
              "    </tr>\n",
              "    <tr>\n",
              "      <th>Austria</th>\n",
              "      <td>6137.076492</td>\n",
              "      <td>8842.598030</td>\n",
              "      <td>10750.721110</td>\n",
              "      <td>12834.602400</td>\n",
              "      <td>16661.625600</td>\n",
              "      <td>19749.422300</td>\n",
              "      <td>21597.083620</td>\n",
              "      <td>23687.826070</td>\n",
              "      <td>27042.018680</td>\n",
              "      <td>29095.920660</td>\n",
              "      <td>32417.607690</td>\n",
              "      <td>36126.492700</td>\n",
              "    </tr>\n",
              "    <tr>\n",
              "      <th>Belgium</th>\n",
              "      <td>8343.105127</td>\n",
              "      <td>9714.960623</td>\n",
              "      <td>10991.206760</td>\n",
              "      <td>13149.041190</td>\n",
              "      <td>16672.143560</td>\n",
              "      <td>19117.974480</td>\n",
              "      <td>20979.845890</td>\n",
              "      <td>22525.563080</td>\n",
              "      <td>25575.570690</td>\n",
              "      <td>27561.196630</td>\n",
              "      <td>30485.883750</td>\n",
              "      <td>33692.605080</td>\n",
              "    </tr>\n",
              "    <tr>\n",
              "      <th>Bosnia and Herzegovina</th>\n",
              "      <td>973.533195</td>\n",
              "      <td>1353.989176</td>\n",
              "      <td>1709.683679</td>\n",
              "      <td>2172.352423</td>\n",
              "      <td>2860.169750</td>\n",
              "      <td>3528.481305</td>\n",
              "      <td>4126.613157</td>\n",
              "      <td>4314.114757</td>\n",
              "      <td>2546.781445</td>\n",
              "      <td>4766.355904</td>\n",
              "      <td>6018.975239</td>\n",
              "      <td>7446.298803</td>\n",
              "    </tr>\n",
              "    <tr>\n",
              "      <th>Bulgaria</th>\n",
              "      <td>2444.286648</td>\n",
              "      <td>3008.670727</td>\n",
              "      <td>4254.337839</td>\n",
              "      <td>5577.002800</td>\n",
              "      <td>6597.494398</td>\n",
              "      <td>7612.240438</td>\n",
              "      <td>8224.191647</td>\n",
              "      <td>8239.854824</td>\n",
              "      <td>6302.623438</td>\n",
              "      <td>5970.388760</td>\n",
              "      <td>7696.777725</td>\n",
              "      <td>10680.792820</td>\n",
              "    </tr>\n",
              "    <tr>\n",
              "      <th>Croatia</th>\n",
              "      <td>3119.236520</td>\n",
              "      <td>4338.231617</td>\n",
              "      <td>5477.890018</td>\n",
              "      <td>6960.297861</td>\n",
              "      <td>9164.090127</td>\n",
              "      <td>11305.385170</td>\n",
              "      <td>13221.821840</td>\n",
              "      <td>13822.583940</td>\n",
              "      <td>8447.794873</td>\n",
              "      <td>9875.604515</td>\n",
              "      <td>11628.388950</td>\n",
              "      <td>14619.222720</td>\n",
              "    </tr>\n",
              "    <tr>\n",
              "      <th>Czech Republic</th>\n",
              "      <td>6876.140250</td>\n",
              "      <td>8256.343918</td>\n",
              "      <td>10136.867130</td>\n",
              "      <td>11399.444890</td>\n",
              "      <td>13108.453600</td>\n",
              "      <td>14800.160620</td>\n",
              "      <td>15377.228550</td>\n",
              "      <td>16310.443400</td>\n",
              "      <td>14297.021220</td>\n",
              "      <td>16048.514240</td>\n",
              "      <td>17596.210220</td>\n",
              "      <td>22833.308510</td>\n",
              "    </tr>\n",
              "    <tr>\n",
              "      <th>Denmark</th>\n",
              "      <td>9692.385245</td>\n",
              "      <td>11099.659350</td>\n",
              "      <td>13583.313510</td>\n",
              "      <td>15937.211230</td>\n",
              "      <td>18866.207210</td>\n",
              "      <td>20422.901500</td>\n",
              "      <td>21688.040480</td>\n",
              "      <td>25116.175810</td>\n",
              "      <td>26406.739850</td>\n",
              "      <td>29804.345670</td>\n",
              "      <td>32166.500060</td>\n",
              "      <td>35278.418740</td>\n",
              "    </tr>\n",
              "    <tr>\n",
              "      <th>Finland</th>\n",
              "      <td>6424.519071</td>\n",
              "      <td>7545.415386</td>\n",
              "      <td>9371.842561</td>\n",
              "      <td>10921.636260</td>\n",
              "      <td>14358.875900</td>\n",
              "      <td>15605.422830</td>\n",
              "      <td>18533.157610</td>\n",
              "      <td>21141.012230</td>\n",
              "      <td>20647.164990</td>\n",
              "      <td>23723.950200</td>\n",
              "      <td>28204.590570</td>\n",
              "      <td>33207.084400</td>\n",
              "    </tr>\n",
              "    <tr>\n",
              "      <th>France</th>\n",
              "      <td>7029.809327</td>\n",
              "      <td>8662.834898</td>\n",
              "      <td>10560.485530</td>\n",
              "      <td>12999.917660</td>\n",
              "      <td>16107.191710</td>\n",
              "      <td>18292.635140</td>\n",
              "      <td>20293.897460</td>\n",
              "      <td>22066.442140</td>\n",
              "      <td>24703.796150</td>\n",
              "      <td>25889.784870</td>\n",
              "      <td>28926.032340</td>\n",
              "      <td>30470.016700</td>\n",
              "    </tr>\n",
              "  </tbody>\n",
              "</table>\n",
              "</div>"
            ],
            "text/plain": [
              "                        gdpPercap_1952  ...  gdpPercap_2007\n",
              "country                                 ...                \n",
              "Albania                    1601.056136  ...     5937.029526\n",
              "Austria                    6137.076492  ...    36126.492700\n",
              "Belgium                    8343.105127  ...    33692.605080\n",
              "Bosnia and Herzegovina      973.533195  ...     7446.298803\n",
              "Bulgaria                   2444.286648  ...    10680.792820\n",
              "Croatia                    3119.236520  ...    14619.222720\n",
              "Czech Republic             6876.140250  ...    22833.308510\n",
              "Denmark                    9692.385245  ...    35278.418740\n",
              "Finland                    6424.519071  ...    33207.084400\n",
              "France                     7029.809327  ...    30470.016700\n",
              "\n",
              "[10 rows x 12 columns]"
            ]
          },
          "metadata": {
            "tags": []
          },
          "execution_count": 48
        }
      ]
    },
    {
      "cell_type": "code",
      "metadata": {
        "colab": {
          "base_uri": "https://localhost:8080/"
        },
        "id": "2ju4uErdev14",
        "outputId": "4877410b-1fa2-44ed-9766-7369e465ee24"
      },
      "source": [
        "# Select Austria by entry position\n",
        "gdp.iloc[1]"
      ],
      "execution_count": 53,
      "outputs": [
        {
          "output_type": "execute_result",
          "data": {
            "text/plain": [
              "gdpPercap_1952     6137.076492\n",
              "gdpPercap_1957     8842.598030\n",
              "gdpPercap_1962    10750.721110\n",
              "gdpPercap_1967    12834.602400\n",
              "gdpPercap_1972    16661.625600\n",
              "gdpPercap_1977    19749.422300\n",
              "gdpPercap_1982    21597.083620\n",
              "gdpPercap_1987    23687.826070\n",
              "gdpPercap_1992    27042.018680\n",
              "gdpPercap_1997    29095.920660\n",
              "gdpPercap_2002    32417.607690\n",
              "gdpPercap_2007    36126.492700\n",
              "Name: Austria, dtype: float64"
            ]
          },
          "metadata": {
            "tags": []
          },
          "execution_count": 53
        }
      ]
    },
    {
      "cell_type": "code",
      "metadata": {
        "colab": {
          "base_uri": "https://localhost:8080/"
        },
        "id": "SZ9_AuYLe8Zg",
        "outputId": "e1104a98-b116-45b7-dbcf-bc6168ed9af9"
      },
      "source": [
        "# Select Austria by entry label\n",
        "gdp.loc['Austria']"
      ],
      "execution_count": 55,
      "outputs": [
        {
          "output_type": "execute_result",
          "data": {
            "text/plain": [
              "gdpPercap_1952     6137.076492\n",
              "gdpPercap_1957     8842.598030\n",
              "gdpPercap_1962    10750.721110\n",
              "gdpPercap_1967    12834.602400\n",
              "gdpPercap_1972    16661.625600\n",
              "gdpPercap_1977    19749.422300\n",
              "gdpPercap_1982    21597.083620\n",
              "gdpPercap_1987    23687.826070\n",
              "gdpPercap_1992    27042.018680\n",
              "gdpPercap_1997    29095.920660\n",
              "gdpPercap_2002    32417.607690\n",
              "gdpPercap_2007    36126.492700\n",
              "Name: Austria, dtype: float64"
            ]
          },
          "metadata": {
            "tags": []
          },
          "execution_count": 55
        }
      ]
    },
    {
      "cell_type": "code",
      "metadata": {
        "colab": {
          "base_uri": "https://localhost:8080/"
        },
        "id": "4UXVbaQMe99y",
        "outputId": "91ae4464-6d90-424d-fbba-0b8f9378454e"
      },
      "source": [
        "# Select/slice to all the rows in Denmark (two ways to do this)\n",
        "gdp.loc['Denmark', :]"
      ],
      "execution_count": 56,
      "outputs": [
        {
          "output_type": "execute_result",
          "data": {
            "text/plain": [
              "gdpPercap_1952     9692.385245\n",
              "gdpPercap_1957    11099.659350\n",
              "gdpPercap_1962    13583.313510\n",
              "gdpPercap_1967    15937.211230\n",
              "gdpPercap_1972    18866.207210\n",
              "gdpPercap_1977    20422.901500\n",
              "gdpPercap_1982    21688.040480\n",
              "gdpPercap_1987    25116.175810\n",
              "gdpPercap_1992    26406.739850\n",
              "gdpPercap_1997    29804.345670\n",
              "gdpPercap_2002    32166.500060\n",
              "gdpPercap_2007    35278.418740\n",
              "Name: Denmark, dtype: float64"
            ]
          },
          "metadata": {
            "tags": []
          },
          "execution_count": 56
        }
      ]
    },
    {
      "cell_type": "code",
      "metadata": {
        "colab": {
          "base_uri": "https://localhost:8080/"
        },
        "id": "JFQmuDTkgar6",
        "outputId": "e7607599-5cec-4f3d-adb1-187766e5cda4"
      },
      "source": [
        "gdp.loc['Denmark']"
      ],
      "execution_count": 57,
      "outputs": [
        {
          "output_type": "execute_result",
          "data": {
            "text/plain": [
              "gdpPercap_1952     9692.385245\n",
              "gdpPercap_1957    11099.659350\n",
              "gdpPercap_1962    13583.313510\n",
              "gdpPercap_1967    15937.211230\n",
              "gdpPercap_1972    18866.207210\n",
              "gdpPercap_1977    20422.901500\n",
              "gdpPercap_1982    21688.040480\n",
              "gdpPercap_1987    25116.175810\n",
              "gdpPercap_1992    26406.739850\n",
              "gdpPercap_1997    29804.345670\n",
              "gdpPercap_2002    32166.500060\n",
              "gdpPercap_2007    35278.418740\n",
              "Name: Denmark, dtype: float64"
            ]
          },
          "metadata": {
            "tags": []
          },
          "execution_count": 57
        }
      ]
    },
    {
      "cell_type": "code",
      "metadata": {
        "colab": {
          "base_uri": "https://localhost:8080/"
        },
        "id": "ALq9vOxFfOMB",
        "outputId": "77cea0d0-417f-4eb0-f70e-68d66ae7d313"
      },
      "source": [
        "# Select/slice to all the countries/rows in the 4th column (two ways to do this)\n",
        "gdp.iloc[:, 3]"
      ],
      "execution_count": 58,
      "outputs": [
        {
          "output_type": "execute_result",
          "data": {
            "text/plain": [
              "country\n",
              "Albania                    2760.196931\n",
              "Austria                   12834.602400\n",
              "Belgium                   13149.041190\n",
              "Bosnia and Herzegovina     2172.352423\n",
              "Bulgaria                   5577.002800\n",
              "Croatia                    6960.297861\n",
              "Czech Republic            11399.444890\n",
              "Denmark                   15937.211230\n",
              "Finland                   10921.636260\n",
              "France                    12999.917660\n",
              "Germany                   14745.625610\n",
              "Greece                     8513.097016\n",
              "Hungary                    9326.644670\n",
              "Iceland                   13319.895680\n",
              "Ireland                    7655.568963\n",
              "Italy                     10022.401310\n",
              "Montenegro                 5907.850937\n",
              "Netherlands               15363.251360\n",
              "Norway                    16361.876470\n",
              "Poland                     6557.152776\n",
              "Portugal                   6361.517993\n",
              "Romania                    6470.866545\n",
              "Serbia                     7991.707066\n",
              "Slovak Republic            8412.902397\n",
              "Slovenia                   9405.489397\n",
              "Spain                      7993.512294\n",
              "Sweden                    15258.296970\n",
              "Switzerland               22966.144320\n",
              "Turkey                     2826.356387\n",
              "United Kingdom            14142.850890\n",
              "Name: gdpPercap_1967, dtype: float64"
            ]
          },
          "metadata": {
            "tags": []
          },
          "execution_count": 58
        }
      ]
    },
    {
      "cell_type": "code",
      "metadata": {
        "colab": {
          "base_uri": "https://localhost:8080/"
        },
        "id": "9qLEjMQOgn5D",
        "outputId": "8efd5fec-38e2-46bb-ff6b-06798714cf95"
      },
      "source": [
        "gdp['gdpPercap_1967']"
      ],
      "execution_count": 61,
      "outputs": [
        {
          "output_type": "execute_result",
          "data": {
            "text/plain": [
              "country\n",
              "Albania                    2760.196931\n",
              "Austria                   12834.602400\n",
              "Belgium                   13149.041190\n",
              "Bosnia and Herzegovina     2172.352423\n",
              "Bulgaria                   5577.002800\n",
              "Croatia                    6960.297861\n",
              "Czech Republic            11399.444890\n",
              "Denmark                   15937.211230\n",
              "Finland                   10921.636260\n",
              "France                    12999.917660\n",
              "Germany                   14745.625610\n",
              "Greece                     8513.097016\n",
              "Hungary                    9326.644670\n",
              "Iceland                   13319.895680\n",
              "Ireland                    7655.568963\n",
              "Italy                     10022.401310\n",
              "Montenegro                 5907.850937\n",
              "Netherlands               15363.251360\n",
              "Norway                    16361.876470\n",
              "Poland                     6557.152776\n",
              "Portugal                   6361.517993\n",
              "Romania                    6470.866545\n",
              "Serbia                     7991.707066\n",
              "Slovak Republic            8412.902397\n",
              "Slovenia                   9405.489397\n",
              "Spain                      7993.512294\n",
              "Sweden                    15258.296970\n",
              "Switzerland               22966.144320\n",
              "Turkey                     2826.356387\n",
              "United Kingdom            14142.850890\n",
              "Name: gdpPercap_1967, dtype: float64"
            ]
          },
          "metadata": {
            "tags": []
          },
          "execution_count": 61
        }
      ]
    },
    {
      "cell_type": "code",
      "metadata": {
        "colab": {
          "base_uri": "https://localhost:8080/",
          "height": 235
        },
        "id": "1h13EqMHfbvD",
        "outputId": "72ac5626-748f-4520-c6e7-c31b317fe193"
      },
      "source": [
        "# Select multiple columns or rows using .loc and a named slice\n",
        "gdp.iloc[20:25, 0:4]"
      ],
      "execution_count": 63,
      "outputs": [
        {
          "output_type": "execute_result",
          "data": {
            "text/html": [
              "<div>\n",
              "<style scoped>\n",
              "    .dataframe tbody tr th:only-of-type {\n",
              "        vertical-align: middle;\n",
              "    }\n",
              "\n",
              "    .dataframe tbody tr th {\n",
              "        vertical-align: top;\n",
              "    }\n",
              "\n",
              "    .dataframe thead th {\n",
              "        text-align: right;\n",
              "    }\n",
              "</style>\n",
              "<table border=\"1\" class=\"dataframe\">\n",
              "  <thead>\n",
              "    <tr style=\"text-align: right;\">\n",
              "      <th></th>\n",
              "      <th>gdpPercap_1952</th>\n",
              "      <th>gdpPercap_1957</th>\n",
              "      <th>gdpPercap_1962</th>\n",
              "      <th>gdpPercap_1967</th>\n",
              "    </tr>\n",
              "    <tr>\n",
              "      <th>country</th>\n",
              "      <th></th>\n",
              "      <th></th>\n",
              "      <th></th>\n",
              "      <th></th>\n",
              "    </tr>\n",
              "  </thead>\n",
              "  <tbody>\n",
              "    <tr>\n",
              "      <th>Portugal</th>\n",
              "      <td>3068.319867</td>\n",
              "      <td>3774.571743</td>\n",
              "      <td>4727.954889</td>\n",
              "      <td>6361.517993</td>\n",
              "    </tr>\n",
              "    <tr>\n",
              "      <th>Romania</th>\n",
              "      <td>3144.613186</td>\n",
              "      <td>3943.370225</td>\n",
              "      <td>4734.997586</td>\n",
              "      <td>6470.866545</td>\n",
              "    </tr>\n",
              "    <tr>\n",
              "      <th>Serbia</th>\n",
              "      <td>3581.459448</td>\n",
              "      <td>4981.090891</td>\n",
              "      <td>6289.629157</td>\n",
              "      <td>7991.707066</td>\n",
              "    </tr>\n",
              "    <tr>\n",
              "      <th>Slovak Republic</th>\n",
              "      <td>5074.659104</td>\n",
              "      <td>6093.262980</td>\n",
              "      <td>7481.107598</td>\n",
              "      <td>8412.902397</td>\n",
              "    </tr>\n",
              "    <tr>\n",
              "      <th>Slovenia</th>\n",
              "      <td>4215.041741</td>\n",
              "      <td>5862.276629</td>\n",
              "      <td>7402.303395</td>\n",
              "      <td>9405.489397</td>\n",
              "    </tr>\n",
              "  </tbody>\n",
              "</table>\n",
              "</div>"
            ],
            "text/plain": [
              "                 gdpPercap_1952  gdpPercap_1957  gdpPercap_1962  gdpPercap_1967\n",
              "country                                                                        \n",
              "Portugal            3068.319867     3774.571743     4727.954889     6361.517993\n",
              "Romania             3144.613186     3943.370225     4734.997586     6470.866545\n",
              "Serbia              3581.459448     4981.090891     6289.629157     7991.707066\n",
              "Slovak Republic     5074.659104     6093.262980     7481.107598     8412.902397\n",
              "Slovenia            4215.041741     5862.276629     7402.303395     9405.489397"
            ]
          },
          "metadata": {
            "tags": []
          },
          "execution_count": 63
        }
      ]
    },
    {
      "cell_type": "markdown",
      "metadata": {
        "id": "5jFQE-4RhFYg"
      },
      "source": [
        "> Can do same statistical operations on the slices"
      ]
    },
    {
      "cell_type": "code",
      "metadata": {
        "colab": {
          "base_uri": "https://localhost:8080/",
          "height": 235
        },
        "id": "vh3EcejHhQCS",
        "outputId": "42ea473d-ede6-4524-c1c1-7a532e388535"
      },
      "source": [
        "gdp.loc['Italy':'Poland', 'gdpPercap_1962':'gdpPercap_1972']"
      ],
      "execution_count": 66,
      "outputs": [
        {
          "output_type": "execute_result",
          "data": {
            "text/html": [
              "<div>\n",
              "<style scoped>\n",
              "    .dataframe tbody tr th:only-of-type {\n",
              "        vertical-align: middle;\n",
              "    }\n",
              "\n",
              "    .dataframe tbody tr th {\n",
              "        vertical-align: top;\n",
              "    }\n",
              "\n",
              "    .dataframe thead th {\n",
              "        text-align: right;\n",
              "    }\n",
              "</style>\n",
              "<table border=\"1\" class=\"dataframe\">\n",
              "  <thead>\n",
              "    <tr style=\"text-align: right;\">\n",
              "      <th></th>\n",
              "      <th>gdpPercap_1962</th>\n",
              "      <th>gdpPercap_1967</th>\n",
              "      <th>gdpPercap_1972</th>\n",
              "    </tr>\n",
              "    <tr>\n",
              "      <th>country</th>\n",
              "      <th></th>\n",
              "      <th></th>\n",
              "      <th></th>\n",
              "    </tr>\n",
              "  </thead>\n",
              "  <tbody>\n",
              "    <tr>\n",
              "      <th>Italy</th>\n",
              "      <td>8243.582340</td>\n",
              "      <td>10022.401310</td>\n",
              "      <td>12269.273780</td>\n",
              "    </tr>\n",
              "    <tr>\n",
              "      <th>Montenegro</th>\n",
              "      <td>4649.593785</td>\n",
              "      <td>5907.850937</td>\n",
              "      <td>7778.414017</td>\n",
              "    </tr>\n",
              "    <tr>\n",
              "      <th>Netherlands</th>\n",
              "      <td>12790.849560</td>\n",
              "      <td>15363.251360</td>\n",
              "      <td>18794.745670</td>\n",
              "    </tr>\n",
              "    <tr>\n",
              "      <th>Norway</th>\n",
              "      <td>13450.401510</td>\n",
              "      <td>16361.876470</td>\n",
              "      <td>18965.055510</td>\n",
              "    </tr>\n",
              "    <tr>\n",
              "      <th>Poland</th>\n",
              "      <td>5338.752143</td>\n",
              "      <td>6557.152776</td>\n",
              "      <td>8006.506993</td>\n",
              "    </tr>\n",
              "  </tbody>\n",
              "</table>\n",
              "</div>"
            ],
            "text/plain": [
              "             gdpPercap_1962  gdpPercap_1967  gdpPercap_1972\n",
              "country                                                    \n",
              "Italy           8243.582340    10022.401310    12269.273780\n",
              "Montenegro      4649.593785     5907.850937     7778.414017\n",
              "Netherlands    12790.849560    15363.251360    18794.745670\n",
              "Norway         13450.401510    16361.876470    18965.055510\n",
              "Poland          5338.752143     6557.152776     8006.506993"
            ]
          },
          "metadata": {
            "tags": []
          },
          "execution_count": 66
        }
      ]
    },
    {
      "cell_type": "code",
      "metadata": {
        "colab": {
          "base_uri": "https://localhost:8080/"
        },
        "id": "3qF8rxBDf-LG",
        "outputId": "fb844151-c263-4064-f2b9-d7e612b50c1e"
      },
      "source": [
        "# Find the maximum gdp values within Italy through Poland, 1962-1972\n",
        "print(gdp.loc['Italy':'Poland', 'gdpPercap_1962':'gdpPercap_1972'].max())"
      ],
      "execution_count": 67,
      "outputs": [
        {
          "output_type": "stream",
          "text": [
            "gdpPercap_1962    13450.40151\n",
            "gdpPercap_1967    16361.87647\n",
            "gdpPercap_1972    18965.05551\n",
            "dtype: float64\n"
          ],
          "name": "stdout"
        }
      ]
    },
    {
      "cell_type": "code",
      "metadata": {
        "colab": {
          "base_uri": "https://localhost:8080/"
        },
        "id": "on8HTmtHhKdt",
        "outputId": "b2b15b2e-9d80-48fc-beab-4c640da5c2b7"
      },
      "source": [
        "# Find the minimum gdp values within Italy through Poland, 1962-1972\n",
        "print(gdp.loc['Italy':'Poland', 'gdpPercap_1962':'gdpPercap_1972'].min())"
      ],
      "execution_count": 68,
      "outputs": [
        {
          "output_type": "stream",
          "text": [
            "gdpPercap_1962    4649.593785\n",
            "gdpPercap_1967    5907.850937\n",
            "gdpPercap_1972    7778.414017\n",
            "dtype: float64\n"
          ],
          "name": "stdout"
        }
      ]
    },
    {
      "cell_type": "markdown",
      "metadata": {
        "id": "kgx8daqMhwWh"
      },
      "source": [
        ">Use comparisons to select data based on value.\n",
        "  - Comparison is applied element by element.\n",
        "  - Returns a similarly-shaped dataframe of `True` and `False`."
      ]
    },
    {
      "cell_type": "code",
      "metadata": {
        "colab": {
          "base_uri": "https://localhost:8080/"
        },
        "id": "MMeGcxyIhl6t",
        "outputId": "3ea45669-5d62-45a4-e9ba-47c2b8bb3545"
      },
      "source": [
        "# Use a subset of data to keep output readable.\n",
        "subset = gdp.loc['Italy':'Poland', 'gdpPercap_1962':'gdpPercap_1972']\n",
        "print('Subset of data:\\n', subset)\n",
        "\n",
        "# Which values were greater than 10000 ?\n",
        "print('\\nWhere are values large?\\n', subset > 10000)"
      ],
      "execution_count": 69,
      "outputs": [
        {
          "output_type": "stream",
          "text": [
            "Subset of data:\n",
            "              gdpPercap_1962  gdpPercap_1967  gdpPercap_1972\n",
            "country                                                    \n",
            "Italy           8243.582340    10022.401310    12269.273780\n",
            "Montenegro      4649.593785     5907.850937     7778.414017\n",
            "Netherlands    12790.849560    15363.251360    18794.745670\n",
            "Norway         13450.401510    16361.876470    18965.055510\n",
            "Poland          5338.752143     6557.152776     8006.506993\n",
            "\n",
            "Where are values large?\n",
            "              gdpPercap_1962  gdpPercap_1967  gdpPercap_1972\n",
            "country                                                    \n",
            "Italy                 False            True            True\n",
            "Montenegro            False           False           False\n",
            "Netherlands            True            True            True\n",
            "Norway                 True            True            True\n",
            "Poland                False           False           False\n"
          ],
          "name": "stdout"
        }
      ]
    },
    {
      "cell_type": "markdown",
      "metadata": {
        "id": "4xJ1udELiPfO"
      },
      "source": [
        "> Select values or NaN using a Boolean mask.\n",
        "  - A frame full of Booleans is sometimes called a mask because of how it can be used.\n"
      ]
    },
    {
      "cell_type": "code",
      "metadata": {
        "colab": {
          "base_uri": "https://localhost:8080/"
        },
        "id": "gJzUdEGeh4Iz",
        "outputId": "14291bce-8867-4f42-bcb0-fd41343baa18"
      },
      "source": [
        "mask = subset > 10000\n",
        "print(subset[mask])"
      ],
      "execution_count": 70,
      "outputs": [
        {
          "output_type": "stream",
          "text": [
            "             gdpPercap_1962  gdpPercap_1967  gdpPercap_1972\n",
            "country                                                    \n",
            "Italy                   NaN     10022.40131     12269.27378\n",
            "Montenegro              NaN             NaN             NaN\n",
            "Netherlands     12790.84956     15363.25136     18794.74567\n",
            "Norway          13450.40151     16361.87647     18965.05551\n",
            "Poland                  NaN             NaN             NaN\n"
          ],
          "name": "stdout"
        }
      ]
    },
    {
      "cell_type": "markdown",
      "metadata": {
        "id": "8wb9MYzOiocC"
      },
      "source": [
        "- Get the value where the mask is true, and NaN (Not a Number) where it is false.\n",
        "- Useful because NaNs are ignored by operations like max, min, average, etc.\n"
      ]
    },
    {
      "cell_type": "code",
      "metadata": {
        "colab": {
          "base_uri": "https://localhost:8080/"
        },
        "id": "nKcTu6R0ifVy",
        "outputId": "e3e74dae-9b61-43bb-f37b-0c752eb9b9e6"
      },
      "source": [
        "print(subset[subset > 10000].describe())"
      ],
      "execution_count": 71,
      "outputs": [
        {
          "output_type": "stream",
          "text": [
            "       gdpPercap_1962  gdpPercap_1967  gdpPercap_1972\n",
            "count        2.000000        3.000000        3.000000\n",
            "mean     13120.625535    13915.843047    16676.358320\n",
            "std        466.373656     3408.589070     3817.597015\n",
            "min      12790.849560    10022.401310    12269.273780\n",
            "25%      12955.737547    12692.826335    15532.009725\n",
            "50%      13120.625535    15363.251360    18794.745670\n",
            "75%      13285.513523    15862.563915    18879.900590\n",
            "max      13450.401510    16361.876470    18965.055510\n"
          ],
          "name": "stdout"
        }
      ]
    },
    {
      "cell_type": "markdown",
      "metadata": {
        "id": "igSnW3pJjDKr"
      },
      "source": [
        "### Group By: split-apply-combine\n",
        "\n",
        ">Pandas vectorizing methods and grouping operations are features that provide users much flexibility to analyse their data.\n",
        "\n",
        ">For instance, let’s say we want to have a clearer view on how the European countries split themselves according to their GDP.\n",
        "  - We may have a glance by splitting the countries in two groups during the years surveyed, those who presented a GDP higher than the European average and those with a lower GDP.\n",
        "  - We then estimate a wealthy score based on the historical (from 1962 to 2007) values, where we account how many times a country has participated in the groups of lower or higher GDP"
      ]
    },
    {
      "cell_type": "code",
      "metadata": {
        "colab": {
          "base_uri": "https://localhost:8080/"
        },
        "id": "PP7VmJ1Vi0Ke",
        "outputId": "6a6417f3-570d-4c12-fdcd-80d4cc286a5f"
      },
      "source": [
        "mask_higher = gdp > gdp.mean()\n",
        "wealth_score = mask_higher.aggregate('sum', axis=1) / len(gdp.columns)\n",
        "wealth_score"
      ],
      "execution_count": 72,
      "outputs": [
        {
          "output_type": "execute_result",
          "data": {
            "text/plain": [
              "country\n",
              "Albania                   0.000000\n",
              "Austria                   1.000000\n",
              "Belgium                   1.000000\n",
              "Bosnia and Herzegovina    0.000000\n",
              "Bulgaria                  0.000000\n",
              "Croatia                   0.000000\n",
              "Czech Republic            0.500000\n",
              "Denmark                   1.000000\n",
              "Finland                   1.000000\n",
              "France                    1.000000\n",
              "Germany                   1.000000\n",
              "Greece                    0.333333\n",
              "Hungary                   0.000000\n",
              "Iceland                   1.000000\n",
              "Ireland                   0.333333\n",
              "Italy                     0.500000\n",
              "Montenegro                0.000000\n",
              "Netherlands               1.000000\n",
              "Norway                    1.000000\n",
              "Poland                    0.000000\n",
              "Portugal                  0.000000\n",
              "Romania                   0.000000\n",
              "Serbia                    0.000000\n",
              "Slovak Republic           0.000000\n",
              "Slovenia                  0.333333\n",
              "Spain                     0.333333\n",
              "Sweden                    1.000000\n",
              "Switzerland               1.000000\n",
              "Turkey                    0.000000\n",
              "United Kingdom            1.000000\n",
              "dtype: float64"
            ]
          },
          "metadata": {
            "tags": []
          },
          "execution_count": 72
        }
      ]
    },
    {
      "cell_type": "markdown",
      "metadata": {
        "id": "vhYwAYRhjdX5"
      },
      "source": [
        "> Finally, for each group in the wealth_score table, we sum their (financial) contribution across the years surveyed using chained methods:"
      ]
    },
    {
      "cell_type": "code",
      "metadata": {
        "colab": {
          "base_uri": "https://localhost:8080/",
          "height": 193
        },
        "id": "pSKyx2mQjco5",
        "outputId": "70087e2e-f15f-4a2b-ec6e-f64d1d6e70dd"
      },
      "source": [
        "gdp.groupby(wealth_score).sum()"
      ],
      "execution_count": 74,
      "outputs": [
        {
          "output_type": "execute_result",
          "data": {
            "text/html": [
              "<div>\n",
              "<style scoped>\n",
              "    .dataframe tbody tr th:only-of-type {\n",
              "        vertical-align: middle;\n",
              "    }\n",
              "\n",
              "    .dataframe tbody tr th {\n",
              "        vertical-align: top;\n",
              "    }\n",
              "\n",
              "    .dataframe thead th {\n",
              "        text-align: right;\n",
              "    }\n",
              "</style>\n",
              "<table border=\"1\" class=\"dataframe\">\n",
              "  <thead>\n",
              "    <tr style=\"text-align: right;\">\n",
              "      <th></th>\n",
              "      <th>gdpPercap_1952</th>\n",
              "      <th>gdpPercap_1957</th>\n",
              "      <th>gdpPercap_1962</th>\n",
              "      <th>gdpPercap_1967</th>\n",
              "      <th>gdpPercap_1972</th>\n",
              "      <th>gdpPercap_1977</th>\n",
              "      <th>gdpPercap_1982</th>\n",
              "      <th>gdpPercap_1987</th>\n",
              "      <th>gdpPercap_1992</th>\n",
              "      <th>gdpPercap_1997</th>\n",
              "      <th>gdpPercap_2002</th>\n",
              "      <th>gdpPercap_2007</th>\n",
              "    </tr>\n",
              "  </thead>\n",
              "  <tbody>\n",
              "    <tr>\n",
              "      <th>0.000000</th>\n",
              "      <td>36916.854200</td>\n",
              "      <td>46110.918793</td>\n",
              "      <td>56850.065437</td>\n",
              "      <td>71324.848786</td>\n",
              "      <td>88569.346898</td>\n",
              "      <td>104459.358438</td>\n",
              "      <td>113553.768507</td>\n",
              "      <td>119649.599409</td>\n",
              "      <td>92380.047256</td>\n",
              "      <td>103772.937598</td>\n",
              "      <td>118590.929863</td>\n",
              "      <td>149577.357928</td>\n",
              "    </tr>\n",
              "    <tr>\n",
              "      <th>0.333333</th>\n",
              "      <td>16790.046878</td>\n",
              "      <td>20942.456800</td>\n",
              "      <td>25744.935321</td>\n",
              "      <td>33567.667670</td>\n",
              "      <td>45277.839976</td>\n",
              "      <td>53860.456750</td>\n",
              "      <td>59679.634020</td>\n",
              "      <td>64436.912960</td>\n",
              "      <td>67918.093220</td>\n",
              "      <td>80876.051580</td>\n",
              "      <td>102086.795210</td>\n",
              "      <td>122803.729520</td>\n",
              "    </tr>\n",
              "    <tr>\n",
              "      <th>0.500000</th>\n",
              "      <td>11807.544405</td>\n",
              "      <td>14505.000150</td>\n",
              "      <td>18380.449470</td>\n",
              "      <td>21421.846200</td>\n",
              "      <td>25377.727380</td>\n",
              "      <td>29056.145370</td>\n",
              "      <td>31914.712050</td>\n",
              "      <td>35517.678220</td>\n",
              "      <td>36310.666080</td>\n",
              "      <td>40723.538700</td>\n",
              "      <td>45564.308390</td>\n",
              "      <td>51403.028210</td>\n",
              "    </tr>\n",
              "    <tr>\n",
              "      <th>1.000000</th>\n",
              "      <td>104317.277560</td>\n",
              "      <td>127332.008735</td>\n",
              "      <td>149989.154201</td>\n",
              "      <td>178000.350040</td>\n",
              "      <td>215162.343140</td>\n",
              "      <td>241143.412730</td>\n",
              "      <td>263388.781960</td>\n",
              "      <td>296825.131210</td>\n",
              "      <td>315238.235970</td>\n",
              "      <td>346930.926170</td>\n",
              "      <td>385109.939210</td>\n",
              "      <td>427850.333420</td>\n",
              "    </tr>\n",
              "  </tbody>\n",
              "</table>\n",
              "</div>"
            ],
            "text/plain": [
              "          gdpPercap_1952  gdpPercap_1957  ...  gdpPercap_2002  gdpPercap_2007\n",
              "0.000000    36916.854200    46110.918793  ...   118590.929863   149577.357928\n",
              "0.333333    16790.046878    20942.456800  ...   102086.795210   122803.729520\n",
              "0.500000    11807.544405    14505.000150  ...    45564.308390    51403.028210\n",
              "1.000000   104317.277560   127332.008735  ...   385109.939210   427850.333420\n",
              "\n",
              "[4 rows x 12 columns]"
            ]
          },
          "metadata": {
            "tags": []
          },
          "execution_count": 74
        }
      ]
    },
    {
      "cell_type": "code",
      "metadata": {
        "id": "pQq3a9HejYIb"
      },
      "source": [
        ""
      ],
      "execution_count": null,
      "outputs": []
    },
    {
      "cell_type": "markdown",
      "metadata": {
        "id": "4pRODMKUj50F"
      },
      "source": [
        "# **SciPy**\n",
        "\n",
        "## is a Python-based ecosystem of open-source software for mathematics, science, and engineering. In particular, these are some of the core packages: \n",
        "  - SciPy\n",
        "  - NumPy\n",
        "  - Pandas\n",
        "  - Matplotlib\n",
        "  - SymPy\n",
        "\n",
        "Check out their [User Guide](https://docs.scipy.org/doc/scipy/reference/tutorial/index.html)"
      ]
    },
    {
      "cell_type": "code",
      "metadata": {
        "id": "UJl7d91Tj8NB"
      },
      "source": [
        ""
      ],
      "execution_count": null,
      "outputs": []
    }
  ]
}