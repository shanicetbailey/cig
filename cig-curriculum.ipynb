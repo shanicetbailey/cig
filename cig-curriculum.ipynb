{
 "cells": [
  {
   "cell_type": "markdown",
   "metadata": {},
   "source": [
    "# <font color='green' size='8'> Data Analaysis & Manipulation with Xarray </span>\n",
    "Shanice Bailey"
   ]
  },
  {
   "cell_type": "markdown",
   "metadata": {},
   "source": [
    "## Overview\n",
    "> Xarray is a num-focus sponsored project with an active open-source development community around the world, and a Python package that enables one to efficiently analyze and manipulate labelled, multi-dimensional data. Xarray can be used for small and large data, and is applicable in many scientific fields, such as, natural sciences, neuroscience, astrophysics, biomedical engineering, etc. This curriculum serves as an introduction to the fundamentals of Xarray and an endeavor to exploit the potential of its applicability to your data! This curriculum borrows heavily from Xarray's documentation which can be found [here](http://xarray.pydata.org/en/stable/)."
   ]
  },
  {
   "cell_type": "markdown",
   "metadata": {},
   "source": [
    "## Lesson: Xarray Fundamentals\n",
    "> <font color='Blue' size='4'> 1. DataArray/Dataset Creation <br>\n",
    "2. Basic Indexing and Interpolation <br>\n",
    "3. Basic Computation <br>\n",
    "4. Basic Plotting \n",
    "    </font>"
   ]
  },
  {
   "cell_type": "markdown",
   "metadata": {},
   "source": [
    "## Prerequisites\n",
    "> 1. Basic Python (familiar with Pandas and Numpy) <br>"
   ]
  },
  {
   "cell_type": "markdown",
   "metadata": {},
   "source": [
    "## <font color='blue'><font size='6'> <center> 1. DataArray / Dataset Creation </center> </font>"
   ]
  },
  {
   "cell_type": "markdown",
   "metadata": {},
   "source": [
    "## <font size='6'> Goals:\n",
    "> * Create xarray `DataArrays` and `DataSets` out of raw numpy arrays\n",
    "> * Create xarray objects with and without indexes\n",
    "> * Load xarray datasets from netCDF files and openDAP servers\n",
    "> * View and set attributes    \n",
    "</font>"
   ]
  },
  {
   "cell_type": "markdown",
   "metadata": {},
   "source": [
    "`DataArrays` and `Datasets` in Xarray are similar to the idea of `Series` and `Dataframe` in Pandas. DataArrays are labelled, multi-dimensional arrays with the following key properties:\n",
    "- `values`: a numpy.ndarray holding the array’s values\n",
    "- `dims`: dimension names for each axis (e.g., `('x', 'y', 'z')`)\n",
    "- `coords`: a dict-like container of arrays (_coordinates_) that label each point (e.g., 1-dimensional arrays of numbers, datetime objects or strings)\n",
    "- `attrs` : dict to hold arbitrary metadata (_attributes_)\n",
    "\n",
    "Dimensions provide names that xarray uses instead of the axis argument found in many numpy functions. Coordinates enable fast label-based indexing and alignment, building on the functionality of the index found on a pandas DataFrame or Series. DataArray objects also can have a name and can hold arbitrary metadata in the form of their attrs property."
   ]
  },
  {
   "cell_type": "markdown",
   "metadata": {},
   "source": [
    "## Create a DataArray"
   ]
  },
  {
   "cell_type": "code",
   "execution_count": 3,
   "metadata": {},
   "outputs": [
    {
     "data": {
      "text/plain": [
       "<xarray.core.options.set_options at 0x7f0cfa7c9c50>"
      ]
     },
     "execution_count": 3,
     "metadata": {},
     "output_type": "execute_result"
    }
   ],
   "source": [
    "import xarray as xr\n",
    "xr.set_options(display_style='text')"
   ]
  },
  {
   "cell_type": "code",
   "execution_count": 4,
   "metadata": {},
   "outputs": [
    {
     "data": {
      "text/html": [
       "<pre>&lt;xarray.DataArray (x: 5)&gt;\n",
       "array([9, 0, 2, 1, 0])\n",
       "Coordinates:\n",
       "  * x        (x) int64 10 20 30 40 50</pre>"
      ],
      "text/plain": [
       "<xarray.DataArray (x: 5)>\n",
       "array([9, 0, 2, 1, 0])\n",
       "Coordinates:\n",
       "  * x        (x) int64 10 20 30 40 50"
      ]
     },
     "execution_count": 4,
     "metadata": {},
     "output_type": "execute_result"
    }
   ],
   "source": [
    "da = xr.DataArray([9,0,2,1,0], dims=['x'], coords={'x':[10,20,30,40,50]})\n",
    "da"
   ]
  },
  {
   "cell_type": "markdown",
   "metadata": {},
   "source": [
    "> <font size='4'>**Explore the properties of your DataArray by typing `da.print()`, `da.data`, `da.dims`, `da.coords()` and `da.indexes`.**"
   ]
  },
  {
   "cell_type": "markdown",
   "metadata": {},
   "source": [
    "<font size='4'>Now let's create a DataArray with real data. Download the npz Argo float file using this link: http://www.ldeo.columbia.edu/~rpa/argo_float_4901412.npz. </font>\n",
    "```\n",
    "! wget http://www.ldeo.columbia.edu/~rpa/argo_float_4901412.npz\n",
    "    ```"
   ]
  },
  {
   "cell_type": "code",
   "execution_count": 7,
   "metadata": {},
   "outputs": [],
   "source": [
    "import numpy as np"
   ]
  },
  {
   "cell_type": "code",
   "execution_count": 10,
   "metadata": {},
   "outputs": [
    {
     "data": {
      "text/plain": [
       "['S', 'T', 'levels', 'lon', 'date', 'P', 'lat']"
      ]
     },
     "execution_count": 10,
     "metadata": {},
     "output_type": "execute_result"
    }
   ],
   "source": [
    "#Load in argo data\n",
    "argo_data = np.load('argo_float_4901412.npz')\n",
    "\n",
    "#Read the data keys\n",
    "list(argo_data.keys())"
   ]
  },
  {
   "cell_type": "code",
   "execution_count": 13,
   "metadata": {},
   "outputs": [
    {
     "name": "stdout",
     "output_type": "stream",
     "text": [
      "(78, 75) (75,) (75,)\n"
     ]
    }
   ],
   "source": [
    "# Create arrays with the keys' values\n",
    "S = argo_data.f.S\n",
    "T = argo_data.f.T\n",
    "P = argo_data.f.P\n",
    "level = argo_data.f.levels\n",
    "lon = argo_data.f.lon\n",
    "lat = argo_data.f.lat\n",
    "date = argo_data.f.date\n",
    "\n",
    "#print the shape of the vars\n",
    "print(S.shape, lon.shape, date.shape)"
   ]
  },
  {
   "cell_type": "code",
   "execution_count": 14,
   "metadata": {},
   "outputs": [
    {
     "data": {
      "text/html": [
       "<pre>&lt;xarray.DataArray (level: 78, date: 75)&gt;\n",
       "array([[35.6389389 , 35.51495743, 35.57297134, ..., 35.82093811,\n",
       "        35.77793884, 35.66891098],\n",
       "       [35.63393784, 35.5219574 , 35.57397079, ..., 35.81093216,\n",
       "        35.58389664, 35.66791153],\n",
       "       [35.6819458 , 35.52595901, 35.57297134, ..., 35.79592896,\n",
       "        35.66290665, 35.66591263],\n",
       "       ...,\n",
       "       [34.91585922, 34.92390442, 34.92390442, ..., 34.93481064,\n",
       "        34.94081116, 34.94680786],\n",
       "       [34.91585922, 34.92390442, 34.92190552, ..., 34.93280792,\n",
       "        34.93680954, 34.94380951],\n",
       "       [34.91785812, 34.92390442, 34.92390442, ...,         nan,\n",
       "        34.93680954,         nan]])\n",
       "Coordinates:\n",
       "  * level    (level) int64 0 1 2 3 4 5 6 7 8 9 ... 68 69 70 71 72 73 74 75 76 77\n",
       "  * date     (date) datetime64[ns] 2012-07-13T22:33:06.019200 ... 2014-07-24T03:02:33.014400</pre>"
      ],
      "text/plain": [
       "<xarray.DataArray (level: 78, date: 75)>\n",
       "array([[35.6389389 , 35.51495743, 35.57297134, ..., 35.82093811,\n",
       "        35.77793884, 35.66891098],\n",
       "       [35.63393784, 35.5219574 , 35.57397079, ..., 35.81093216,\n",
       "        35.58389664, 35.66791153],\n",
       "       [35.6819458 , 35.52595901, 35.57297134, ..., 35.79592896,\n",
       "        35.66290665, 35.66591263],\n",
       "       ...,\n",
       "       [34.91585922, 34.92390442, 34.92390442, ..., 34.93481064,\n",
       "        34.94081116, 34.94680786],\n",
       "       [34.91585922, 34.92390442, 34.92190552, ..., 34.93280792,\n",
       "        34.93680954, 34.94380951],\n",
       "       [34.91785812, 34.92390442, 34.92390442, ...,         nan,\n",
       "        34.93680954,         nan]])\n",
       "Coordinates:\n",
       "  * level    (level) int64 0 1 2 3 4 5 6 7 8 9 ... 68 69 70 71 72 73 74 75 76 77\n",
       "  * date     (date) datetime64[ns] 2012-07-13T22:33:06.019200 ... 2014-07-24T03:02:33.014400"
      ]
     },
     "execution_count": 14,
     "metadata": {},
     "output_type": "execute_result"
    }
   ],
   "source": [
    "#create data array for salinity variable that has 2 dimensions \n",
    "#(we can name dims whatever we want, but best practice is to label dims with practical names)\n",
    "da_salinity = xr.DataArray(S, dims=['level', 'date'], coords={'level':level, 'date':date})\n",
    "\n",
    "da_salinity"
   ]
  },
  {
   "cell_type": "code",
   "execution_count": 16,
   "metadata": {},
   "outputs": [
    {
     "data": {
      "text/html": [
       "<pre>&lt;xarray.DataArray (level: 78, date: 75)&gt;\n",
       "array([[35.6389389 , 35.51495743, 35.57297134, ..., 35.82093811,\n",
       "        35.77793884, 35.66891098],\n",
       "       [35.63393784, 35.5219574 , 35.57397079, ..., 35.81093216,\n",
       "        35.58389664, 35.66791153],\n",
       "       [35.6819458 , 35.52595901, 35.57297134, ..., 35.79592896,\n",
       "        35.66290665, 35.66591263],\n",
       "       ...,\n",
       "       [34.91585922, 34.92390442, 34.92390442, ..., 34.93481064,\n",
       "        34.94081116, 34.94680786],\n",
       "       [34.91585922, 34.92390442, 34.92190552, ..., 34.93280792,\n",
       "        34.93680954, 34.94380951],\n",
       "       [34.91785812, 34.92390442, 34.92390442, ...,         nan,\n",
       "        34.93680954,         nan]])\n",
       "Coordinates:\n",
       "  * level    (level) int64 0 1 2 3 4 5 6 7 8 9 ... 68 69 70 71 72 73 74 75 76 77\n",
       "  * date     (date) datetime64[ns] 2012-07-13T22:33:06.019200 ... 2014-07-24T03:02:33.014400\n",
       "Attributes:\n",
       "    units:          PSU\n",
       "    standard_name:  sea_water_salinity</pre>"
      ],
      "text/plain": [
       "<xarray.DataArray (level: 78, date: 75)>\n",
       "array([[35.6389389 , 35.51495743, 35.57297134, ..., 35.82093811,\n",
       "        35.77793884, 35.66891098],\n",
       "       [35.63393784, 35.5219574 , 35.57397079, ..., 35.81093216,\n",
       "        35.58389664, 35.66791153],\n",
       "       [35.6819458 , 35.52595901, 35.57297134, ..., 35.79592896,\n",
       "        35.66290665, 35.66591263],\n",
       "       ...,\n",
       "       [34.91585922, 34.92390442, 34.92390442, ..., 34.93481064,\n",
       "        34.94081116, 34.94680786],\n",
       "       [34.91585922, 34.92390442, 34.92190552, ..., 34.93280792,\n",
       "        34.93680954, 34.94380951],\n",
       "       [34.91785812, 34.92390442, 34.92390442, ...,         nan,\n",
       "        34.93680954,         nan]])\n",
       "Coordinates:\n",
       "  * level    (level) int64 0 1 2 3 4 5 6 7 8 9 ... 68 69 70 71 72 73 74 75 76 77\n",
       "  * date     (date) datetime64[ns] 2012-07-13T22:33:06.019200 ... 2014-07-24T03:02:33.014400\n",
       "Attributes:\n",
       "    units:          PSU\n",
       "    standard_name:  sea_water_salinity"
      ]
     },
     "execution_count": 16,
     "metadata": {},
     "output_type": "execute_result"
    }
   ],
   "source": [
    "#set some attributes, like units\n",
    "da_salinity.attrs['units'] = 'PSU'\n",
    "da_salinity.attrs['standard_name'] = 'sea_water_salinity'\n",
    "da_salinity"
   ]
  },
  {
   "cell_type": "markdown",
   "metadata": {},
   "source": [
    "## Create a DataSet\n",
    "We will not create a dataset from the Argo float data"
   ]
  },
  {
   "cell_type": "code",
   "execution_count": 17,
   "metadata": {},
   "outputs": [
    {
     "data": {
      "text/html": [
       "<pre>&lt;xarray.Dataset&gt;\n",
       "Dimensions:      (date: 75, level: 78)\n",
       "Coordinates:\n",
       "  * level        (level) int64 0 1 2 3 4 5 6 7 8 ... 69 70 71 72 73 74 75 76 77\n",
       "  * date         (date) datetime64[ns] 2012-07-13T22:33:06.019200 ... 2014-07-24T03:02:33.014400\n",
       "Data variables:\n",
       "    salinity     (level, date) float64 35.64 35.51 35.57 35.4 ... nan 34.94 nan\n",
       "    temperature  (level, date) float64 18.97 18.44 19.1 19.79 ... nan 3.714 nan\n",
       "    pressure     (level, date) float64 6.8 6.1 6.5 5.0 ... 2e+03 nan 2e+03 nan</pre>"
      ],
      "text/plain": [
       "<xarray.Dataset>\n",
       "Dimensions:      (date: 75, level: 78)\n",
       "Coordinates:\n",
       "  * level        (level) int64 0 1 2 3 4 5 6 7 8 ... 69 70 71 72 73 74 75 76 77\n",
       "  * date         (date) datetime64[ns] 2012-07-13T22:33:06.019200 ... 2014-07-24T03:02:33.014400\n",
       "Data variables:\n",
       "    salinity     (level, date) float64 35.64 35.51 35.57 35.4 ... nan 34.94 nan\n",
       "    temperature  (level, date) float64 18.97 18.44 19.1 19.79 ... nan 3.714 nan\n",
       "    pressure     (level, date) float64 6.8 6.1 6.5 5.0 ... 2e+03 nan 2e+03 nan"
      ]
     },
     "execution_count": 17,
     "metadata": {},
     "output_type": "execute_result"
    }
   ],
   "source": [
    "ds = xr.Dataset(data_vars={'salinity': (('level', 'date'), S), \n",
    "                           'temperature': (('level', 'date'), T),\n",
    "                           'pressure': (('level', 'date'), P)},\n",
    "                coords={'level': level, 'date': date})\n",
    "\n",
    "# dimensions are ('level', 'date') and data values are S, T, P. So different values share same dimensions here\n",
    "# the arrays have to share the same coords but can have different dims\n",
    "\n",
    "ds"
   ]
  },
  {
   "cell_type": "markdown",
   "metadata": {},
   "source": [
    "> <font size='3'> **You can look at individual variables (var) and explore their properties using the `ds.<var>` or `ds['<var>']` syntax.** </font>"
   ]
  },
  {
   "cell_type": "markdown",
   "metadata": {},
   "source": [
    "## <font color='blue'><font size='6'> <center> 2. Basic Indexing and Interpolation </center> </font>"
   ]
  },
  {
   "cell_type": "markdown",
   "metadata": {},
   "source": [
    "## <font color='blue'><font size='6'> <center> 3. Basic Computation </center> </font>"
   ]
  },
  {
   "cell_type": "markdown",
   "metadata": {},
   "source": [
    "## <font color='blue'><font size='6'> <center> 4. Basic Plotting </center> </font>"
   ]
  },
  {
   "cell_type": "markdown",
   "metadata": {},
   "source": [
    "## <font color='blue'> "
   ]
  },
  {
   "cell_type": "code",
   "execution_count": null,
   "metadata": {},
   "outputs": [],
   "source": []
  }
 ],
 "metadata": {
  "kernelspec": {
   "display_name": "Python 3",
   "language": "python",
   "name": "python3"
  },
  "language_info": {
   "codemirror_mode": {
    "name": "ipython",
    "version": 3
   },
   "file_extension": ".py",
   "mimetype": "text/x-python",
   "name": "python",
   "nbconvert_exporter": "python",
   "pygments_lexer": "ipython3",
   "version": "3.7.3"
  }
 },
 "nbformat": 4,
 "nbformat_minor": 4
}
