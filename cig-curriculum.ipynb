{
 "cells": [
  {
   "cell_type": "markdown",
   "metadata": {},
   "source": [
    "# <font color='green' size='8'> Data Analaysis & Manipulation with Xarray </span>\n",
    "Shanice Bailey"
   ]
  },
  {
   "cell_type": "markdown",
   "metadata": {},
   "source": [
    "## Overview\n",
    "> Xarray is a num-focus sponsored project with an active open-source development community around the world, and a Python package that enables one to efficiently analyze and manipulate labelled, multi-dimensional data. Xarray can be used for small and large data, and is applicable in many scientific fields, such as, natural sciences, neuroscience, astrophysics, biomedical engineering, etc. This curriculum serves as an introduction to the fundamentals of Xarray and an endeavor to exploit the potential of its applicability to your data! Xarray's documentation can be found [here](http://xarray.pydata.org/en/stable/)."
   ]
  },
  {
   "cell_type": "markdown",
   "metadata": {},
   "source": [
    "## Lessons:\n",
    "> <font color='Blue' size='4'> 1. Xarray Fundamentals <br>\n",
    "2. Basic Indexing and Interpolation <br>\n",
    "3. Basic Computation <br>\n",
    "4. Basic Plotting \n",
    "    </font>"
   ]
  },
  {
   "cell_type": "markdown",
   "metadata": {},
   "source": [
    "## <font color='blue'> 1. Xarray Fundamentals"
   ]
  },
  {
   "cell_type": "markdown",
   "metadata": {},
   "source": [
    "## <font color='blue'> 2. Basic Indexing and Interpolation"
   ]
  },
  {
   "cell_type": "markdown",
   "metadata": {},
   "source": [
    "## <font color='blue'> 3. Basic Computation"
   ]
  },
  {
   "cell_type": "markdown",
   "metadata": {},
   "source": [
    "## <font color='blue'> 4. Basic Plotting"
   ]
  },
  {
   "cell_type": "code",
   "execution_count": null,
   "metadata": {},
   "outputs": [],
   "source": []
  }
 ],
 "metadata": {
  "kernelspec": {
   "display_name": "Python 3",
   "language": "python",
   "name": "python3"
  },
  "language_info": {
   "codemirror_mode": {
    "name": "ipython",
    "version": 3
   },
   "file_extension": ".py",
   "mimetype": "text/x-python",
   "name": "python",
   "nbconvert_exporter": "python",
   "pygments_lexer": "ipython3",
   "version": "3.7.3"
  }
 },
 "nbformat": 4,
 "nbformat_minor": 4
}
